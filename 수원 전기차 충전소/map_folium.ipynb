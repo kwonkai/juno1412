{
 "cells": [
  {
   "cell_type": "code",
   "execution_count": null,
   "metadata": {},
   "outputs": [],
   "source": [
    "#!pip install folium"
   ]
  },
  {
   "cell_type": "code",
   "execution_count": 1,
   "metadata": {},
   "outputs": [],
   "source": [
    "import pandas as pd\n",
    "import numpy as np\n",
    "import seaborn as sns\n",
    "import matplotlib.pyplot as plt\n",
    "import folium"
   ]
  },
  {
   "cell_type": "code",
   "execution_count": null,
   "metadata": {},
   "outputs": [],
   "source": [
    "# 전기차 충전소 설치현황 데이터\n",
    "data = pd.read_csv('C:/Users/kwonk/Downloads/개인 프로젝트/juno1412-1/수원 전기차 충전소/data-files/경기도 수원시_전기차충전소 설치 현황_20211130.csv')\n",
    "data.head(20)"
   ]
  },
  {
   "cell_type": "code",
   "execution_count": null,
   "metadata": {},
   "outputs": [],
   "source": [
    "# sk엔크린\n",
    "m = folium.Map(location=[37.308128,126.996455], zoom_start=14) \n",
    "\n",
    "# 롯데마트\n",
    "folium.Marker([37.295945,126.982536], popup='<b>parking</b>', tooltip='<i>롯데마트 주차장<i>').add_to(m)\n",
    "# 수원종합운동장\n",
    "folium.Marker([37.299335,127.007841], popup='<b>parking</b>', tooltip='<i>수원종합운동장<i>').add_to(m)\n",
    "\n",
    "# 마커 생성\n",
    "m = folium.Map(location=[37.308128,126.996455], zoom_start=14)\n",
    "m.add_child(folium.ClickForMarker(popup='ClickForMarker'))\n"
   ]
  },
  {
   "cell_type": "code",
   "execution_count": null,
   "metadata": {},
   "outputs": [],
   "source": [
    "import json\n",
    "\n",
    "m = folium.Map([37, 126], zoom_state=6)\n",
    "\n",
    "folium.Choropleth(\n",
    "    \n",
    ")"
   ]
  }
 ],
 "metadata": {
  "interpreter": {
   "hash": "2049c80de9ec6ca28aa42fa305d961a93ce1b546cc2e570f437a9b0fe8b79f6b"
  },
  "kernelspec": {
   "display_name": "Python 3.9.9 ('kwonjh')",
   "language": "python",
   "name": "python3"
  },
  "language_info": {
   "codemirror_mode": {
    "name": "ipython",
    "version": 3
   },
   "file_extension": ".py",
   "mimetype": "text/x-python",
   "name": "python",
   "nbconvert_exporter": "python",
   "pygments_lexer": "ipython3",
   "version": "3.9.9"
  },
  "orig_nbformat": 4
 },
 "nbformat": 4,
 "nbformat_minor": 2
}
