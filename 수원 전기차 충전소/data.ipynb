{
 "cells": [
  {
   "cell_type": "markdown",
   "metadata": {},
   "source": [
    "라이브러리 셋팅"
   ]
  },
  {
   "cell_type": "code",
<<<<<<< HEAD
   "execution_count": 209,
=======
   "execution_count": 1,
>>>>>>> ef2b3739dfc61108e9b9589be2632c02b50dbf79
   "metadata": {},
   "outputs": [],
   "source": [
    "import pandas as pd\n",
    "import numpy as np\n",
    "import seaborn as sns\n",
    "import matplotlib.pyplot as plt"
   ]
  },
  {
   "cell_type": "markdown",
   "metadata": {},
   "source": [
    "한글 폰트 입력 -> 깨짐 방지"
   ]
  },
  {
   "cell_type": "code",
<<<<<<< HEAD
   "execution_count": 210,
=======
   "execution_count": 2,
>>>>>>> ef2b3739dfc61108e9b9589be2632c02b50dbf79
   "metadata": {},
   "outputs": [],
   "source": [
    "# 한글 폰트 사용을 위해서 세팅\n",
    "from matplotlib import font_manager, rc\n",
    "font_path = \"C:/Windows/Fonts/NGULIM.TTF\"\n",
    "font = font_manager.FontProperties(fname=font_path).get_name()\n",
    "rc('font', family=font)"
   ]
  },
  {
   "cell_type": "markdown",
   "metadata": {},
   "source": [
    "데이터 가져오기(전국 친환경차, 수원 친환경차)"
   ]
  },
  {
   "cell_type": "code",
<<<<<<< HEAD
   "execution_count": 211,
=======
   "execution_count": 3,
>>>>>>> ef2b3739dfc61108e9b9589be2632c02b50dbf79
   "metadata": {},
   "outputs": [
    {
     "data": {
      "text/html": [
       "<div>\n",
       "<style scoped>\n",
       "    .dataframe tbody tr th:only-of-type {\n",
       "        vertical-align: middle;\n",
       "    }\n",
       "\n",
       "    .dataframe tbody tr th {\n",
       "        vertical-align: top;\n",
       "    }\n",
       "\n",
       "    .dataframe thead th {\n",
       "        text-align: right;\n",
       "    }\n",
       "</style>\n",
       "<table border=\"1\" class=\"dataframe\">\n",
       "  <thead>\n",
       "    <tr style=\"text-align: right;\">\n",
       "      <th></th>\n",
       "      <th>구 분</th>\n",
       "      <th>‘14말</th>\n",
       "      <th>‘15말</th>\n",
       "      <th>‘16말</th>\n",
       "      <th>‘17말</th>\n",
       "      <th>‘18말</th>\n",
       "      <th>‘19말</th>\n",
       "      <th>‘20말</th>\n",
       "      <th>‘21.7월</th>\n",
       "    </tr>\n",
       "  </thead>\n",
       "  <tbody>\n",
       "    <tr>\n",
       "      <th>0</th>\n",
       "      <td>계</td>\n",
       "      <td>140,297</td>\n",
       "      <td>180,361</td>\n",
       "      <td>244,158</td>\n",
       "      <td>339,134</td>\n",
       "      <td>461,733</td>\n",
       "      <td>601,048</td>\n",
       "      <td>820,329</td>\n",
       "      <td>1,003,539</td>\n",
       "    </tr>\n",
       "    <tr>\n",
       "      <th>1</th>\n",
       "      <td>하이브리드차</td>\n",
       "      <td>137,522</td>\n",
       "      <td>174,620</td>\n",
       "      <td>233,216</td>\n",
       "      <td>313,856</td>\n",
       "      <td>405,084</td>\n",
       "      <td>506,047</td>\n",
       "      <td>674,461</td>\n",
       "      <td>806,808</td>\n",
       "    </tr>\n",
       "    <tr>\n",
       "      <th>2</th>\n",
       "      <td>전기차</td>\n",
       "      <td>2,775</td>\n",
       "      <td>5,712</td>\n",
       "      <td>10,855</td>\n",
       "      <td>25,108</td>\n",
       "      <td>55,756</td>\n",
       "      <td>89,918</td>\n",
       "      <td>134,962</td>\n",
       "      <td>180,966</td>\n",
       "    </tr>\n",
       "    <tr>\n",
       "      <th>3</th>\n",
       "      <td>수소차</td>\n",
       "      <td>-</td>\n",
       "      <td>29</td>\n",
       "      <td>87</td>\n",
       "      <td>170</td>\n",
       "      <td>893</td>\n",
       "      <td>5,083</td>\n",
       "      <td>10,906</td>\n",
       "      <td>15,765</td>\n",
       "    </tr>\n",
       "    <tr>\n",
       "      <th>4</th>\n",
       "      <td>친환경차등록비중(%)</td>\n",
       "      <td>0.7</td>\n",
       "      <td>0.9</td>\n",
       "      <td>1.1</td>\n",
       "      <td>1.5</td>\n",
       "      <td>2</td>\n",
       "      <td>2.5</td>\n",
       "      <td>3.4</td>\n",
       "      <td>4.1</td>\n",
       "    </tr>\n",
       "  </tbody>\n",
       "</table>\n",
       "</div>"
      ],
      "text/plain": [
       "           구 분     ‘14말     ‘15말     ‘16말     ‘17말     ‘18말     ‘19말     ‘20말  \\\n",
       "0            계  140,297  180,361  244,158  339,134  461,733  601,048  820,329   \n",
       "1       하이브리드차  137,522  174,620  233,216  313,856  405,084  506,047  674,461   \n",
       "2          전기차    2,775    5,712   10,855   25,108   55,756   89,918  134,962   \n",
       "3          수소차        -       29       87      170      893    5,083   10,906   \n",
       "4  친환경차등록비중(%)      0.7      0.9      1.1      1.5        2      2.5      3.4   \n",
       "\n",
       "      ‘21.7월  \n",
       "0  1,003,539  \n",
       "1    806,808  \n",
       "2    180,966  \n",
       "3     15,765  \n",
       "4        4.1  "
      ]
     },
<<<<<<< HEAD
     "execution_count": 211,
=======
     "execution_count": 3,
>>>>>>> ef2b3739dfc61108e9b9589be2632c02b50dbf79
     "metadata": {},
     "output_type": "execute_result"
    }
   ],
   "source": [
    "all_data = pd.read_csv('./data-files/전국 친환경 자동차.csv')\n",
    "suwon1 = pd.read_csv('./data-files/수원시 전기차 연도별 출고 현황.csv')\n",
    "all_data"
   ]
  },
  {
   "cell_type": "code",
<<<<<<< HEAD
   "execution_count": 212,
=======
   "execution_count": 4,
>>>>>>> ef2b3739dfc61108e9b9589be2632c02b50dbf79
   "metadata": {},
   "outputs": [
    {
     "data": {
      "text/html": [
       "<div>\n",
       "<style scoped>\n",
       "    .dataframe tbody tr th:only-of-type {\n",
       "        vertical-align: middle;\n",
       "    }\n",
       "\n",
       "    .dataframe tbody tr th {\n",
       "        vertical-align: top;\n",
       "    }\n",
       "\n",
       "    .dataframe thead th {\n",
       "        text-align: right;\n",
       "    }\n",
       "</style>\n",
       "<table border=\"1\" class=\"dataframe\">\n",
       "  <thead>\n",
       "    <tr style=\"text-align: right;\">\n",
       "      <th>구분</th>\n",
       "      <th>계</th>\n",
       "      <th>하이브리드차</th>\n",
       "      <th>전기차</th>\n",
       "      <th>수소차</th>\n",
       "      <th>친환경차비율</th>\n",
       "    </tr>\n",
       "    <tr>\n",
       "      <th>연도</th>\n",
       "      <th></th>\n",
       "      <th></th>\n",
       "      <th></th>\n",
       "      <th></th>\n",
       "      <th></th>\n",
       "    </tr>\n",
       "  </thead>\n",
       "  <tbody>\n",
       "    <tr>\n",
       "      <th>2014</th>\n",
       "      <td>140,297</td>\n",
       "      <td>137,522</td>\n",
       "      <td>2,775</td>\n",
       "      <td>-</td>\n",
       "      <td>0.7</td>\n",
       "    </tr>\n",
       "    <tr>\n",
       "      <th>2015</th>\n",
       "      <td>180,361</td>\n",
       "      <td>174,620</td>\n",
       "      <td>5,712</td>\n",
       "      <td>29</td>\n",
       "      <td>0.9</td>\n",
       "    </tr>\n",
       "    <tr>\n",
       "      <th>2016</th>\n",
       "      <td>244,158</td>\n",
       "      <td>233,216</td>\n",
       "      <td>10,855</td>\n",
       "      <td>87</td>\n",
       "      <td>1.1</td>\n",
       "    </tr>\n",
       "    <tr>\n",
       "      <th>2017</th>\n",
       "      <td>339,134</td>\n",
       "      <td>313,856</td>\n",
       "      <td>25,108</td>\n",
       "      <td>170</td>\n",
       "      <td>1.5</td>\n",
       "    </tr>\n",
       "    <tr>\n",
       "      <th>2018</th>\n",
       "      <td>461,733</td>\n",
       "      <td>405,084</td>\n",
       "      <td>55,756</td>\n",
       "      <td>893</td>\n",
       "      <td>2</td>\n",
       "    </tr>\n",
       "    <tr>\n",
       "      <th>2019</th>\n",
       "      <td>601,048</td>\n",
       "      <td>506,047</td>\n",
       "      <td>89,918</td>\n",
       "      <td>5,083</td>\n",
       "      <td>2.5</td>\n",
       "    </tr>\n",
       "    <tr>\n",
       "      <th>2020</th>\n",
       "      <td>820,329</td>\n",
       "      <td>674,461</td>\n",
       "      <td>134,962</td>\n",
       "      <td>10,906</td>\n",
       "      <td>3.4</td>\n",
       "    </tr>\n",
       "    <tr>\n",
       "      <th>2021</th>\n",
       "      <td>1,003,539</td>\n",
       "      <td>806,808</td>\n",
       "      <td>180,966</td>\n",
       "      <td>15,765</td>\n",
       "      <td>4.1</td>\n",
       "    </tr>\n",
       "  </tbody>\n",
       "</table>\n",
       "</div>"
      ],
      "text/plain": [
       "구분            계   하이브리드차      전기차     수소차 친환경차비율\n",
       "연도                                              \n",
       "2014    140,297  137,522    2,775       -    0.7\n",
       "2015    180,361  174,620    5,712      29    0.9\n",
       "2016    244,158  233,216   10,855      87    1.1\n",
       "2017    339,134  313,856   25,108     170    1.5\n",
       "2018    461,733  405,084   55,756     893      2\n",
       "2019    601,048  506,047   89,918   5,083    2.5\n",
       "2020    820,329  674,461  134,962  10,906    3.4\n",
       "2021  1,003,539  806,808  180,966  15,765    4.1"
      ]
     },
<<<<<<< HEAD
     "execution_count": 212,
=======
     "execution_count": 4,
>>>>>>> ef2b3739dfc61108e9b9589be2632c02b50dbf79
     "metadata": {},
     "output_type": "execute_result"
    }
   ],
   "source": [
    "#전국 친환경차 데이터 전처리\n",
    "all_data = all_data.dropna()\n",
    "all_data = all_data.drop(columns='구 분')\n",
    "all_data.index = ['계', '하이브리드차', '전기차', '수소차', '친환경차비율']\n",
    "all_data.columns = ['2014', '2015', '2016', '2017', '2018', '2019', '2020', '2021']\n",
    "all_data.columns.names = ['연도']\n",
    "all_data.index.names = ['구분']\n",
    "all_data = all_data.transpose()\n",
    "all_data\n"
   ]
  },
  {
   "cell_type": "code",
<<<<<<< HEAD
   "execution_count": 213,
=======
   "execution_count": 5,
>>>>>>> ef2b3739dfc61108e9b9589be2632c02b50dbf79
   "metadata": {},
   "outputs": [
    {
     "data": {
      "text/html": [
       "<div>\n",
       "<style scoped>\n",
       "    .dataframe tbody tr th:only-of-type {\n",
       "        vertical-align: middle;\n",
       "    }\n",
       "\n",
       "    .dataframe tbody tr th {\n",
       "        vertical-align: top;\n",
       "    }\n",
       "\n",
       "    .dataframe thead th {\n",
       "        text-align: right;\n",
       "    }\n",
       "</style>\n",
       "<table border=\"1\" class=\"dataframe\">\n",
       "  <thead>\n",
       "    <tr style=\"text-align: right;\">\n",
       "      <th>구분</th>\n",
       "      <th>계</th>\n",
       "      <th>하이브리드차</th>\n",
       "      <th>전기차</th>\n",
       "      <th>수소차</th>\n",
       "      <th>친환경차비율</th>\n",
       "    </tr>\n",
       "    <tr>\n",
       "      <th>연도</th>\n",
       "      <th></th>\n",
       "      <th></th>\n",
       "      <th></th>\n",
       "      <th></th>\n",
       "      <th></th>\n",
       "    </tr>\n",
       "  </thead>\n",
       "  <tbody>\n",
       "    <tr>\n",
       "      <th>2014</th>\n",
       "      <td>140297</td>\n",
       "      <td>137522</td>\n",
       "      <td>2775</td>\n",
       "      <td>0</td>\n",
       "      <td>0.7</td>\n",
       "    </tr>\n",
       "    <tr>\n",
       "      <th>2015</th>\n",
       "      <td>180361</td>\n",
       "      <td>174620</td>\n",
       "      <td>5712</td>\n",
       "      <td>29</td>\n",
       "      <td>0.9</td>\n",
       "    </tr>\n",
       "    <tr>\n",
       "      <th>2016</th>\n",
       "      <td>244158</td>\n",
       "      <td>233216</td>\n",
       "      <td>10855</td>\n",
       "      <td>87</td>\n",
       "      <td>1.1</td>\n",
       "    </tr>\n",
       "    <tr>\n",
       "      <th>2017</th>\n",
       "      <td>339134</td>\n",
       "      <td>313856</td>\n",
       "      <td>25108</td>\n",
       "      <td>170</td>\n",
       "      <td>1.5</td>\n",
       "    </tr>\n",
       "    <tr>\n",
       "      <th>2018</th>\n",
       "      <td>461733</td>\n",
       "      <td>405084</td>\n",
       "      <td>55756</td>\n",
       "      <td>893</td>\n",
       "      <td>2</td>\n",
       "    </tr>\n",
       "    <tr>\n",
       "      <th>2019</th>\n",
       "      <td>601048</td>\n",
       "      <td>506047</td>\n",
       "      <td>89918</td>\n",
       "      <td>5083</td>\n",
       "      <td>2.5</td>\n",
       "    </tr>\n",
       "    <tr>\n",
       "      <th>2020</th>\n",
       "      <td>820329</td>\n",
       "      <td>674461</td>\n",
       "      <td>134962</td>\n",
       "      <td>10906</td>\n",
       "      <td>3.4</td>\n",
       "    </tr>\n",
       "    <tr>\n",
       "      <th>2021</th>\n",
       "      <td>1003539</td>\n",
       "      <td>806808</td>\n",
       "      <td>180966</td>\n",
       "      <td>15765</td>\n",
       "      <td>4.1</td>\n",
       "    </tr>\n",
       "  </tbody>\n",
       "</table>\n",
       "</div>"
      ],
      "text/plain": [
       "구분          계  하이브리드차     전기차    수소차 친환경차비율\n",
       "연도                                         \n",
       "2014   140297  137522    2775      0    0.7\n",
       "2015   180361  174620    5712     29    0.9\n",
       "2016   244158  233216   10855     87    1.1\n",
       "2017   339134  313856   25108    170    1.5\n",
       "2018   461733  405084   55756    893      2\n",
       "2019   601048  506047   89918   5083    2.5\n",
       "2020   820329  674461  134962  10906    3.4\n",
       "2021  1003539  806808  180966  15765    4.1"
      ]
     },
<<<<<<< HEAD
     "execution_count": 213,
=======
     "execution_count": 5,
>>>>>>> ef2b3739dfc61108e9b9589be2632c02b50dbf79
     "metadata": {},
     "output_type": "execute_result"
    }
   ],
   "source": [
    "# 천단위 콤마 제거\n",
    "all_data['계'] = all_data['계'].apply(lambda x: x.replace(',', ''))\n",
    "all_data['하이브리드차'] = all_data['하이브리드차'].apply(lambda x: x.replace(',', ''))\n",
    "all_data['전기차'] = all_data['전기차'].apply(lambda x: x.replace(',', ''))\n",
    "all_data['수소차'] = all_data['수소차'].apply(lambda x: x.replace(',', ''))\n",
    "all_data\n",
    "\n",
    "# 특수문자 제거 및 nan값 대체\n",
    "all_data[\"수소차\"] = all_data[\"수소차\"].str.replace(pat=r'[^\\w]', repl=r'0', regex=True)\n",
    "all_data = all_data.fillna('0')\n",
    "all_data\n"
   ]
  },
  {
   "cell_type": "code",
<<<<<<< HEAD
   "execution_count": 214,
=======
   "execution_count": 6,
>>>>>>> ef2b3739dfc61108e9b9589be2632c02b50dbf79
   "metadata": {},
   "outputs": [
    {
     "name": "stdout",
     "output_type": "stream",
     "text": [
      "<class 'pandas.core.frame.DataFrame'>\n",
      "Index: 8 entries, 2014 to 2021\n",
      "Data columns (total 4 columns):\n",
      " #   Column  Non-Null Count  Dtype\n",
      "---  ------  --------------  -----\n",
      " 0   계       8 non-null      int32\n",
      " 1   하이브리드차  8 non-null      int32\n",
      " 2   전기차     8 non-null      int32\n",
      " 3   수소차     8 non-null      int32\n",
      "dtypes: int32(4)\n",
      "memory usage: 192.0+ bytes\n"
     ]
    }
   ],
   "source": [
    "all_data2 = all_data.drop(columns='친환경차비율')\n",
    "all_data2 = all_data2.astype(float).astype(int)\n",
    "all_data2.info()"
   ]
  },
  {
   "cell_type": "code",
<<<<<<< HEAD
   "execution_count": 215,
=======
   "execution_count": 7,
>>>>>>> ef2b3739dfc61108e9b9589be2632c02b50dbf79
   "metadata": {},
   "outputs": [
    {
     "data": {
      "image/png": "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",
      "text/plain": [
       "<Figure size 432x288 with 1 Axes>"
      ]
     },
     "metadata": {
      "needs_background": "light"
     },
     "output_type": "display_data"
    }
   ],
   "source": [
    "# 전국 친환경차 현황 시각화\n",
    "all_data2.plot(kind='bar', width=0.8)\n",
    "plt.title(\"전국 친환경차 현황\")\n",
    "plt.xlabel(\"연도\")\n",
    "plt.ylabel(\"친환경차 대수\")\n",
    "plt.show()"
   ]
  },
  {
   "cell_type": "code",
<<<<<<< HEAD
   "execution_count": 216,
=======
   "execution_count": 8,
>>>>>>> ef2b3739dfc61108e9b9589be2632c02b50dbf79
   "metadata": {},
   "outputs": [
    {
     "data": {
      "image/png": "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",
      "text/plain": [
       "<Figure size 432x288 with 1 Axes>"
      ]
     },
     "metadata": {
      "needs_background": "light"
     },
     "output_type": "display_data"
    }
   ],
   "source": [
    "# 전국 친환경차 시각화2\n",
    "all_data3 = all_data2.drop(columns='계')\n",
    "all_data3.plot(kind='bar', width = 1)\n",
    "plt.show()"
   ]
  },
  {
   "cell_type": "code",
<<<<<<< HEAD
   "execution_count": 217,
=======
   "execution_count": 9,
>>>>>>> ef2b3739dfc61108e9b9589be2632c02b50dbf79
   "metadata": {},
   "outputs": [
    {
     "data": {
      "image/png": "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",
      "text/plain": [
       "<Figure size 432x288 with 1 Axes>"
      ]
     },
     "metadata": {
      "needs_background": "light"
     },
     "output_type": "display_data"
    }
   ],
   "source": [
    "x = [ '2014', '2015', '2016', '2017', '2018', '2019', '2020', '2021']\n",
    "y = all_data2['계']\n",
    "plt.bar(x, y, color = 'orange')\n",
    "for i, v in enumerate(x):\n",
    "    plt.text(v, y[i], str(y[i]),\n",
    "             fontsize=9,\n",
    "             color=\"black\",\n",
    "             horizontalalignment='center',\n",
    "             verticalalignment='bottom')\n",
    "\n",
    "\n",
    "plt.title(\"전국 친환경자동차 등록 현황\")\n",
    "plt.ylim(0, 1200000)\n",
    "plt.xlabel('연도')\n",
    "plt.ylabel('전기차')\n",
    "plt.show()"
   ]
  },
  {
   "cell_type": "code",
<<<<<<< HEAD
   "execution_count": 218,
=======
   "execution_count": 10,
>>>>>>> ef2b3739dfc61108e9b9589be2632c02b50dbf79
   "metadata": {},
   "outputs": [
    {
     "data": {
      "image/png": "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",
      "text/plain": [
       "<Figure size 432x288 with 1 Axes>"
      ]
     },
     "metadata": {
      "needs_background": "light"
     },
     "output_type": "display_data"
    }
   ],
   "source": [
    "x = [ '2014', '2015', '2016', '2017', '2018', '2019', '2020', '2021']\n",
    "y = all_data2['전기차']\n",
    "plt.bar(x, y, color='orange' )\n",
    "plt.title(\"전국 전기차 등록 현황\")\n",
    "for i, v in enumerate(x):\n",
    "    plt.text(v, y[i], str(y[i]),\n",
    "             fontsize=9,\n",
    "             color=\"black\",\n",
    "             horizontalalignment='center',\n",
    "             verticalalignment='bottom')\n",
    "\n",
    "plt.xlabel('연도')\n",
    "plt.ylabel('전기차')\n",
    "plt.show()"
   ]
  },
  {
   "cell_type": "code",
<<<<<<< HEAD
   "execution_count": 219,
=======
   "execution_count": 11,
>>>>>>> ef2b3739dfc61108e9b9589be2632c02b50dbf79
   "metadata": {},
   "outputs": [
    {
     "data": {
      "image/png": "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",
      "text/plain": [
       "<Figure size 432x288 with 1 Axes>"
      ]
     },
     "metadata": {
      "needs_background": "light"
     },
     "output_type": "display_data"
    }
   ],
   "source": [
    "y = all_data['친환경차비율']\n",
    "plt.bar(x, y, color='green' )\n",
    "for i, v in enumerate(x):\n",
    "    plt.text(v, y[i], str(y[i]),\n",
    "             fontsize=9,\n",
    "             color=\"black\",\n",
    "             horizontalalignment='center',\n",
    "             verticalalignment='bottom')\n",
    "plt.title(\"전국 자동차등록 대비 친환경차 비율\")\n",
    "plt.xlabel('연도')\n",
    "plt.ylabel('친환경차 비율(%)')\n",
    "plt.show()"
   ]
  },
  {
   "cell_type": "code",
<<<<<<< HEAD
   "execution_count": 220,
=======
   "execution_count": null,
   "metadata": {},
   "outputs": [],
   "source": [
    "\n",
    "\n"
   ]
  },
  {
   "cell_type": "code",
   "execution_count": null,
>>>>>>> ef2b3739dfc61108e9b9589be2632c02b50dbf79
   "metadata": {},
   "outputs": [
    {
     "ename": "TypeError",
     "evalue": "can only concatenate list (not \"float\") to list",
     "output_type": "error",
     "traceback": [
      "\u001b[1;31m---------------------------------------------------------------------------\u001b[0m",
      "\u001b[1;31mTypeError\u001b[0m                                 Traceback (most recent call last)",
      "\u001b[1;32m~\\AppData\\Local\\Temp/ipykernel_32088/257114581.py\u001b[0m in \u001b[0;36m<module>\u001b[1;34m\u001b[0m\n\u001b[0;32m      8\u001b[0m \u001b[0mbar_width\u001b[0m\u001b[1;33m=\u001b[0m\u001b[1;36m0.3\u001b[0m\u001b[1;33m\u001b[0m\u001b[1;33m\u001b[0m\u001b[0m\n\u001b[0;32m      9\u001b[0m \u001b[0mplt\u001b[0m\u001b[1;33m.\u001b[0m\u001b[0mbar\u001b[0m\u001b[1;33m(\u001b[0m\u001b[0mx\u001b[0m\u001b[1;33m,\u001b[0m \u001b[0my1\u001b[0m\u001b[1;33m,\u001b[0m \u001b[0mbar_width\u001b[0m\u001b[1;33m)\u001b[0m\u001b[1;33m\u001b[0m\u001b[1;33m\u001b[0m\u001b[0m\n\u001b[1;32m---> 10\u001b[1;33m \u001b[0mplt\u001b[0m\u001b[1;33m.\u001b[0m\u001b[0mbar\u001b[0m\u001b[1;33m(\u001b[0m\u001b[0mx\u001b[0m\u001b[1;33m+\u001b[0m\u001b[0mbar_width\u001b[0m\u001b[1;33m,\u001b[0m \u001b[0my2\u001b[0m\u001b[1;33m,\u001b[0m \u001b[0mbarwidth\u001b[0m\u001b[1;33m)\u001b[0m\u001b[1;33m\u001b[0m\u001b[1;33m\u001b[0m\u001b[0m\n\u001b[0m\u001b[0;32m     11\u001b[0m \u001b[0mplt\u001b[0m\u001b[1;33m.\u001b[0m\u001b[0mylim\u001b[0m\u001b[1;33m(\u001b[0m\u001b[1;36m0\u001b[0m\u001b[1;33m,\u001b[0m\u001b[1;36m1200000\u001b[0m\u001b[1;33m)\u001b[0m\u001b[1;33m\u001b[0m\u001b[1;33m\u001b[0m\u001b[0m\n\u001b[0;32m     12\u001b[0m \u001b[0mplt\u001b[0m\u001b[1;33m.\u001b[0m\u001b[0mshow\u001b[0m\u001b[1;33m(\u001b[0m\u001b[1;33m)\u001b[0m\u001b[1;33m\u001b[0m\u001b[1;33m\u001b[0m\u001b[0m\n",
      "\u001b[1;31mTypeError\u001b[0m: can only concatenate list (not \"float\") to list"
     ]
    },
    {
     "data": {
      "image/png": "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",
      "text/plain": [
       "<Figure size 432x288 with 1 Axes>"
      ]
     },
     "metadata": {
      "needs_background": "light"
     },
     "output_type": "display_data"
    }
   ],
   "source": [
    "x = [ '2014', '2015', '2016', '2017', '2018', '2019', '2020', '2021']\n",
    "y1 = all_data2['계']\n",
    "y2 = all_data2['하이브리드차']\n",
    "y3 = all_data2['전기차']\n",
    "y4 = all_data2['수소차']\n",
    "\n",
    "plt.title('연도별 친환경 자동차 등록 현황')\n",
    "bar_width=0.3\n",
    "plt.bar(x, y1, bar_width)\n",
    "plt.bar(x+bar_width, y2, barwidth)\n",
    "plt.ylim(0,1200000)\n",
    "plt.show()"
   ]
  },
  {
   "cell_type": "code",
<<<<<<< HEAD
   "execution_count": 225,
=======
   "execution_count": null,
>>>>>>> ef2b3739dfc61108e9b9589be2632c02b50dbf79
   "metadata": {},
   "outputs": [
    {
     "data": {
      "text/html": [
       "<div>\n",
       "<style scoped>\n",
       "    .dataframe tbody tr th:only-of-type {\n",
       "        vertical-align: middle;\n",
       "    }\n",
       "\n",
       "    .dataframe tbody tr th {\n",
       "        vertical-align: top;\n",
       "    }\n",
       "\n",
       "    .dataframe thead th {\n",
       "        text-align: right;\n",
       "    }\n",
       "</style>\n",
       "<table border=\"1\" class=\"dataframe\">\n",
       "  <thead>\n",
       "    <tr style=\"text-align: right;\">\n",
       "      <th></th>\n",
       "      <th>연도</th>\n",
       "      <th>시도</th>\n",
       "      <th>지역구분</th>\n",
       "      <th>전기차</th>\n",
       "      <th>전기차 승용</th>\n",
       "      <th>전기차 화물</th>\n",
       "      <th>전기차 승합</th>\n",
       "    </tr>\n",
       "  </thead>\n",
       "  <tbody>\n",
       "    <tr>\n",
       "      <th>2019</th>\n",
       "      <td>2019</td>\n",
       "      <td>경기</td>\n",
       "      <td>수원시</td>\n",
       "      <td>507</td>\n",
       "      <td>507</td>\n",
       "      <td>0</td>\n",
       "      <td>0</td>\n",
       "    </tr>\n",
       "    <tr>\n",
       "      <th>2020</th>\n",
       "      <td>2020</td>\n",
       "      <td>경기</td>\n",
       "      <td>수원시</td>\n",
       "      <td>562</td>\n",
       "      <td>460</td>\n",
       "      <td>98</td>\n",
       "      <td>104</td>\n",
       "    </tr>\n",
       "    <tr>\n",
       "      <th>2021</th>\n",
       "      <td>2021</td>\n",
       "      <td>경기</td>\n",
       "      <td>수원시</td>\n",
       "      <td>1222</td>\n",
       "      <td>948</td>\n",
       "      <td>221</td>\n",
       "      <td>53</td>\n",
       "    </tr>\n",
       "  </tbody>\n",
       "</table>\n",
       "</div>"
      ],
      "text/plain": [
       "        연도  시도 지역구분   전기차  전기차 승용  전기차 화물  전기차 승합\n",
       "2019  2019  경기  수원시   507     507       0       0\n",
       "2020  2020  경기  수원시   562     460      98     104\n",
       "2021  2021  경기  수원시  1222     948     221      53"
      ]
     },
     "execution_count": 225,
     "metadata": {},
     "output_type": "execute_result"
    }
   ],
   "source": [
    "# 수원시 친환경차 데이터 전처리\n",
    "suwon1.index = [2019, 2020, 2021]\n",
    "suwon1"
   ]
  },
  {
   "cell_type": "code",
   "execution_count": 226,
   "metadata": {},
   "outputs": [],
   "source": [
    "suwon2 = suwon1.drop(['연도', '전기차', '시도', '지역구분'], axis='columns')\n",
    "suwon3 = suwon1.drop(['연도','시도', '지역구분'], axis='columns')"
   ]
  },
  {
   "cell_type": "code",
<<<<<<< HEAD
   "execution_count": 227,
=======
   "execution_count": null,
>>>>>>> ef2b3739dfc61108e9b9589be2632c02b50dbf79
   "metadata": {},
   "outputs": [
    {
     "data": {
      "image/png": "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",
      "text/plain": [
       "<Figure size 432x288 with 1 Axes>"
      ]
     },
     "metadata": {
      "needs_background": "light"
     },
     "output_type": "display_data"
    }
   ],
   "source": [
    "suwon3.plot(kind=\"bar\", width=0.7)\n",
    "plt.title(\"수원시 전기차 유형\")\n",
    "plt.xlabel('연도')\n",
    "plt.ylabel('친환경차 비율(%)')\n",
    "plt.show()"
   ]
  },
  {
   "cell_type": "code",
   "execution_count": 228,
   "metadata": {},
   "outputs": [
    {
     "data": {
      "image/png": "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",
      "text/plain": [
       "<Figure size 432x288 with 1 Axes>"
      ]
     },
     "metadata": {
      "needs_background": "light"
     },
     "output_type": "display_data"
    }
   ],
   "source": [
    "suwon3.plot(kind=\"bar\", width=0.7)\n",
    "plt.title(\"수원시 전기차 유형\")\n",
    "plt.xlabel('전기차')\n",
    "plt.ylabel('친환경차 비율(%)')\n",
    "plt.show()"
   ]
  },
  {
   "cell_type": "code",
   "execution_count": null,
   "metadata": {},
   "outputs": [
    {
     "data": {
      "text/plain": [
       "Index(['2014', '2015', '2016', '2017', '2018', '2019', '2020', '2021'], dtype='object', name='연도')"
      ]
     },
     "execution_count": 101,
     "metadata": {},
     "output_type": "execute_result"
    }
   ],
   "source": [
    "all_x = all_data.columns\n",
    "all_y = all_data.index\n",
    "all_x\n",
    "all_y"
   ]
  }
 ],
 "metadata": {
  "interpreter": {
   "hash": "ecf5722fdaf1897a315d257d89d94520bfcaa453217d5becf09b39e73618b0de"
  },
  "kernelspec": {
   "display_name": "Python 3.9.5 64-bit ('base': conda)",
   "name": "python3"
  },
  "language_info": {
   "codemirror_mode": {
    "name": "ipython",
    "version": 3
   },
   "file_extension": ".py",
   "mimetype": "text/x-python",
   "name": "python",
   "nbconvert_exporter": "python",
   "pygments_lexer": "ipython3",
   "version": "3.9.9"
  },
  "orig_nbformat": 4
 },
 "nbformat": 4,
 "nbformat_minor": 2
}
