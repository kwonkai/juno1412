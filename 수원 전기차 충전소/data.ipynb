{
 "cells": [
  {
   "cell_type": "markdown",
   "metadata": {},
   "source": [
    "라이브러리 셋팅"
   ]
  },
  {
   "cell_type": "code",
   "execution_count": 128,
   "metadata": {},
   "outputs": [],
   "source": [
    "import pandas as pd\n",
    "import numpy as np\n",
    "import seaborn as sns\n",
    "import matplotlib.pyplot as plt"
   ]
  },
  {
   "cell_type": "markdown",
   "metadata": {},
   "source": [
    "한글 폰트 입력 -> 깨짐 방지"
   ]
  },
  {
   "cell_type": "code",
   "execution_count": 129,
   "metadata": {},
   "outputs": [],
   "source": [
    "# 한글 폰트 사용을 위해서 세팅\n",
    "from matplotlib import font_manager, rc\n",
    "font_path = \"C:/Windows/Fonts/NGULIM.TTF\"\n",
    "font = font_manager.FontProperties(fname=font_path).get_name()\n",
    "rc('font', family=font)"
   ]
  },
  {
   "cell_type": "markdown",
   "metadata": {},
   "source": [
    "데이터 가져오기(전국 친환경차, 수원 친환경차)"
   ]
  },
  {
   "cell_type": "code",
   "execution_count": 201,
   "metadata": {},
   "outputs": [],
   "source": [
    "all_data = pd.read_csv('C:/Users/kwonk/Downloads/개인 프로젝트/juno1412-1/수원 전기차 충전소/data-files/전국 친환경 자동차.csv')\n",
    "suwon1 = pd.read_csv('C:/Users/kwonk/Downloads/개인 프로젝트/juno1412-1/수원 전기차 충전소/data-files/수원시 전기차 연도별 출고 현황.csv')"
   ]
  },
  {
   "cell_type": "code",
   "execution_count": 202,
   "metadata": {},
   "outputs": [
    {
     "data": {
      "text/html": [
       "<div>\n",
       "<style scoped>\n",
       "    .dataframe tbody tr th:only-of-type {\n",
       "        vertical-align: middle;\n",
       "    }\n",
       "\n",
       "    .dataframe tbody tr th {\n",
       "        vertical-align: top;\n",
       "    }\n",
       "\n",
       "    .dataframe thead th {\n",
       "        text-align: right;\n",
       "    }\n",
       "</style>\n",
       "<table border=\"1\" class=\"dataframe\">\n",
       "  <thead>\n",
       "    <tr style=\"text-align: right;\">\n",
       "      <th>구분</th>\n",
       "      <th>계</th>\n",
       "      <th>하이브리드차</th>\n",
       "      <th>전기차</th>\n",
       "      <th>수소차</th>\n",
       "      <th>친환경차비율</th>\n",
       "    </tr>\n",
       "    <tr>\n",
       "      <th>연도</th>\n",
       "      <th></th>\n",
       "      <th></th>\n",
       "      <th></th>\n",
       "      <th></th>\n",
       "      <th></th>\n",
       "    </tr>\n",
       "  </thead>\n",
       "  <tbody>\n",
       "    <tr>\n",
       "      <th>2014</th>\n",
       "      <td>140,297</td>\n",
       "      <td>137,522</td>\n",
       "      <td>2,775</td>\n",
       "      <td>-</td>\n",
       "      <td>0.7</td>\n",
       "    </tr>\n",
       "    <tr>\n",
       "      <th>2015</th>\n",
       "      <td>180,361</td>\n",
       "      <td>174,620</td>\n",
       "      <td>5,712</td>\n",
       "      <td>29</td>\n",
       "      <td>0.9</td>\n",
       "    </tr>\n",
       "    <tr>\n",
       "      <th>2016</th>\n",
       "      <td>244,158</td>\n",
       "      <td>233,216</td>\n",
       "      <td>10,855</td>\n",
       "      <td>87</td>\n",
       "      <td>1.1</td>\n",
       "    </tr>\n",
       "    <tr>\n",
       "      <th>2017</th>\n",
       "      <td>339,134</td>\n",
       "      <td>313,856</td>\n",
       "      <td>25,108</td>\n",
       "      <td>170</td>\n",
       "      <td>1.5</td>\n",
       "    </tr>\n",
       "    <tr>\n",
       "      <th>2018</th>\n",
       "      <td>461,733</td>\n",
       "      <td>405,084</td>\n",
       "      <td>55,756</td>\n",
       "      <td>893</td>\n",
       "      <td>2</td>\n",
       "    </tr>\n",
       "    <tr>\n",
       "      <th>2019</th>\n",
       "      <td>601,048</td>\n",
       "      <td>506,047</td>\n",
       "      <td>89,918</td>\n",
       "      <td>5,083</td>\n",
       "      <td>2.5</td>\n",
       "    </tr>\n",
       "    <tr>\n",
       "      <th>2020</th>\n",
       "      <td>820,329</td>\n",
       "      <td>674,461</td>\n",
       "      <td>134,962</td>\n",
       "      <td>10,906</td>\n",
       "      <td>3.4</td>\n",
       "    </tr>\n",
       "    <tr>\n",
       "      <th>2021</th>\n",
       "      <td>1,003,539</td>\n",
       "      <td>806,808</td>\n",
       "      <td>180,966</td>\n",
       "      <td>15,765</td>\n",
       "      <td>4.1</td>\n",
       "    </tr>\n",
       "  </tbody>\n",
       "</table>\n",
       "</div>"
      ],
      "text/plain": [
       "구분            계   하이브리드차      전기차     수소차 친환경차비율\n",
       "연도                                              \n",
       "2014    140,297  137,522    2,775       -    0.7\n",
       "2015    180,361  174,620    5,712      29    0.9\n",
       "2016    244,158  233,216   10,855      87    1.1\n",
       "2017    339,134  313,856   25,108     170    1.5\n",
       "2018    461,733  405,084   55,756     893      2\n",
       "2019    601,048  506,047   89,918   5,083    2.5\n",
       "2020    820,329  674,461  134,962  10,906    3.4\n",
       "2021  1,003,539  806,808  180,966  15,765    4.1"
      ]
     },
     "execution_count": 202,
     "metadata": {},
     "output_type": "execute_result"
    }
   ],
   "source": [
    "#전국 친환경차 데이터 전처리\n",
    "all_data = all_data.dropna()\n",
    "all_data = all_data.drop(columns='구 분')\n",
    "all_data.index = ['계', '하이브리드차', '전기차', '수소차', '친환경차비율']\n",
    "all_data.columns = ['2014', '2015', '2016', '2017', '2018', '2019', '2020', '2021']\n",
    "all_data.columns.names = ['연도']\n",
    "all_data.index.names = ['구분']\n",
    "all_data = all_data.transpose()\n",
    "all_data\n"
   ]
  },
  {
   "cell_type": "code",
   "execution_count": 212,
   "metadata": {},
   "outputs": [
    {
     "data": {
      "image/png": "[encoded data removed]",
      "text/plain": [
       "<Figure size 432x288 with 1 Axes>"
      ]
     },
     "metadata": {
      "needs_background": "light"
     },
     "output_type": "display_data"
    }
   ],
   "source": [
    "x = [ '2014', '2015', '2016', '2017', '2018', '2019', '2020', '2021']\n",
    "y = all_data['계']\n",
    "#all, uppoint = plt.subplot()\n",
    "plt.bar(x, y)\n",
    "plt.title(\"전국 친환경자동차 등록 현황\")\n",
    "plt.xlabel('연도')\n",
    "plt.ylabel('전기차')\n",
    "plt.show()"
   ]
  },
  {
   "cell_type": "code",
   "execution_count": null,
   "metadata": {},
   "outputs": [],
   "source": [
    "y = all_data.loc[:, '2014':'2021']\n",
    "x = all_data['전기차']\n",
    "#all, uppoint = plt.subplot()\n",
    "plt.bar(x, y)\n",
    "plt.title(\"전국 친환경자동차 등록 현황\")\n",
    "plt.xlabel('연도')\n",
    "plt.ylabel('전기차')\n",
    "\n",
    "for i in range(len(x)):\n",
    "    height = x[i]\n",
    "    plt.text(x[i], '%.1f' %height, ha='center', va='bottom', size = 12)\n",
    "\n",
    "plt.show()"
   ]
  },
  {
   "cell_type": "code",
   "execution_count": 205,
   "metadata": {},
   "outputs": [
    {
     "data": {
      "image/png": "[encoded data removed]",
      "text/plain": [
       "<Figure size 432x288 with 1 Axes>"
      ]
     },
     "metadata": {
      "needs_background": "light"
     },
     "output_type": "display_data"
    }
   ],
   "source": [
    "label = [ '2014', '2015', '2016', '2017', '2018', '2019', '2020', '2021']\n",
    "\n",
    "plt.bar(label, all_data['전기차'])\n",
    "plt.title(\"전국 전기차 등록 현황\")\n",
    "plt.xlabel('연도')\n",
    "plt.ylabel('전기차')\n",
    "plt.show()"
   ]
  },
  {
   "cell_type": "code",
   "execution_count": 214,
   "metadata": {},
   "outputs": [
    {
     "data": {
      "image/png": "[encoded data removed]",
      "text/plain": [
       "<Figure size 432x288 with 1 Axes>"
      ]
     },
     "metadata": {
      "needs_background": "light"
     },
     "output_type": "display_data"
    }
   ],
   "source": [
    "plt.bar(label, all_data['친환경차비율'])\n",
    "plt.title(\"전국 자동차등록 대비 친환경차 비율\")\n",
    "plt.xlabel('연도')\n",
    "plt.ylabel('친환경차 비율')\n",
    "plt.show()"
   ]
  },
  {
   "cell_type": "code",
   "execution_count": null,
   "metadata": {},
   "outputs": [
    {
     "data": {
      "text/html": [
       "<div>\n",
       "<style scoped>\n",
       "    .dataframe tbody tr th:only-of-type {\n",
       "        vertical-align: middle;\n",
       "    }\n",
       "\n",
       "    .dataframe tbody tr th {\n",
       "        vertical-align: top;\n",
       "    }\n",
       "\n",
       "    .dataframe thead th {\n",
       "        text-align: right;\n",
       "    }\n",
       "</style>\n",
       "<table border=\"1\" class=\"dataframe\">\n",
       "  <thead>\n",
       "    <tr style=\"text-align: right;\">\n",
       "      <th></th>\n",
       "      <th>연도</th>\n",
       "      <th>시도</th>\n",
       "      <th>지역구분</th>\n",
       "      <th>전기차</th>\n",
       "      <th>전기차 승용</th>\n",
       "      <th>전기차 화물</th>\n",
       "      <th>전기차 승합</th>\n",
       "    </tr>\n",
       "  </thead>\n",
       "  <tbody>\n",
       "    <tr>\n",
       "      <th>1</th>\n",
       "      <td>2019</td>\n",
       "      <td>경기</td>\n",
       "      <td>수원시</td>\n",
       "      <td>507</td>\n",
       "      <td>507</td>\n",
       "      <td>0</td>\n",
       "      <td>0</td>\n",
       "    </tr>\n",
       "    <tr>\n",
       "      <th>2</th>\n",
       "      <td>2020</td>\n",
       "      <td>경기</td>\n",
       "      <td>수원시</td>\n",
       "      <td>562</td>\n",
       "      <td>460</td>\n",
       "      <td>98</td>\n",
       "      <td>104</td>\n",
       "    </tr>\n",
       "    <tr>\n",
       "      <th>3</th>\n",
       "      <td>2021</td>\n",
       "      <td>경기</td>\n",
       "      <td>수원시</td>\n",
       "      <td>1222</td>\n",
       "      <td>948</td>\n",
       "      <td>221</td>\n",
       "      <td>53</td>\n",
       "    </tr>\n",
       "  </tbody>\n",
       "</table>\n",
       "</div>"
      ],
      "text/plain": [
       "     연도  시도 지역구분   전기차  전기차 승용  전기차 화물  전기차 승합\n",
       "1  2019  경기  수원시   507     507       0       0\n",
       "2  2020  경기  수원시   562     460      98     104\n",
       "3  2021  경기  수원시  1222     948     221      53"
      ]
     },
     "execution_count": 89,
     "metadata": {},
     "output_type": "execute_result"
    }
   ],
   "source": [
    "# 수원시 친환경차 데이터 전처리\n",
    "suwon1.index = [1,2,3]\n",
    "\n",
    "suwon1"
   ]
  },
  {
   "cell_type": "code",
   "execution_count": null,
   "metadata": {},
   "outputs": [],
   "source": [
    "all_df = all_data.loc[['2019', '2020', '2021']]\n",
    "all_df"
   ]
  },
  {
   "cell_type": "code",
   "execution_count": 134,
   "metadata": {},
   "outputs": [
    {
     "data": {
      "image/png": "[encoded data removed]",
      "text/plain": [
       "<Figure size 432x288 with 1 Axes>"
      ]
     },
     "metadata": {
      "needs_background": "light"
     },
     "output_type": "display_data"
    }
   ],
   "source": [
    "label = ['2019', '2020', '2021']\n",
    "\n",
    "plt.bar(label, suwon1['전기차'])\n",
    "plt.title(\"수원시 전기차 등록 현황\")\n",
    "plt.xlabel('연도')\n",
    "plt.ylabel('전기차')\n",
    "plt.show()"
   ]
  },
  {
   "cell_type": "code",
   "execution_count": null,
   "metadata": {},
   "outputs": [],
   "source": [
    "label = [ '2014', '2015', '2016', '2017', '2018', '2019', '2020', '2021']\n",
    "\n",
    "plt.bar(label, all_data['전기차'])\n",
    "plt.title(\"전국 전기차 등록 현황\")\n",
    "plt.xlabel('연도')\n",
    "plt.ylabel('전기차')\n",
    "for i in range(len(x)):\n",
    "    height = x[i]\n",
    "    plt.text(x[i], '%.1f' %height, ha='center', va='bottom', size = 12)\n",
    "plt.show()"
   ]
  },
  {
   "cell_type": "code",
   "execution_count": null,
   "metadata": {},
   "outputs": [
    {
     "data": {
      "text/plain": [
       "Index(['2014', '2015', '2016', '2017', '2018', '2019', '2020', '2021'], dtype='object', name='연도')"
      ]
     },
     "execution_count": 101,
     "metadata": {},
     "output_type": "execute_result"
    }
   ],
   "source": [
    "all_x = all_data.columns\n",
    "all_y = all_data.index\n",
    "all_x\n",
    "all_y"
   ]
  }
 ],
 "metadata": {
  "interpreter": {
   "hash": "2049c80de9ec6ca28aa42fa305d961a93ce1b546cc2e570f437a9b0fe8b79f6b"
  },
  "kernelspec": {
   "display_name": "Python 3.9.9 ('kwonjh')",
   "language": "python",
   "name": "python3"
  },
  "language_info": {
   "codemirror_mode": {
    "name": "ipython",
    "version": 3
   },
   "file_extension": ".py",
   "mimetype": "text/x-python",
   "name": "python",
   "nbconvert_exporter": "python",
   "pygments_lexer": "ipython3",
   "version": "3.9.9"
  },
  "orig_nbformat": 4
 },
 "nbformat": 4,
 "nbformat_minor": 2
}
