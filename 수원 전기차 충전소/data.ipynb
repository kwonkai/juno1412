{
 "cells": [
  {
   "cell_type": "markdown",
   "metadata": {},
   "source": [
    "라이브러리 셋팅"
   ]
  },
  {
   "cell_type": "code",
   "execution_count": 2,
   "metadata": {},
   "outputs": [],
   "source": [
    "import pandas as pd\n",
    "import numpy as np\n",
    "import seaborn as sns\n",
    "import matplotlib.pyplot as plt"
   ]
  },
  {
   "cell_type": "markdown",
   "metadata": {},
   "source": [
    "한글 폰트 입력 -> 깨짐 방지"
   ]
  },
  {
   "cell_type": "code",
   "execution_count": 3,
   "metadata": {},
   "outputs": [],
   "source": [
    "# 한글 폰트 사용을 위해서 세팅\n",
    "from matplotlib import font_manager, rc\n",
    "font_path = \"C:/Windows/Fonts/NGULIM.TTF\"\n",
    "font = font_manager.FontProperties(fname=font_path).get_name()\n",
    "rc('font', family=font)"
   ]
  },
  {
   "cell_type": "markdown",
   "metadata": {},
   "source": [
    "데이터 가져오기(전국 친환경차, 수원 친환경차)"
   ]
  },
  {
   "cell_type": "code",
   "execution_count": 126,
   "metadata": {},
   "outputs": [
    {
     "data": {
      "text/html": [
       "<div>\n",
       "<style scoped>\n",
       "    .dataframe tbody tr th:only-of-type {\n",
       "        vertical-align: middle;\n",
       "    }\n",
       "\n",
       "    .dataframe tbody tr th {\n",
       "        vertical-align: top;\n",
       "    }\n",
       "\n",
       "    .dataframe thead th {\n",
       "        text-align: right;\n",
       "    }\n",
       "</style>\n",
       "<table border=\"1\" class=\"dataframe\">\n",
       "  <thead>\n",
       "    <tr style=\"text-align: right;\">\n",
       "      <th></th>\n",
       "      <th>구 분</th>\n",
       "      <th>‘14말</th>\n",
       "      <th>‘15말</th>\n",
       "      <th>‘16말</th>\n",
       "      <th>‘17말</th>\n",
       "      <th>‘18말</th>\n",
       "      <th>‘19말</th>\n",
       "      <th>‘20말</th>\n",
       "      <th>‘21.7월</th>\n",
       "    </tr>\n",
       "  </thead>\n",
       "  <tbody>\n",
       "    <tr>\n",
       "      <th>0</th>\n",
       "      <td>계</td>\n",
       "      <td>140,297</td>\n",
       "      <td>180,361</td>\n",
       "      <td>244,158</td>\n",
       "      <td>339,134</td>\n",
       "      <td>461,733</td>\n",
       "      <td>601,048</td>\n",
       "      <td>820,329</td>\n",
       "      <td>1,003,539</td>\n",
       "    </tr>\n",
       "    <tr>\n",
       "      <th>1</th>\n",
       "      <td>하이브리드차</td>\n",
       "      <td>137,522</td>\n",
       "      <td>174,620</td>\n",
       "      <td>233,216</td>\n",
       "      <td>313,856</td>\n",
       "      <td>405,084</td>\n",
       "      <td>506,047</td>\n",
       "      <td>674,461</td>\n",
       "      <td>806,808</td>\n",
       "    </tr>\n",
       "    <tr>\n",
       "      <th>2</th>\n",
       "      <td>전기차</td>\n",
       "      <td>2,775</td>\n",
       "      <td>5,712</td>\n",
       "      <td>10,855</td>\n",
       "      <td>25,108</td>\n",
       "      <td>55,756</td>\n",
       "      <td>89,918</td>\n",
       "      <td>134,962</td>\n",
       "      <td>180,966</td>\n",
       "    </tr>\n",
       "    <tr>\n",
       "      <th>3</th>\n",
       "      <td>수소차</td>\n",
       "      <td>-</td>\n",
       "      <td>29</td>\n",
       "      <td>87</td>\n",
       "      <td>170</td>\n",
       "      <td>893</td>\n",
       "      <td>5,083</td>\n",
       "      <td>10,906</td>\n",
       "      <td>15,765</td>\n",
       "    </tr>\n",
       "    <tr>\n",
       "      <th>4</th>\n",
       "      <td>친환경차등록비중(%)</td>\n",
       "      <td>0.7</td>\n",
       "      <td>0.9</td>\n",
       "      <td>1.1</td>\n",
       "      <td>1.5</td>\n",
       "      <td>2</td>\n",
       "      <td>2.5</td>\n",
       "      <td>3.4</td>\n",
       "      <td>4.1</td>\n",
       "    </tr>\n",
       "  </tbody>\n",
       "</table>\n",
       "</div>"
      ],
      "text/plain": [
       "           구 분     ‘14말     ‘15말     ‘16말     ‘17말     ‘18말     ‘19말     ‘20말  \\\n",
       "0            계  140,297  180,361  244,158  339,134  461,733  601,048  820,329   \n",
       "1       하이브리드차  137,522  174,620  233,216  313,856  405,084  506,047  674,461   \n",
       "2          전기차    2,775    5,712   10,855   25,108   55,756   89,918  134,962   \n",
       "3          수소차        -       29       87      170      893    5,083   10,906   \n",
       "4  친환경차등록비중(%)      0.7      0.9      1.1      1.5        2      2.5      3.4   \n",
       "\n",
       "      ‘21.7월  \n",
       "0  1,003,539  \n",
       "1    806,808  \n",
       "2    180,966  \n",
       "3     15,765  \n",
       "4        4.1  "
      ]
     },
     "execution_count": 126,
     "metadata": {},
     "output_type": "execute_result"
    }
   ],
   "source": [
    "all_data = pd.read_csv('./data-files/전국 친환경 자동차.csv')\n",
    "suwon1 = pd.read_csv('./data-files/수원시 전기차 연도별 출고 현황.csv')\n",
    "all_data"
   ]
  },
  {
   "cell_type": "code",
   "execution_count": 127,
   "metadata": {},
   "outputs": [
    {
     "data": {
      "text/html": [
       "<div>\n",
       "<style scoped>\n",
       "    .dataframe tbody tr th:only-of-type {\n",
       "        vertical-align: middle;\n",
       "    }\n",
       "\n",
       "    .dataframe tbody tr th {\n",
       "        vertical-align: top;\n",
       "    }\n",
       "\n",
       "    .dataframe thead th {\n",
       "        text-align: right;\n",
       "    }\n",
       "</style>\n",
       "<table border=\"1\" class=\"dataframe\">\n",
       "  <thead>\n",
       "    <tr style=\"text-align: right;\">\n",
       "      <th>구분</th>\n",
       "      <th>계</th>\n",
       "      <th>하이브리드차</th>\n",
       "      <th>전기차</th>\n",
       "      <th>수소차</th>\n",
       "      <th>친환경차비율</th>\n",
       "    </tr>\n",
       "    <tr>\n",
       "      <th>연도</th>\n",
       "      <th></th>\n",
       "      <th></th>\n",
       "      <th></th>\n",
       "      <th></th>\n",
       "      <th></th>\n",
       "    </tr>\n",
       "  </thead>\n",
       "  <tbody>\n",
       "    <tr>\n",
       "      <th>2014</th>\n",
       "      <td>140,297</td>\n",
       "      <td>137,522</td>\n",
       "      <td>2,775</td>\n",
       "      <td>-</td>\n",
       "      <td>0.7</td>\n",
       "    </tr>\n",
       "    <tr>\n",
       "      <th>2015</th>\n",
       "      <td>180,361</td>\n",
       "      <td>174,620</td>\n",
       "      <td>5,712</td>\n",
       "      <td>29</td>\n",
       "      <td>0.9</td>\n",
       "    </tr>\n",
       "    <tr>\n",
       "      <th>2016</th>\n",
       "      <td>244,158</td>\n",
       "      <td>233,216</td>\n",
       "      <td>10,855</td>\n",
       "      <td>87</td>\n",
       "      <td>1.1</td>\n",
       "    </tr>\n",
       "    <tr>\n",
       "      <th>2017</th>\n",
       "      <td>339,134</td>\n",
       "      <td>313,856</td>\n",
       "      <td>25,108</td>\n",
       "      <td>170</td>\n",
       "      <td>1.5</td>\n",
       "    </tr>\n",
       "    <tr>\n",
       "      <th>2018</th>\n",
       "      <td>461,733</td>\n",
       "      <td>405,084</td>\n",
       "      <td>55,756</td>\n",
       "      <td>893</td>\n",
       "      <td>2</td>\n",
       "    </tr>\n",
       "    <tr>\n",
       "      <th>2019</th>\n",
       "      <td>601,048</td>\n",
       "      <td>506,047</td>\n",
       "      <td>89,918</td>\n",
       "      <td>5,083</td>\n",
       "      <td>2.5</td>\n",
       "    </tr>\n",
       "    <tr>\n",
       "      <th>2020</th>\n",
       "      <td>820,329</td>\n",
       "      <td>674,461</td>\n",
       "      <td>134,962</td>\n",
       "      <td>10,906</td>\n",
       "      <td>3.4</td>\n",
       "    </tr>\n",
       "    <tr>\n",
       "      <th>2021</th>\n",
       "      <td>1,003,539</td>\n",
       "      <td>806,808</td>\n",
       "      <td>180,966</td>\n",
       "      <td>15,765</td>\n",
       "      <td>4.1</td>\n",
       "    </tr>\n",
       "  </tbody>\n",
       "</table>\n",
       "</div>"
      ],
      "text/plain": [
       "구분            계   하이브리드차      전기차     수소차 친환경차비율\n",
       "연도                                              \n",
       "2014    140,297  137,522    2,775       -    0.7\n",
       "2015    180,361  174,620    5,712      29    0.9\n",
       "2016    244,158  233,216   10,855      87    1.1\n",
       "2017    339,134  313,856   25,108     170    1.5\n",
       "2018    461,733  405,084   55,756     893      2\n",
       "2019    601,048  506,047   89,918   5,083    2.5\n",
       "2020    820,329  674,461  134,962  10,906    3.4\n",
       "2021  1,003,539  806,808  180,966  15,765    4.1"
      ]
     },
     "execution_count": 127,
     "metadata": {},
     "output_type": "execute_result"
    }
   ],
   "source": [
    "#전국 친환경차 데이터 전처리\n",
    "all_data = all_data.dropna()\n",
    "all_data = all_data.drop(columns='구 분')\n",
    "all_data.index = ['계', '하이브리드차', '전기차', '수소차', '친환경차비율']\n",
    "all_data.columns = ['2014', '2015', '2016', '2017', '2018', '2019', '2020', '2021']\n",
    "all_data.columns.names = ['연도']\n",
    "all_data.index.names = ['구분']\n",
    "all_data = all_data.transpose()\n",
    "all_data\n"
   ]
  },
  {
   "cell_type": "code",
   "execution_count": 128,
   "metadata": {},
   "outputs": [
    {
     "data": {
      "text/html": [
       "<div>\n",
       "<style scoped>\n",
       "    .dataframe tbody tr th:only-of-type {\n",
       "        vertical-align: middle;\n",
       "    }\n",
       "\n",
       "    .dataframe tbody tr th {\n",
       "        vertical-align: top;\n",
       "    }\n",
       "\n",
       "    .dataframe thead th {\n",
       "        text-align: right;\n",
       "    }\n",
       "</style>\n",
       "<table border=\"1\" class=\"dataframe\">\n",
       "  <thead>\n",
       "    <tr style=\"text-align: right;\">\n",
       "      <th>구분</th>\n",
       "      <th>계</th>\n",
       "      <th>하이브리드차</th>\n",
       "      <th>전기차</th>\n",
       "      <th>수소차</th>\n",
       "      <th>친환경차비율</th>\n",
       "    </tr>\n",
       "    <tr>\n",
       "      <th>연도</th>\n",
       "      <th></th>\n",
       "      <th></th>\n",
       "      <th></th>\n",
       "      <th></th>\n",
       "      <th></th>\n",
       "    </tr>\n",
       "  </thead>\n",
       "  <tbody>\n",
       "    <tr>\n",
       "      <th>2014</th>\n",
       "      <td>140297</td>\n",
       "      <td>137522</td>\n",
       "      <td>2775</td>\n",
       "      <td>0</td>\n",
       "      <td>0.7</td>\n",
       "    </tr>\n",
       "    <tr>\n",
       "      <th>2015</th>\n",
       "      <td>180361</td>\n",
       "      <td>174620</td>\n",
       "      <td>5712</td>\n",
       "      <td>29</td>\n",
       "      <td>0.9</td>\n",
       "    </tr>\n",
       "    <tr>\n",
       "      <th>2016</th>\n",
       "      <td>244158</td>\n",
       "      <td>233216</td>\n",
       "      <td>10855</td>\n",
       "      <td>87</td>\n",
       "      <td>1.1</td>\n",
       "    </tr>\n",
       "    <tr>\n",
       "      <th>2017</th>\n",
       "      <td>339134</td>\n",
       "      <td>313856</td>\n",
       "      <td>25108</td>\n",
       "      <td>170</td>\n",
       "      <td>1.5</td>\n",
       "    </tr>\n",
       "    <tr>\n",
       "      <th>2018</th>\n",
       "      <td>461733</td>\n",
       "      <td>405084</td>\n",
       "      <td>55756</td>\n",
       "      <td>893</td>\n",
       "      <td>2</td>\n",
       "    </tr>\n",
       "    <tr>\n",
       "      <th>2019</th>\n",
       "      <td>601048</td>\n",
       "      <td>506047</td>\n",
       "      <td>89918</td>\n",
       "      <td>5083</td>\n",
       "      <td>2.5</td>\n",
       "    </tr>\n",
       "    <tr>\n",
       "      <th>2020</th>\n",
       "      <td>820329</td>\n",
       "      <td>674461</td>\n",
       "      <td>134962</td>\n",
       "      <td>10906</td>\n",
       "      <td>3.4</td>\n",
       "    </tr>\n",
       "    <tr>\n",
       "      <th>2021</th>\n",
       "      <td>1003539</td>\n",
       "      <td>806808</td>\n",
       "      <td>180966</td>\n",
       "      <td>15765</td>\n",
       "      <td>4.1</td>\n",
       "    </tr>\n",
       "  </tbody>\n",
       "</table>\n",
       "</div>"
      ],
      "text/plain": [
       "구분          계  하이브리드차     전기차    수소차 친환경차비율\n",
       "연도                                         \n",
       "2014   140297  137522    2775      0    0.7\n",
       "2015   180361  174620    5712     29    0.9\n",
       "2016   244158  233216   10855     87    1.1\n",
       "2017   339134  313856   25108    170    1.5\n",
       "2018   461733  405084   55756    893      2\n",
       "2019   601048  506047   89918   5083    2.5\n",
       "2020   820329  674461  134962  10906    3.4\n",
       "2021  1003539  806808  180966  15765    4.1"
      ]
     },
     "execution_count": 128,
     "metadata": {},
     "output_type": "execute_result"
    }
   ],
   "source": [
    "# 천단위 콤마 제거\n",
    "all_data['계'] = all_data['계'].apply(lambda x: x.replace(',', ''))\n",
    "all_data['하이브리드차'] = all_data['하이브리드차'].apply(lambda x: x.replace(',', ''))\n",
    "all_data['전기차'] = all_data['전기차'].apply(lambda x: x.replace(',', ''))\n",
    "all_data['수소차'] = all_data['수소차'].apply(lambda x: x.replace(',', ''))\n",
    "all_data\n",
    "\n",
    "# 특수문자 제거 및 nan값 대체\n",
    "all_data[\"수소차\"] = all_data[\"수소차\"].str.replace(pat=r'[^\\w]', repl=r'0', regex=True)\n",
    "all_data = all_data.fillna('0')\n",
    "all_data\n"
   ]
  },
  {
   "cell_type": "code",
   "execution_count": 138,
   "metadata": {},
   "outputs": [
    {
     "name": "stdout",
     "output_type": "stream",
     "text": [
      "<class 'pandas.core.frame.DataFrame'>\n",
      "Index: 8 entries, 2014 to 2021\n",
      "Data columns (total 4 columns):\n",
      " #   Column  Non-Null Count  Dtype\n",
      "---  ------  --------------  -----\n",
      " 0   계       8 non-null      int32\n",
      " 1   하이브리드차  8 non-null      int32\n",
      " 2   전기차     8 non-null      int32\n",
      " 3   수소차     8 non-null      int32\n",
      "dtypes: int32(4)\n",
      "memory usage: 192.0+ bytes\n"
     ]
    }
   ],
   "source": [
    "all_data2 = all_data.drop(columns='친환경차비율')\n",
    "all_data2 = all_data2.astype(float).astype(int)\n",
    "all_data2.info()"
   ]
  },
  {
   "cell_type": "code",
   "execution_count": 182,
   "metadata": {},
   "outputs": [
    {
     "data": {
      "image/png": "[encoded data removed]",
      "text/plain": [
       "<Figure size 432x288 with 1 Axes>"
      ]
     },
     "metadata": {
      "needs_background": "light"
     },
     "output_type": "display_data"
    }
   ],
   "source": [
    "# 전국 친환경차 현황 시각화\n",
    "all_data2.plot(kind='bar', width=0.8)\n",
    "plt.show()"
   ]
  },
  {
   "cell_type": "code",
   "execution_count": 185,
   "metadata": {},
   "outputs": [
    {
     "data": {
      "image/png": "[encoded data removed]",
      "text/plain": [
       "<Figure size 432x288 with 1 Axes>"
      ]
     },
     "metadata": {
      "needs_background": "light"
     },
     "output_type": "display_data"
    }
   ],
   "source": [
    "# 전국 친환경차 시각화2\n",
    "all_data3 = all_data2.drop(columns='계')\n",
    "all_data3.plot(kind='bar', width = 1)\n",
    "plt.show()"
   ]
  },
  {
   "cell_type": "code",
   "execution_count": 149,
   "metadata": {},
   "outputs": [
    {
     "data": {
      "image/png": "[encoded data removed]",
      "text/plain": [
       "<Figure size 432x288 with 1 Axes>"
      ]
     },
     "metadata": {
      "needs_background": "light"
     },
     "output_type": "display_data"
    }
   ],
   "source": [
    "x = [ '2014', '2015', '2016', '2017', '2018', '2019', '2020', '2021']\n",
    "y = all_data2['계']\n",
    "plt.bar(x, y)\n",
    "for i, v in enumerate(x):\n",
    "    plt.text(v, y[i], str(y[i]),\n",
    "             fontsize=9,\n",
    "             color=\"black\",\n",
    "             horizontalalignment='center',\n",
    "             verticalalignment='bottom')\n",
    "\n",
    "\n",
    "plt.title(\"전국 친환경자동차 등록 현황\")\n",
    "plt.ylim(0, 1200000)\n",
    "plt.xlabel('연도')\n",
    "plt.ylabel('전기차')\n",
    "plt.show()"
   ]
  },
  {
   "cell_type": "code",
   "execution_count": 159,
   "metadata": {},
   "outputs": [
    {
     "data": {
      "image/png": "[encoded data removed]",
      "text/plain": [
       "<Figure size 432x288 with 1 Axes>"
      ]
     },
     "metadata": {
      "needs_background": "light"
     },
     "output_type": "display_data"
    }
   ],
   "source": [
    "x = [ '2014', '2015', '2016', '2017', '2018', '2019', '2020', '2021']\n",
    "y = all_data2['전기차']\n",
    "plt.bar(x, y, color='orange' )\n",
    "plt.title(\"전국 전기차 등록 현황\")\n",
    "for i, v in enumerate(x):\n",
    "    plt.text(v, y[i], str(y[i]),\n",
    "             fontsize=9,\n",
    "             color=\"black\",\n",
    "             horizontalalignment='center',\n",
    "             verticalalignment='bottom')\n",
    "\n",
    "plt.xlabel('연도')\n",
    "plt.ylabel('전기차')\n",
    "plt.show()"
   ]
  },
  {
   "cell_type": "code",
   "execution_count": 163,
   "metadata": {},
   "outputs": [
    {
     "data": {
      "image/png": "[encoded data removed]",
      "text/plain": [
       "<Figure size 432x288 with 1 Axes>"
      ]
     },
     "metadata": {
      "needs_background": "light"
     },
     "output_type": "display_data"
    }
   ],
   "source": [
    "y = all_data['친환경차비율']\n",
    "plt.bar(x, y, color='green' )\n",
    "for i, v in enumerate(x):\n",
    "    plt.text(v, y[i], str(y[i]),\n",
    "             fontsize=9,\n",
    "             color=\"black\",\n",
    "             horizontalalignment='center',\n",
    "             verticalalignment='bottom')\n",
    "plt.title(\"전국 자동차등록 대비 친환경차 비율\")\n",
    "plt.xlabel('연도')\n",
    "plt.ylabel('친환경차 비율(%)')\n",
    "plt.show()"
   ]
  },
  {
   "cell_type": "code",
   "execution_count": 176,
   "metadata": {},
   "outputs": [
    {
     "data": {
      "image/png": "[encoded data removed]",
      "text/plain": [
       "<Figure size 432x288 with 1 Axes>"
      ]
     },
     "metadata": {
      "needs_background": "light"
     },
     "output_type": "display_data"
    }
   ],
   "source": [
    "\n",
    "\n"
   ]
  },
  {
   "cell_type": "code",
   "execution_count": 173,
   "metadata": {},
   "outputs": [
    {
     "ename": "SyntaxError",
     "evalue": "positional argument follows keyword argument (Temp/ipykernel_32088/201093553.py, line 2)",
     "output_type": "error",
     "traceback": [
      "\u001b[1;36m  File \u001b[1;32m\"C:\\Users\\kwonk\\AppData\\Local\\Temp/ipykernel_32088/201093553.py\"\u001b[1;36m, line \u001b[1;32m2\u001b[0m\n\u001b[1;33m    all_data2.plot(kind='bar', bar_width, stacked=True)\u001b[0m\n\u001b[1;37m                                                      ^\u001b[0m\n\u001b[1;31mSyntaxError\u001b[0m\u001b[1;31m:\u001b[0m positional argument follows keyword argument\n"
     ]
    }
   ],
   "source": [
    "bar_width=0.7\n",
    "all_data2.plot(kind='bar', bar_width, stacked=True)\n",
    "plt.show()"
   ]
  },
  {
   "cell_type": "code",
   "execution_count": 165,
   "metadata": {},
   "outputs": [
    {
     "ename": "TypeError",
     "evalue": "can only concatenate list (not \"float\") to list",
     "output_type": "error",
     "traceback": [
      "\u001b[1;31m---------------------------------------------------------------------------\u001b[0m",
      "\u001b[1;31mTypeError\u001b[0m                                 Traceback (most recent call last)",
      "\u001b[1;32m~\\AppData\\Local\\Temp/ipykernel_32088/257114581.py\u001b[0m in \u001b[0;36m<module>\u001b[1;34m\u001b[0m\n\u001b[0;32m      8\u001b[0m \u001b[0mbar_width\u001b[0m\u001b[1;33m=\u001b[0m\u001b[1;36m0.3\u001b[0m\u001b[1;33m\u001b[0m\u001b[1;33m\u001b[0m\u001b[0m\n\u001b[0;32m      9\u001b[0m \u001b[0mplt\u001b[0m\u001b[1;33m.\u001b[0m\u001b[0mbar\u001b[0m\u001b[1;33m(\u001b[0m\u001b[0mx\u001b[0m\u001b[1;33m,\u001b[0m \u001b[0my1\u001b[0m\u001b[1;33m,\u001b[0m \u001b[0mbar_width\u001b[0m\u001b[1;33m)\u001b[0m\u001b[1;33m\u001b[0m\u001b[1;33m\u001b[0m\u001b[0m\n\u001b[1;32m---> 10\u001b[1;33m \u001b[0mplt\u001b[0m\u001b[1;33m.\u001b[0m\u001b[0mbar\u001b[0m\u001b[1;33m(\u001b[0m\u001b[0mx\u001b[0m\u001b[1;33m+\u001b[0m\u001b[0mbar_width\u001b[0m\u001b[1;33m,\u001b[0m \u001b[0my2\u001b[0m\u001b[1;33m,\u001b[0m \u001b[0mbarwidth\u001b[0m\u001b[1;33m)\u001b[0m\u001b[1;33m\u001b[0m\u001b[1;33m\u001b[0m\u001b[0m\n\u001b[0m\u001b[0;32m     11\u001b[0m \u001b[0mplt\u001b[0m\u001b[1;33m.\u001b[0m\u001b[0mylim\u001b[0m\u001b[1;33m(\u001b[0m\u001b[1;36m0\u001b[0m\u001b[1;33m,\u001b[0m\u001b[1;36m1200000\u001b[0m\u001b[1;33m)\u001b[0m\u001b[1;33m\u001b[0m\u001b[1;33m\u001b[0m\u001b[0m\n\u001b[0;32m     12\u001b[0m \u001b[0mplt\u001b[0m\u001b[1;33m.\u001b[0m\u001b[0mshow\u001b[0m\u001b[1;33m(\u001b[0m\u001b[1;33m)\u001b[0m\u001b[1;33m\u001b[0m\u001b[1;33m\u001b[0m\u001b[0m\n",
      "\u001b[1;31mTypeError\u001b[0m: can only concatenate list (not \"float\") to list"
     ]
    },
    {
     "data": {
      "image/png": "[encoded data removed]",
      "text/plain": [
       "<Figure size 432x288 with 1 Axes>"
      ]
     },
     "metadata": {
      "needs_background": "light"
     },
     "output_type": "display_data"
    }
   ],
   "source": [
    "x = [ '2014', '2015', '2016', '2017', '2018', '2019', '2020', '2021']\n",
    "y1 = all_data2['계']\n",
    "y2 = all_data2['하이브리드차']\n",
    "y3 = all_data2['전기차']\n",
    "y4 = all_data2['수소차']\n",
    "\n",
    "plt.title('연도별 친환경 자동차 등록 현황')\n",
    "bar_width=0.3\n",
    "plt.bar(x, y1, bar_width)\n",
    "plt.bar(x+bar_width, y2, barwidth)\n",
    "plt.ylim(0,1200000)\n",
    "plt.show()"
   ]
  },
  {
   "cell_type": "code",
   "execution_count": 14,
   "metadata": {},
   "outputs": [
    {
     "data": {
      "text/html": [
       "<div>\n",
       "<style scoped>\n",
       "    .dataframe tbody tr th:only-of-type {\n",
       "        vertical-align: middle;\n",
       "    }\n",
       "\n",
       "    .dataframe tbody tr th {\n",
       "        vertical-align: top;\n",
       "    }\n",
       "\n",
       "    .dataframe thead th {\n",
       "        text-align: right;\n",
       "    }\n",
       "</style>\n",
       "<table border=\"1\" class=\"dataframe\">\n",
       "  <thead>\n",
       "    <tr style=\"text-align: right;\">\n",
       "      <th></th>\n",
       "      <th>연도</th>\n",
       "      <th>시도</th>\n",
       "      <th>지역구분</th>\n",
       "      <th>전기차</th>\n",
       "      <th>전기차 승용</th>\n",
       "      <th>전기차 화물</th>\n",
       "      <th>전기차 승합</th>\n",
       "    </tr>\n",
       "  </thead>\n",
       "  <tbody>\n",
       "    <tr>\n",
       "      <th>1</th>\n",
       "      <td>2019</td>\n",
       "      <td>경기</td>\n",
       "      <td>수원시</td>\n",
       "      <td>507</td>\n",
       "      <td>507</td>\n",
       "      <td>0</td>\n",
       "      <td>0</td>\n",
       "    </tr>\n",
       "    <tr>\n",
       "      <th>2</th>\n",
       "      <td>2020</td>\n",
       "      <td>경기</td>\n",
       "      <td>수원시</td>\n",
       "      <td>562</td>\n",
       "      <td>460</td>\n",
       "      <td>98</td>\n",
       "      <td>104</td>\n",
       "    </tr>\n",
       "    <tr>\n",
       "      <th>3</th>\n",
       "      <td>2021</td>\n",
       "      <td>경기</td>\n",
       "      <td>수원시</td>\n",
       "      <td>1222</td>\n",
       "      <td>948</td>\n",
       "      <td>221</td>\n",
       "      <td>53</td>\n",
       "    </tr>\n",
       "  </tbody>\n",
       "</table>\n",
       "</div>"
      ],
      "text/plain": [
       "     연도  시도 지역구분   전기차  전기차 승용  전기차 화물  전기차 승합\n",
       "1  2019  경기  수원시   507     507       0       0\n",
       "2  2020  경기  수원시   562     460      98     104\n",
       "3  2021  경기  수원시  1222     948     221      53"
      ]
     },
     "execution_count": 14,
     "metadata": {},
     "output_type": "execute_result"
    }
   ],
   "source": [
    "# 수원시 친환경차 데이터 전처리\n",
    "suwon1.index = [1,2,3]\n",
    "\n",
    "suwon1"
   ]
  },
  {
   "cell_type": "code",
   "execution_count": null,
   "metadata": {},
   "outputs": [],
   "source": [
    "all_df = all_data.loc[['2019', '2020', '2021']]\n",
    "all_df"
   ]
  },
  {
   "cell_type": "code",
   "execution_count": 1,
   "metadata": {},
   "outputs": [
    {
     "ename": "NameError",
     "evalue": "name 'plt' is not defined",
     "output_type": "error",
     "traceback": [
      "\u001b[1;31m---------------------------------------------------------------------------\u001b[0m",
      "\u001b[1;31mNameError\u001b[0m                                 Traceback (most recent call last)",
      "\u001b[1;32m~\\AppData\\Local\\Temp/ipykernel_32088/2058563697.py\u001b[0m in \u001b[0;36m<module>\u001b[1;34m\u001b[0m\n\u001b[0;32m      1\u001b[0m \u001b[0mlabel\u001b[0m \u001b[1;33m=\u001b[0m \u001b[1;33m[\u001b[0m\u001b[1;34m'2019'\u001b[0m\u001b[1;33m,\u001b[0m \u001b[1;34m'2020'\u001b[0m\u001b[1;33m,\u001b[0m \u001b[1;34m'2021'\u001b[0m\u001b[1;33m]\u001b[0m\u001b[1;33m\u001b[0m\u001b[1;33m\u001b[0m\u001b[0m\n\u001b[0;32m      2\u001b[0m \u001b[1;33m\u001b[0m\u001b[0m\n\u001b[1;32m----> 3\u001b[1;33m \u001b[0mplt\u001b[0m\u001b[1;33m.\u001b[0m\u001b[0mbar\u001b[0m\u001b[1;33m(\u001b[0m\u001b[0mlabel\u001b[0m\u001b[1;33m,\u001b[0m \u001b[0msuwon1\u001b[0m\u001b[1;33m[\u001b[0m\u001b[1;34m'전기차'\u001b[0m\u001b[1;33m]\u001b[0m\u001b[1;33m)\u001b[0m\u001b[1;33m\u001b[0m\u001b[1;33m\u001b[0m\u001b[0m\n\u001b[0m\u001b[0;32m      4\u001b[0m \u001b[1;32mfor\u001b[0m \u001b[0mi\u001b[0m\u001b[1;33m,\u001b[0m \u001b[0mv\u001b[0m \u001b[1;32min\u001b[0m \u001b[0menumerate\u001b[0m\u001b[1;33m(\u001b[0m\u001b[0mx\u001b[0m\u001b[1;33m)\u001b[0m\u001b[1;33m:\u001b[0m\u001b[1;33m\u001b[0m\u001b[1;33m\u001b[0m\u001b[0m\n\u001b[0;32m      5\u001b[0m     plt.text(v, y[i], y[i],                 \n",
      "\u001b[1;31mNameError\u001b[0m: name 'plt' is not defined"
     ]
    }
   ],
   "source": [
    "label = ['2019', '2020', '2021']\n",
    "\n",
    "plt.bar(label, suwon1['전기차'])\n",
    "for i, v in enumerate(x):\n",
    "    plt.text(v, y[i], y[i],                 \n",
    "             fontsize = 9, \n",
    "             color='blue',\n",
    "             horizontalalignment='center',  \n",
    "             verticalalignment='bottom')    \n",
    "\n",
    "plt.show()\n",
    "plt.title(\"수원시 전기차 등록 현황\")\n",
    "plt.xlabel('연도')\n",
    "plt.ylabel('전기차')\n",
    "plt.show()"
   ]
  },
  {
   "cell_type": "code",
   "execution_count": null,
   "metadata": {},
   "outputs": [],
   "source": [
    "label = [ '2014', '2015', '2016', '2017', '2018', '2019', '2020', '2021']\n",
    "\n",
    "plt.bar(label, all_data['전기차'])\n",
    "plt.title(\"전국 전기차 등록 현황\")\n",
    "plt.xlabel('연도')\n",
    "plt.ylabel('전기차')\n",
    "for i in range(len(x)):\n",
    "    height = x[i]\n",
    "    plt.text(x[i], '%.1f' %height, ha='center', va='bottom', size = 12)\n",
    "plt.show()"
   ]
  },
  {
   "cell_type": "code",
   "execution_count": null,
   "metadata": {},
   "outputs": [
    {
     "data": {
      "text/plain": [
       "Index(['2014', '2015', '2016', '2017', '2018', '2019', '2020', '2021'], dtype='object', name='연도')"
      ]
     },
     "execution_count": 101,
     "metadata": {},
     "output_type": "execute_result"
    }
   ],
   "source": [
    "all_x = all_data.columns\n",
    "all_y = all_data.index\n",
    "all_x\n",
    "all_y"
   ]
  }
 ],
 "metadata": {
  "interpreter": {
   "hash": "ecf5722fdaf1897a315d257d89d94520bfcaa453217d5becf09b39e73618b0de"
  },
  "kernelspec": {
   "display_name": "Python 3.9.5 64-bit ('base': conda)",
   "name": "python3"
  },
  "language_info": {
   "codemirror_mode": {
    "name": "ipython",
    "version": 3
   },
   "file_extension": ".py",
   "mimetype": "text/x-python",
   "name": "python",
   "nbconvert_exporter": "python",
   "pygments_lexer": "ipython3",
   "version": "3.9.5"
  },
  "orig_nbformat": 4
 },
 "nbformat": 4,
 "nbformat_minor": 2
}
