{
  "cells": [
    {
      "cell_type": "markdown",
      "metadata": {
        "id": "iKO3PtJzhcp0"
      },
      "source": [
        "#Neural Network Embedding Recommendation System\n",
        "1. Load in data and clean\n",
        "2. Prepare data for supervised machine learning task\n",
        "3. Build the entity embedding neural network\n",
        "4. Train the neural network on prediction task\n",
        "5. Extract embeddings and find most similar books and wikilinks\n",
        "6. Visualize the embeddings using dimension reduction techniques"
      ]
    },
    {
      "cell_type": "markdown",
      "metadata": {
        "id": "Sz5USNEwgQuW"
      },
      "source": [
        "## 1. Read Data & Clean\n",
        ": 모든 책의 데이터는 json으로 저장되어 있음. 해당 데이터는 위키피디아의 모든 책에 대한 기사가 포함되어 있음"
      ]
    },
    {
      "cell_type": "markdown",
      "metadata": {
        "id": "m7AZUH2mpK7p"
      },
      "source": [
        "1-1. 데이터 불러오기"
      ]
    },
    {
      "cell_type": "code",
      "execution_count": null,
      "metadata": {},
      "outputs": [],
      "source": [
        "import tensorflow as tf"
      ]
    },
    {
      "cell_type": "code",
      "execution_count": 1,
      "metadata": {
        "id": "Uy2s0AvFe3wn"
      },
      "outputs": [],
      "source": [
        "from IPython.core.interactiveshell import InteractiveShell\n",
        "\n",
        "# Set shell to show all lines of output\n",
        "# jupyter notebook에서 모든 ourput 나타내기\n",
        "InteractiveShell.ast_node_interactivity = 'all'"
      ]
    },
    {
      "cell_type": "code",
      "execution_count": 3,
      "metadata": {
        "colab": {
          "base_uri": "https://localhost:8080/"
        },
        "id": "sPxHGX5SjObw",
        "outputId": "4c453472-48c8-49f3-bb59-48c65efd12ac"
      },
      "outputs": [
        {
          "name": "stdout",
          "output_type": "stream",
          "text": [
            "Found 37020 books.\n"
          ]
        }
      ],
      "source": [
        "# utils import get_file == url -> file download\n",
        "import tensorflow as tf\n",
        "# from keras.utils import get_file\n",
        "\n",
        "x = tf.keras.utils.get_file('found_books_filtered.ndjson', 'https://raw.githubusercontent.com/WillKoehrsen/wikipedia-data-science/master/data/found_books_filtered.ndjson')\n",
        "\n",
        "import json\n",
        "\n",
        "books = []\n",
        "\n",
        "with open(x, 'r') as fin: # 'r' 읽기용으로 파일 열기\n",
        "    # Append each line to the books\n",
        "    books = [json.loads(l) for l in fin]\n",
        "\n",
        "# Remove non-book articles\n",
        "books_with_wikipedia = [book for book in books if 'Wikipedia:' in book[0]]\n",
        "books = [book for book in books if 'Wikipedia:' not in book[0]]\n",
        "print(f'Found {len(books)} books.')\n"
      ]
    },
    {
      "cell_type": "markdown",
      "metadata": {
        "id": "w3mghEVTpHnr"
      },
      "source": [
        "1-2. 데이터 전처리\n",
        "- 책에 관한 모든 페이지를 검색해 책의 제목, 기본 정보, 다른 위키피디아 페이지(위키링크)를 가리키는 링크, 외부 사이트 링크를 저장\n",
        "- 추천 시스템을 만들기 위해 필요한 정보는 제목과 위키링크 두 가지입니다\n",
        "- 일부 기사에는 책에대한 기사가 아닌 것들을 잡아낸다."
      ]
    },
    {
      "cell_type": "code",
      "execution_count": 4,
      "metadata": {
        "colab": {
          "base_uri": "https://localhost:8080/"
        },
        "id": "pdO5-yTyo1Nu",
        "outputId": "9e9a8117-0d8c-4137-c534-c70649e7059f"
      },
      "outputs": [
        {
          "data": {
            "text/plain": [
              "['Wikipedia:Wikipedia Signpost/2014-06-25/Recent research',\n",
              " 'Wikipedia:New pages patrol/Unpatrolled articles/December 2010',\n",
              " 'Wikipedia:Templates for discussion/Log/2012 September 23']"
            ]
          },
          "execution_count": 4,
          "metadata": {},
          "output_type": "execute_result"
        }
      ],
      "source": [
        "# book list 내부의 book_with_wikipedia 일부 가져오기\n",
        "[book[0] for book in books_with_wikipedia][:3]\n",
        "\n"
      ]
    },
    {
      "cell_type": "code",
      "execution_count": 5,
      "metadata": {
        "colab": {
          "base_uri": "https://localhost:8080/"
        },
        "id": "rZegunCLxAFa",
        "outputId": "33cec001-e6f5-4bca-c3ea-5ae77c22f42d"
      },
      "outputs": [
        {
          "data": {
            "text/plain": [
              "('Limonov (novel)',\n",
              " {'name': 'Limonov',\n",
              "  'author': 'Emmanuel Carrère',\n",
              "  'translator': 'John Lambert',\n",
              "  'country': 'France',\n",
              "  'language': 'French',\n",
              "  'publisher': 'P.O.L.',\n",
              "  'pub_date': '2011',\n",
              "  'english_pub_date': '2014',\n",
              "  'pages': '488',\n",
              "  'isbn': '978-2-8180-1405-9'},\n",
              " ['Emmanuel Carrère',\n",
              "  'biographical novel',\n",
              "  'Emmanuel Carrère',\n",
              "  'Eduard Limonov',\n",
              "  'Prix de la langue française'],\n",
              " ['Limonov (novel)',\n",
              "  {'name': 'Limonov',\n",
              "   'author': 'Emmanuel Carrère',\n",
              "   'translator': 'John Lambert',\n",
              "   'country': 'France',\n",
              "   'language': 'French',\n",
              "   'publisher': 'P.O.L.',\n",
              "   'pub_date': '2011',\n",
              "   'english_pub_date': '2014',\n",
              "   'pages': '488',\n",
              "   'isbn': '978-2-8180-1405-9'},\n",
              "  ['Emmanuel Carrère',\n",
              "   'biographical novel',\n",
              "   'Emmanuel Carrère',\n",
              "   'Eduard Limonov',\n",
              "   'Prix de la langue française',\n",
              "   'Prix Renaudot',\n",
              "   '2011 in literature',\n",
              "   'Contemporary French literature',\n",
              "   'Category:2011 French novels',\n",
              "   'Category:French biographies',\n",
              "   'Category:Biographical novels',\n",
              "   'Category:National Bolshevism'],\n",
              "  ['http://www.lefigaro.fr/flash-actu/2011/10/05/97001-20111005FILWWW00615-le-prix-de-la-langue-francaise-a-e-carrere.php',\n",
              "   'http://www.lexpress.fr/culture/livre/emmanuel-carrere-prix-renaudot-2011_1046819.html',\n",
              "   'http://limonow.de/carrere/index.html',\n",
              "   'http://www.tout-sur-limonov.fr/222318809'],\n",
              "  '2018-08-18T02:03:21Z'],\n",
              " ['Limonov (novel)',\n",
              "  {'name': 'Limonov',\n",
              "   'author': 'Emmanuel Carrère',\n",
              "   'translator': 'John Lambert',\n",
              "   'country': 'France',\n",
              "   'language': 'French',\n",
              "   'publisher': 'P.O.L.',\n",
              "   'pub_date': '2011',\n",
              "   'english_pub_date': '2014',\n",
              "   'pages': '488',\n",
              "   'isbn': '978-2-8180-1405-9'},\n",
              "  ['Emmanuel Carrère',\n",
              "   'biographical novel',\n",
              "   'Emmanuel Carrère',\n",
              "   'Eduard Limonov',\n",
              "   'Prix de la langue française',\n",
              "   'Prix Renaudot',\n",
              "   '2011 in literature',\n",
              "   'Contemporary French literature',\n",
              "   'Category:2011 French novels',\n",
              "   'Category:French biographies',\n",
              "   'Category:Biographical novels',\n",
              "   'Category:National Bolshevism'],\n",
              "  ['http://www.lefigaro.fr/flash-actu/2011/10/05/97001-20111005FILWWW00615-le-prix-de-la-langue-francaise-a-e-carrere.php',\n",
              "   'http://www.lexpress.fr/culture/livre/emmanuel-carrere-prix-renaudot-2011_1046819.html',\n",
              "   'http://limonow.de/carrere/index.html',\n",
              "   'http://www.tout-sur-limonov.fr/222318809'],\n",
              "  '2018-08-18T02:03:21Z'],\n",
              " '2018-08-18T02:03:21Z',\n",
              " 1437)"
            ]
          },
          "execution_count": 5,
          "metadata": {},
          "output_type": "execute_result"
        }
      ],
      "source": [
        "# 제목, 'infoboxs book'의 정보, 위키피디아 링크, 외부링크, 최종수정날짜, 기사의 문자 수\n",
        "# title, information from 'infobos book' template, wikipedia links, externel links, the date of last edit, the number of characters in article\n",
        "n = 21\n",
        "books[n][0], books[n][1], books[n][2][:5], books[n][:5], books[n][:5], books[n][4], books[n][5]"
      ]
    },
    {
      "cell_type": "code",
      "execution_count": 6,
      "metadata": {
        "colab": {
          "base_uri": "https://localhost:8080/",
          "height": 36
        },
        "id": "EkWSE3QTp-Of",
        "outputId": "425cb5b9-27ef-4969-d6a7-6a040175517f"
      },
      "outputs": [
        {
          "data": {
            "text/plain": [
              "98"
            ]
          },
          "execution_count": 6,
          "metadata": {},
          "output_type": "execute_result"
        },
        {
          "data": {
            "text/plain": [
              "'Dreaming Spies'"
            ]
          },
          "execution_count": 6,
          "metadata": {},
          "output_type": "execute_result"
        },
        {
          "data": {
            "text/plain": [
              "'A Million Ways to Die in the West (novel)'"
            ]
          },
          "execution_count": 6,
          "metadata": {},
          "output_type": "execute_result"
        },
        {
          "name": "stdout",
          "output_type": "stream",
          "text": [
            "Found 37020 books.\n"
          ]
        }
      ],
      "source": [
        "# 책정보 정수로 변경하기 # index \n",
        "book_index = {book[0] : idx for idx, book in enumerate(books)} #enumerate : 인덱스, 원소로 이루어진 tuple로 만들어줌\n",
        "index_book = {idx : book for book, idx in book_index.items()} # items() : key와 대응값 가져오기 # book_index의 대응값 'title' 가져오기\n",
        "\n",
        "book_index['Dreaming Spies']\n",
        "index_book[98]\n",
        "index_book[100]\n",
        "\n",
        "print(f'Found {len(books)} books.')\n"
      ]
    },
    {
      "cell_type": "code",
      "execution_count": 7,
      "metadata": {
        "colab": {
          "base_uri": "https://localhost:8080/"
        },
        "id": "2oOBE_36uXIJ",
        "outputId": "864038b5-f548-4e80-a55c-4c9899c52131"
      },
      "outputs": [
        {
          "name": "stdout",
          "output_type": "stream",
          "text": [
            "There are 311276 unique wikilinks.\n"
          ]
        }
      ],
      "source": [
        "# Exploring Wikilinks\n",
        "# chain method = 자기자신을 반환하면서 다른 함수를 지속적으로 호출할 수 있는 방법\n",
        "from itertools import chain\n",
        "wikilinks = list(chain(*[book[2] for book in books]))\n",
        "print(f\"There are {len(set(wikilinks))} unique wikilinks.\") # set() 중복제거\n"
      ]
    },
    {
      "cell_type": "code",
      "execution_count": 8,
      "metadata": {
        "colab": {
          "base_uri": "https://localhost:8080/"
        },
        "id": "clvBv9hbxhZ_",
        "outputId": "903e552b-e075-4ff7-9ce9-298e86708120"
      },
      "outputs": [
        {
          "name": "stdout",
          "output_type": "stream",
          "text": [
            "There are 17032 unique wikilinks to other books\n"
          ]
        }
      ],
      "source": [
        "# 다른책에는 얼마나 많은 wiki link가 있나?\n",
        "wikilinks_other_book = [link for link in wikilinks if link in book_index.keys()] #link에 key, 대응값이 있다면 wikilinks에서 link list로 뽑아 만든다\n",
        "print(f\"There are {len(set(wikilinks_other_book))} unique wikilinks to other books\") # 중복치 제거 길이값"
      ]
    },
    {
      "cell_type": "code",
      "execution_count": 9,
      "metadata": {
        "id": "iILdbuzIyOJy"
      },
      "outputs": [],
      "source": [
        "# 가장 많이 연결된 기사 찾기\n",
        "# items 항목 수가 카운트된 dictionary를 반환하는 함수를 만든다.\n",
        "# collections module : count(개수세기), OrderedDict\n",
        "\n",
        "from collections import Counter, OrderedDict\n",
        "\n",
        "def count_items(l):\n",
        "  # Return ordered dictionary of counts of objects in `l`\n",
        "  # create a count object\n",
        "  counts = Counter(l)\n",
        "\n",
        "  # sort by highest count first and place in orderd dictionary\n",
        "  # sort(key = (key인자에 함수를 넘겨주면 우선순위가 정해진다))\n",
        "  counts = sorted(counts.items(), key = lambda x: x[1], reverse = True)  # x[1] 우선순위 숫자로 변경, reverse = 높은 숫자부터\n",
        "  counts = OrderedDict(counts) # 데이터 순서 설정(key, val)\n",
        "\n",
        "  return counts\n"
      ]
    },
    {
      "cell_type": "code",
      "execution_count": 10,
      "metadata": {
        "colab": {
          "base_uri": "https://localhost:8080/"
        },
        "id": "ujQHR6VY3dke",
        "outputId": "b37942e1-8e35-418f-9168-39240ad62ead"
      },
      "outputs": [
        {
          "data": {
            "text/plain": [
              "[('paperback', 8740),\n",
              " ('hardcover', 8648),\n",
              " ('wikipedia:wikiproject books', 6043),\n",
              " ('wikipedia:wikiproject novels', 6016),\n",
              " ('science fiction', 5665),\n",
              " ('english language', 4248),\n",
              " ('united states', 3063),\n",
              " ('novel', 2983),\n",
              " ('the new york times', 2742),\n",
              " ('fantasy', 2003)]"
            ]
          },
          "execution_count": 10,
          "metadata": {},
          "output_type": "execute_result"
        }
      ],
      "source": [
        "# Find set of wikilinks from each book and convert to a flattend last\n",
        "# 각각 책에서 wikilinks 설정을 찾고 1차원으로 변경하기\n",
        "\n",
        "# list(chain(*(set ~~))) = ????\n",
        "\n",
        "unique_wikilinks = list(chain(*[list(set(book[2])) for book in books])) # books의 중복치를 제거한 wikilinks 값\n",
        "wikilinks = [link.lower() for link in unique_wikilinks] # lower() 대문자 -> 소문자 : 동일링크 : paperback, Paperback, PAPERBACK 등 링크 통합\n",
        "\n",
        "wikilink_counts = count_items(wikilinks) # 가장 많이 사용된 wikilinks의 unique_counts 상위 10개 불러오기\n",
        "list(wikilink_counts.items())[:10]"
      ]
    },
    {
      "cell_type": "code",
      "execution_count": 11,
      "metadata": {
        "colab": {
          "base_uri": "https://localhost:8080/",
          "height": 305
        },
        "id": "cPUOeKURbpSC",
        "outputId": "b8818f38-70df-4717-cc3b-ae824956ccee"
      },
      "outputs": [
        {
          "data": {
            "text/plain": [
              "Text(0.5, 1.0, 'wikilink_counts_top10')"
            ]
          },
          "execution_count": 11,
          "metadata": {},
          "output_type": "execute_result"
        },
        {
          "data": {
            "image/png": "[encoded data removed]",
            "text/plain": [
              "<Figure size 432x288 with 1 Axes>"
            ]
          },
          "metadata": {
            "needs_background": "light"
          },
          "output_type": "display_data"
        }
      ],
      "source": [
        "# 데이터 시각화\n",
        "# wikilink_ count_top10\n",
        "\n",
        "# for i in range(11):\n",
        "#   wikilink_counts_top = list(wikilink_counts.items())[i]\n",
        "import matplotlib.pyplot as plt\n",
        "wikilink_counts_top = list(wikilink_counts.items())[:10]\n",
        "\n",
        "index = [8740, 8648, 6043, 6016, 5665, 4248, 3063, 2983, 2742, 2003]\n",
        "columns = ['paperback', 'hardcover', 'wikipedia:wikiproject books', 'wikipedia:wikiproject novels', 'science fiction', 'english language', 'united states', 'novel', 'the new york times', 'fantasy']\n",
        "bar_plot = plt.barh(columns, index)\n",
        "\n",
        "# def autolabel(rects):\n",
        "#     for idx,rect in enumerate(bar_plot):\n",
        "#         height = rect.get_height()\n",
        "#         ax.text(rect.get_x() + rect.get_width()/2., 1.05*height,index[idx],\n",
        "#                 ha='center', va='bottom', rotation=0)\n",
        "# autolabel(bar_plot)\n",
        "plt.title('wikilink_counts_top10', fontsize=20)\n",
        "plt.xlabel = ('unique wikilinks')\n",
        "plt.ylabel = ('counts')\n",
        "plt.show()"
      ]
    },
    {
      "cell_type": "code",
      "execution_count": 12,
      "metadata": {
        "id": "sf7vMVkE1KaY"
      },
      "outputs": [],
      "source": [
        "## wikilinks unique값 구하기\n",
        "# 가장 많은 wikilink 제거하기\n",
        "# paperback, hardcover, wikipedia:wikiproject books, wikipedia:wikiproject novels\n",
        "# 이유 \n",
        "# 1) paperback(얇은 가벼운 재질의 책), hardcover(딱딱한 겉표지), hardback(=hardcover), e-book(책의 종류, 내용 X) -> 도서정보와 관련이 없음\n",
        "# 2) wikiproject books, wikiproject novels (wikiproject = 단순 책에 대한 정보 정리, 기사 X, 콘텐츠 기반 X)\n",
        "\n",
        "to_remove = ['hardcover', 'paperback', 'hardback', 'e-book', 'wikipedia:wikiproject books', 'wikipedia:wikiproject novels'] \n",
        "\n",
        "for t in to_remove:\n",
        "    wikilinks.remove(t)\n",
        "    _ = wikilink_counts.pop(t) # ????? #pop(t) t가 들어간 to_move의 카테고리들을 제거해라"
      ]
    },
    {
      "cell_type": "code",
      "execution_count": 13,
      "metadata": {
        "colab": {
          "base_uri": "https://localhost:8080/"
        },
        "id": "vu-3SnO10Jpb",
        "outputId": "d08d9042-254b-4a44-e230-700458428e4f"
      },
      "outputs": [
        {
          "data": {
            "text/plain": [
              "list"
            ]
          },
          "execution_count": 13,
          "metadata": {},
          "output_type": "execute_result"
        },
        {
          "data": {
            "text/plain": [
              "41758"
            ]
          },
          "execution_count": 13,
          "metadata": {},
          "output_type": "execute_result"
        }
      ],
      "source": [
        "# 5번 이상 나온 wikilinks를 사용한다.\n",
        "\n",
        "links = [t[0] for t in wikilink_counts.items() if t[1] >= 4] # ?????\n",
        "type(links)\n",
        "len(links)\n"
      ]
    },
    {
      "cell_type": "code",
      "execution_count": 14,
      "metadata": {
        "colab": {
          "base_uri": "https://localhost:8080/"
        },
        "id": "n7VKwcsP1ypm",
        "outputId": "915c2f05-dad3-4228-afa1-9006d8bf794c"
      },
      "outputs": [
        {
          "data": {
            "text/plain": [
              "[('The Encyclopedia of Science Fiction', 127),\n",
              " ('The Discontinuity Guide', 104),\n",
              " ('The Encyclopedia of Fantasy', 63),\n",
              " ('Dracula', 55),\n",
              " ('Encyclopædia Britannica', 51),\n",
              " ('Nineteen Eighty-Four', 51),\n",
              " ('Don Quixote', 49),\n",
              " ('The Wonderful Wizard of Oz', 49),\n",
              " (\"Alice's Adventures in Wonderland\", 47),\n",
              " ('Jane Eyre', 39)]"
            ]
          },
          "execution_count": 14,
          "metadata": {},
          "output_type": "execute_result"
        }
      ],
      "source": [
        "# wikipedia에서 다른 책과 가장 많이 연결된 도서 top10\n",
        "# 각 책에대한 book wikilinks 찾기\n",
        "unique_wikilinks_books = list(chain(*[list(set(link for link in book[2] if link in book_index.keys())) for book in books])) # * 모든것 : chain(10) -> 10 11 12 13 14 이어붙이기 \n",
        "\n",
        "# 다른책에서 링크된 책의 숫자\n",
        "wikilinks_book_counts = count_items(unique_wikilinks_books)\n",
        "list(wikilinks_book_counts.items())[:10]\n",
        "\n"
      ]
    },
    {
      "cell_type": "code",
      "execution_count": 120,
      "metadata": {
        "colab": {
          "base_uri": "https://localhost:8080/",
          "height": 305
        },
        "id": "LVwpVViBl_kH",
        "outputId": "aca005bc-43d9-4375-e454-7a5daa2f4541"
      },
      "outputs": [
        {
          "data": {
            "text/plain": [
              "Text(0.5, 1.0, 'Most linked to books by Wikipedia books')"
            ]
          },
          "execution_count": 120,
          "metadata": {},
          "output_type": "execute_result"
        },
        {
          "data": {
            "image/png": "[encoded data removed]",
            "text/plain": [
              "<Figure size 432x288 with 1 Axes>"
            ]
          },
          "metadata": {},
          "output_type": "display_data"
        }
      ],
      "source": [
        "index = [127, 104, 63, 55, 51, 51, 49, 49, 47, 39]\n",
        "columns = ['The Encyclopedia of Science Fiction', 'The Discontinuity Guide', 'The Encyclopedia of Fantasy', 'Dracula', 'Encyclopædia Britannica', 'Nineteen Eighty-Four', 'Don Quixote', 'The Wonderful Wizard of Oz', \"Alice's Adventures in Wonderland\", 'Jane Eyre']\n",
        "bar_plot = plt.barh(columns, index)\n",
        "\n",
        "plt.title('Most linked to books by Wikipedia books', fontsize=20)\n",
        "plt.xlabel = ('unique wikilinks')\n",
        "plt.ylabel = ('linked counts')\n",
        "plt.show()"
      ]
    },
    {
      "cell_type": "code",
      "execution_count": 121,
      "metadata": {
        "colab": {
          "base_uri": "https://localhost:8080/"
        },
        "id": "IES_6zwGnuEJ",
        "outputId": "51e8b7fb-1ef6-4acc-f4f9-d4813ef33e35"
      },
      "outputs": [
        {
          "name": "stdout",
          "output_type": "stream",
          "text": [
            "Found 37020 books.\n",
            "Found 31901 links.\n"
          ]
        }
      ],
      "source": [
        "# 데이터 전처리 결과\n",
        "print(f'Found {len(books)} books.')\n",
        "print(f'Found {len(links)} links.')"
      ]
    },
    {
      "cell_type": "markdown",
      "metadata": {
        "id": "F4HuG2ulm_QJ"
      },
      "source": [
        "## wikilinks to_index 작업"
      ]
    },
    {
      "cell_type": "code",
      "execution_count": 15,
      "metadata": {
        "colab": {
          "base_uri": "https://localhost:8080/",
          "height": 36
        },
        "id": "9wqMk2r0DjJV",
        "outputId": "7930c04e-8835-49c6-9fca-7f937e8f6cc3"
      },
      "outputs": [
        {
          "data": {
            "text/plain": [
              "725"
            ]
          },
          "execution_count": 15,
          "metadata": {},
          "output_type": "execute_result"
        },
        {
          "data": {
            "text/plain": [
              "'ernest hemingway'"
            ]
          },
          "execution_count": 15,
          "metadata": {},
          "output_type": "execute_result"
        },
        {
          "data": {
            "text/plain": [
              "5100"
            ]
          },
          "execution_count": 15,
          "metadata": {},
          "output_type": "execute_result"
        },
        {
          "data": {
            "text/plain": [
              "'renewable energy'"
            ]
          },
          "execution_count": 15,
          "metadata": {},
          "output_type": "execute_result"
        },
        {
          "data": {
            "text/plain": [
              "30101"
            ]
          },
          "execution_count": 15,
          "metadata": {},
          "output_type": "execute_result"
        },
        {
          "data": {
            "text/plain": [
              "'swastika'"
            ]
          },
          "execution_count": 15,
          "metadata": {},
          "output_type": "execute_result"
        },
        {
          "name": "stdout",
          "output_type": "stream",
          "text": [
            "There are 41758 wikilinks that will be used.\n"
          ]
        }
      ],
      "source": [
        "# Wikilinks to Index\n",
        "# book 데이터를 정수로 바꾸어주었듯이, Wikilinks도 정수로 바꿔준다\n",
        "link_index = {link: idx for idx, link in enumerate(links)}\n",
        "index_link = {idx: link for link, idx in link_index.items()}\n",
        "\n",
        "link_index['ernest hemingway']\n",
        "index_link[725]\n",
        "link_index['renewable energy']\n",
        "index_link[5100]\n",
        "link_index['ismail merchant']\n",
        "index_link[30100]\n",
        "print(f'There are {len(link_index)} wikilinks that will be used.')\n"
      ]
    },
    {
      "cell_type": "markdown",
      "metadata": {
        "id": "A40a0D0gnzLt"
      },
      "source": [
        "######################################################################"
      ]
    },
    {
      "cell_type": "markdown",
      "metadata": {
        "id": "w7H4jD3tnwQP"
      },
      "source": [
        "#2.Superised Machine Learning Task\n",
        "임베딩 신경망을 훈련하기 위한 머신 러닝 작업을 개발하기\n",
        "\n",
        "##  Build a Training Set\n",
        "지도학습 :\n",
        "(book, links)의 값이 주어지면 데이터에 있는 정보인지 예측하는 학습모델을 만든다.\n",
        "trainset을 만들기 위해 모든책의 title, wikilink는 (title, wikilink)튜플 형태로 저장한다. \n"
      ]
    },
    {
      "cell_type": "code",
      "execution_count": 123,
      "metadata": {
        "id": "ZT1HtQVmq0Sb"
      },
      "outputs": [],
      "source": [
        "# # 책 이름과 책의 고유 인덱스 index 맵핑\n",
        "# type(books)\n",
        "# book_index = {book[0]: idx for idx, book in enumerate(books)}\n",
        "# print(book_index)\n",
        "\n",
        "# # 링크와 링크 고유 인덱스 mapping\n",
        "# # links = tuple(links)\n",
        "# type(links)\n",
        "# link_index = {book[2]: idx for idx, book in enumerate(links)}\n",
        "# print(link_index)"
      ]
    },
    {
      "cell_type": "code",
      "execution_count": 124,
      "metadata": {
        "id": "6YCMae2mqGQ1"
      },
      "outputs": [],
      "source": [
        "# pairs = []\n",
        "\n",
        "# # 각각 책이 나오도록 반복\n",
        "# for book in books:\n",
        "\n",
        "#     title = book[0]\n",
        "#     book_links = book[2]\n",
        "#     # 책에 관한 글에 있는 wikilinks 들을 반복\n",
        "#     for link in book_links:\n",
        "#         # 책의 인덱스와 링크 페어 저장\n",
        "#         pairs.extend(book_index[title], link_index[link])"
      ]
    },
    {
      "cell_type": "code",
      "execution_count": 16,
      "metadata": {
        "colab": {
          "base_uri": "https://localhost:8080/"
        },
        "id": "JvL9rHDNo668",
        "outputId": "2aebea63-7ee6-441a-815d-3c44fed1bd0c"
      },
      "outputs": [
        {
          "data": {
            "text/plain": [
              "(772798, 41758, 37020)"
            ]
          },
          "execution_count": 16,
          "metadata": {},
          "output_type": "execute_result"
        },
        {
          "data": {
            "text/plain": [
              "(321, 232)"
            ]
          },
          "execution_count": 16,
          "metadata": {},
          "output_type": "execute_result"
        }
      ],
      "source": [
        "pairs = [] # pairs 빈 list 생성\n",
        "\n",
        "# 각 책에대한 반복 수행\n",
        "for book in books:\n",
        "    # 각 책에대한 링크를 반복 수행\n",
        "    # 720,000개의 예시 추가\n",
        "    # 예시 각 title마다 link가 들어간 pairs만들기 (2, 616), (2, 2914) -> 77만개\n",
        "    # link_index[link.lower()]) for link in book[2] if link.lower() in links) -> links의 link가 소문자배열이라면 book[2]의 link를 반복해서 꺼내준다. -> link_index에 link.lower()= ex)navi 값이 들어가면 index 값이 나오게 된다.\n",
        "    pairs.extend((book_index[book[0]], link_index[link.lower()]) for link in book[2] if link.lower() in links)\n",
        "\n",
        "# 모델을 훈련시키기 위한 777,000개의 예시를 보여준다.\n",
        "len(pairs), len(links), len(books)\n",
        "pairs[5000]"
      ]
    },
    {
      "cell_type": "code",
      "execution_count": 126,
      "metadata": {
        "colab": {
          "base_uri": "https://localhost:8080/"
        },
        "id": "uhsS_r0C5vMl",
        "outputId": "422775ad-255b-404c-ad57-dee2b1b0d9b7"
      },
      "outputs": [
        {
          "data": {
            "text/plain": [
              "(345, 2932)"
            ]
          },
          "execution_count": 126,
          "metadata": {},
          "output_type": "execute_result"
        },
        {
          "data": {
            "text/plain": [
              "(2, 616)"
            ]
          },
          "execution_count": 126,
          "metadata": {},
          "output_type": "execute_result"
        },
        {
          "data": {
            "text/plain": [
              "(2, 2914)"
            ]
          },
          "execution_count": 126,
          "metadata": {},
          "output_type": "execute_result"
        },
        {
          "data": {
            "text/plain": [
              "(2, 4748)"
            ]
          },
          "execution_count": 126,
          "metadata": {},
          "output_type": "execute_result"
        },
        {
          "data": {
            "text/plain": [
              "(2, 2306)"
            ]
          },
          "execution_count": 126,
          "metadata": {},
          "output_type": "execute_result"
        }
      ],
      "source": [
        "# 모델을 훈련시키기 위한 777,000개의 예시를 보여준다.\n",
        "pairs[5000]\n",
        "\n",
        "pairs[50]\n",
        "pairs[51]\n",
        "pairs[52]\n",
        "pairs[53]"
      ]
    },
    {
      "cell_type": "code",
      "execution_count": 127,
      "metadata": {
        "colab": {
          "base_uri": "https://localhost:8080/"
        },
        "id": "tOKS3RplwlbE",
        "outputId": "e674f94c-60c2-4cc4-d8cd-02c7fa72a369"
      },
      "outputs": [
        {
          "data": {
            "text/plain": [
              "('The Young Elites', 'category:novels set in the 14th century')"
            ]
          },
          "execution_count": 127,
          "metadata": {},
          "output_type": "execute_result"
        },
        {
          "data": {
            "text/plain": [
              "('De Materia Medica', 'category:pharmacology literature')"
            ]
          },
          "execution_count": 127,
          "metadata": {},
          "output_type": "execute_result"
        }
      ],
      "source": [
        "# 777,000여개의 데이터 확인하기\n",
        "# 5000번대\n",
        "index_book[pairs[5000][0]], index_link[pairs[5000][1]]\n",
        "\n",
        "# 1200번대\n",
        "index_book[pairs[1200][0]], index_link[pairs[1200][1]]"
      ]
    },
    {
      "cell_type": "code",
      "execution_count": 128,
      "metadata": {
        "colab": {
          "base_uri": "https://localhost:8080/"
        },
        "id": "3uJ2vGXMxo1c",
        "outputId": "8f7b550a-aafb-4b9b-edad-cc87893f4795"
      },
      "outputs": [
        {
          "data": {
            "text/plain": [
              "[((13337, 31110), 85),\n",
              " ((31899, 65), 77),\n",
              " ((25899, 8851), 61),\n",
              " ((1851, 2629), 57),\n",
              " ((25899, 30465), 53),\n",
              " ((1851, 4634), 33),\n",
              " ((26736, 61), 32),\n",
              " ((13338, 31110), 31),\n",
              " ((30581, 780), 29),\n",
              " ((35030, 1904), 29)]"
            ]
          },
          "execution_count": 128,
          "metadata": {},
          "output_type": "execute_result"
        }
      ],
      "source": [
        "# paris 중복 제거\n",
        "pairs_set = set(pairs)\n",
        "\n",
        "# 가장 자주 나타나는 (title, link)\n",
        "x = Counter(pairs)\n",
        "sorted(x.items(), key = lambda x: x[1], reverse = True)[:10]"
      ]
    },
    {
      "cell_type": "markdown",
      "metadata": {
        "id": "g6Y5J8uy0L9g"
      },
      "source": [
        "## Train set에 관한 참고사항\n",
        "validation set or testset을 만들지 않는데, accuracy를 측정하는 모델이 아니라 embedding model을 생성하는 게 주된 목표이다.\n",
        "\n",
        "model train 후, 새로운 데이터에 대한 model test가 없으므로 과적합을 방지할 필요가 없다. \n"
      ]
    },
    {
      "cell_type": "code",
      "execution_count": 129,
      "metadata": {
        "id": "ivd3d6ai0LD8"
      },
      "outputs": [],
      "source": [
        "# 데이터셋 positive, negative 생성기 만들기\n",
        "# batch_size 정하기\n",
        "\n",
        "import numpy as np\n",
        "import random\n",
        "random.seed(100)\n",
        "\n",
        "def generate_batch(pairs, n_positive = 50, negative_ratio = 1.0, classification = False):\n",
        "  # batch를 저장할 numpy 배열 준비하기\n",
        "  batch_size = n_positive * (1 + negative_ratio) # 1 : positive가 할당받는 1 # + n_positive * (1 + negative_ratio) = n_positive + negative_ratio \n",
        "  batch = np.zeros((batch_size, 3)) # shape = batch_size * 3 -> next batch (book, link, batch)\n",
        "\n",
        "  # 라벨 조정하기\n",
        "  if classification:\n",
        "    neg_label = 0\n",
        "  else:\n",
        "    neg_label = -1\n",
        "\n",
        "  # 생성기 만들기\n",
        "  while True:\n",
        "    # 랜덤 positive 예시 선택\n",
        "    for idx, (book_id, link_id) in enumerate(random.sample(pairs, n_positive)):\n",
        "      batch[idx, :] = (book_id, link_id, 1)\n",
        "\n",
        "    # idx = 1씩 증가\n",
        "    idx += 1\n",
        "\n",
        "    # batchsize가 찰때까지, negative examples 추가\n",
        "    while idx < batch_size:\n",
        "\n",
        "      # 랜덤선택\n",
        "      random_book = random.randrange(len(books))\n",
        "      random_link = random.randrange(len(links))\n",
        "\n",
        "      # positive sample이 아니라는 걸 체크\n",
        "      if (random_book, random_link) not in pairs_set:\n",
        "\n",
        "        # 배치에 negative_index  추가하기 \n",
        "        batch[idx, :] = (random_book, random_link, neg_label)\n",
        "        idx += 1\n",
        "\n",
        "      \n",
        "    # Make sure to shuffle order\n",
        "    np.random.shuffle(batch)\n",
        "    yield {'book': batch[:, 0], 'link': batch[:, 1]}, batch[:, 2]\n"
      ]
    },
    {
      "cell_type": "code",
      "execution_count": 130,
      "metadata": {
        "colab": {
          "base_uri": "https://localhost:8080/"
        },
        "id": "es6P7i1j_m8X",
        "outputId": "428ac32a-8ef7-43a2-cc66-0350b3096213"
      },
      "outputs": [
        {
          "data": {
            "text/plain": [
              "({'book': array([23245.,     0.,     0.,  7232., 29814.,     0.]),\n",
              "  'link': array([1.8000e+01, 0.0000e+00, 0.0000e+00, 2.9000e+01, 3.1185e+04,\n",
              "         0.0000e+00])},\n",
              " array([ 1.,  0.,  0.,  1., -1.,  0.]))"
            ]
          },
          "execution_count": 130,
          "metadata": {},
          "output_type": "execute_result"
        }
      ],
      "source": [
        "# 새로운 batch 얻기\n",
        "next(generate_batch(pairs, n_positive = 2, negative_ratio = 2))"
      ]
    },
    {
      "cell_type": "code",
      "execution_count": 131,
      "metadata": {
        "colab": {
          "base_uri": "https://localhost:8080/"
        },
        "id": "pZrKccrbALnH",
        "outputId": "3d92fd5e-9571-431a-ca3f-738dd7367cd1"
      },
      "outputs": [
        {
          "name": "stdout",
          "output_type": "stream",
          "text": [
            "Book: Robots and Empire              Link : doubleday (publisher)                    Label : 1.0\n",
            "Book: Theodosia and the Serpents of Chaos Link : booksense                                Label : 1.0\n",
            "Book: Freud: His Life and His Mind   Link : science fiction                          Label : 0.0\n",
            "Book: Historical Atlas of the World  Link : bigamy                                   Label : -1.0\n",
            "Book: Freud: His Life and His Mind   Link : science fiction                          Label : 0.0\n",
            "Book: Freud: His Life and His Mind   Link : science fiction                          Label : 0.0\n",
            "Book: Lost Echoes                    Link : joe r. lansdale                          Label : 1.0\n",
            "Book: Freud: His Life and His Mind   Link : science fiction                          Label : 0.0\n",
            "Book: Freud: His Life and His Mind   Link : science fiction                          Label : 0.0\n"
          ]
        }
      ],
      "source": [
        "# train pairs 예시 확인하기\n",
        "a, b = next(generate_batch(pairs, n_positive = 3, negative_ratio = 2))\n",
        "\n",
        "for label, book_idx, link_idx in zip(b, a['book'], a['link']):\n",
        "  print(f'Book: {index_book[book_idx]:30} Link : {index_link[link_idx]:40} Label : {label}')\n",
        "\n",
        "# x, y = next(generate_batch(pairs, n_positive = 2, negative_ratio = 2))\n",
        "\n",
        "# for label, b_idx, l_idx in zip(y, x['book'], x['link']):\n",
        "#     print(f'Book: {index_book[b_idx]:30} Link: {index_link[l_idx]:40} Label: {label}') "
      ]
    },
    {
      "cell_type": "markdown",
      "metadata": {
        "id": "eXgx1SCVU0b9"
      },
      "source": [
        "#3.Neural Network Embedding Model\n",
        "###5 layers \n",
        " 1) input layer : book, link에 대한 병렬 입력 \n",
        " 2) Embedding : book, link 병렬 50개 Embedding (None, 1, 50)\n",
        " 3) Dot : 내적(Dot product)를 계산해 Embedding 합치기 (None, 1, 1)\n",
        " 4) Reshape : Embedding shape를 단일 숫자로 형성 (None, 1)\n",
        " 5) Dense : sigmoid activation을 이용한 출력 "
      ]
    },
    {
      "cell_type": "code",
      "execution_count": 132,
      "metadata": {
        "id": "xaTp6y8SUzOF"
      },
      "outputs": [],
      "source": [
        "from tensorflow.keras.layers import Input, Embedding, Dot, Reshape, Dense\n",
        "from tensorflow.keras.models import Model"
      ]
    },
    {
      "cell_type": "code",
      "execution_count": 147,
      "metadata": {
        "colab": {
          "base_uri": "https://localhost:8080/"
        },
        "id": "XeXC8rPMbFG2",
        "outputId": "4b6aea16-9a50-487b-bcf4-75d27b6eff3a"
      },
      "outputs": [
        {
          "name": "stdout",
          "output_type": "stream",
          "text": [
            "Model: \"model_7\"\n",
            "__________________________________________________________________________________________________\n",
            "Layer (type)                    Output Shape         Param #     Connected to                     \n",
            "==================================================================================================\n",
            "book (InputLayer)               [(None, 1)]          0                                            \n",
            "__________________________________________________________________________________________________\n",
            "link (InputLayer)               [(None, 1)]          0                                            \n",
            "__________________________________________________________________________________________________\n",
            "book_embedding (Embedding)      (None, 1, 50)        1851000     book[0][0]                       \n",
            "__________________________________________________________________________________________________\n",
            "link_embedding (Embedding)      (None, 1, 50)        1595050     link[0][0]                       \n",
            "__________________________________________________________________________________________________\n",
            "dot_product (Dot)               (None, 1, 1)         0           book_embedding[0][0]             \n",
            "                                                                 link_embedding[0][0]             \n",
            "__________________________________________________________________________________________________\n",
            "reshape_7 (Reshape)             (None, 1)            0           dot_product[0][0]                \n",
            "==================================================================================================\n",
            "Total params: 3,446,050\n",
            "Trainable params: 3,446,050\n",
            "Non-trainable params: 0\n",
            "__________________________________________________________________________________________________\n"
          ]
        }
      ],
      "source": [
        "def book_embedding_model(embedding_size=50, classification = False):\n",
        "\n",
        "  # \"\"\"Model to embed books and wikilinks using the functional API.\n",
        "  #    \\Trained to discern if a link is present in a article\"\"\"\n",
        "\n",
        "    # 1차원 입력\n",
        "    book = Input(name='book', shape=[1])\n",
        "    link = Input(name='link', shape=[1])\n",
        "\n",
        "    # 책 Embedding(None, 1, 50)\n",
        "    # book Embeding (None, input, output)(book)\n",
        "    # 30720 x 50 = 2,087,900 param(노드에 연결된 간선 수)\n",
        "    book_embedding = Embedding(name = 'book_embedding',\n",
        "                               input_dim = len(book_index), #book_index = 1\n",
        "                               output_dim = embedding_size)(book) # book을 embedding해야함으로 뒤에 (book) +\n",
        "\n",
        "    # link Embedding(None, 1, 50)\n",
        "    # link Embeding (None, input, output)(link)\n",
        "    # 41758 x 50 = 2,087,900 param(노드에 연결된 간선 수)\n",
        "    link_embedding = Embedding(name = 'link_embedding',\n",
        "                               input_dim = len(link_index),\n",
        "                               output_dim = embedding_size)(link)\n",
        "\n",
        "    \n",
        "\n",
        "    # 내적으로 book&link embedding 1개의 Embedding으로 변형\n",
        "    # merged = shape(None, 1, 1)\n",
        "    # Dot(name, normalize(정규화), axes(샘플 간 내적계산))\n",
        "    # Dot(normalize = True -> L2 Norm -> 내적 출력은 샘플간의 cosine 근접도 )\n",
        "    merged = Dot(name = 'dot_product', normalize = True, axes=2)([book_embedding, link_embedding])\n",
        "\n",
        "    # Reshape to be single Number(shape will be(None, 1))\n",
        "    # Reshape_shape = 정수튜플/샘플/배치크기 포함하지 않음\n",
        "    # Regression에 대한 모델 출력\n",
        "    merged = Reshape(target_shape = [1])(merged)\n",
        "\n",
        "    # if classifcation, add extra layers and loss function is binary crossentroy\n",
        "    # Dense layer에서 입력뉴런 수에 상관없이 출력 뉴런 수를 자유롭게 설정, 이진 분류문제에서 0,1을 나타내는 출력뉴런이 하나만 있으면 되기에 출력뉴런 1개, 입력뉴런/가중치 계싼값 0,1로 표현가능한 sigmoid함수를 사용함.\n",
        "    if classification:\n",
        "        merged = Dense(1, activation = 'sigmoid')(merged) #  분류가 0 또는 1이기 때문에 sigmoid 함수를 사용한다. # \n",
        "        model = Model(inputs = [book, link], outputs = merged)\n",
        "        model.compile(optimizer = 'Adam', loss = 'binary_crossentropy', metrics = ['accuracy'])\n",
        "\n",
        "      # Otherwise loss function is mean squared error\n",
        "    else:\n",
        "      # model = tf.keras.Model(inputs=inputs, outputs=outputs)\n",
        "        model = Model(inputs = [book, link], outputs = merged)\n",
        "        model.compile(optimizer='adam', loss='mse')\n",
        "\n",
        "    return model\n",
        "\n",
        "# Instantitate model and show parameters\n",
        "model = book_embedding_model()\n",
        "model.summary()\n",
        "\n"
      ]
    },
    {
      "cell_type": "markdown",
      "metadata": {
        "id": "kqTGUCZ2mk9n"
      },
      "source": [
        "#4. TRAIN MODEL\n"
      ]
    },
    {
      "cell_type": "code",
      "execution_count": 134,
      "metadata": {},
      "outputs": [
        {
          "name": "stdout",
          "output_type": "stream",
          "text": [
            "Epoch 1/15\n",
            "709/709 - 24s - loss: 0.0106\n",
            "Epoch 2/15\n",
            "709/709 - 24s - loss: 0.0092\n",
            "Epoch 3/15\n",
            "709/709 - 24s - loss: 0.0108\n",
            "Epoch 4/15\n",
            "709/709 - 24s - loss: 0.0132\n",
            "Epoch 5/15\n",
            "709/709 - 24s - loss: 0.0135\n",
            "Epoch 6/15\n",
            "709/709 - 24s - loss: 0.0136\n",
            "Epoch 7/15\n",
            "709/709 - 24s - loss: 0.0098\n",
            "Epoch 8/15\n",
            "709/709 - 24s - loss: 0.0145\n",
            "Epoch 9/15\n",
            "709/709 - 24s - loss: 0.0125\n",
            "Epoch 10/15\n",
            "709/709 - 24s - loss: 0.0123\n",
            "Epoch 11/15\n",
            "709/709 - 24s - loss: 0.0131\n",
            "Epoch 12/15\n",
            "709/709 - 24s - loss: 0.0140\n",
            "Epoch 13/15\n",
            "709/709 - 24s - loss: 0.0146\n",
            "Epoch 14/15\n",
            "709/709 - 24s - loss: 0.0121\n",
            "Epoch 15/15\n",
            "709/709 - 24s - loss: 0.0137\n"
          ]
        },
        {
          "data": {
            "text/plain": [
              "<tensorflow.python.keras.callbacks.History at 0x1c3b1b922e8>"
            ]
          },
          "execution_count": 134,
          "metadata": {},
          "output_type": "execute_result"
        }
      ],
      "source": [
        "n_positive = 1024\n",
        "\n",
        "# negative_ratio = 2 인 이유는 2가 가장 잘 됨 = 제작자\n",
        "gen = generate_batch(pairs, n_positive, negative_ratio=2)\n",
        "\n",
        "# Train\n",
        "# steps_per_epoch = 1epoch마다 사용할 batch_size를 정의함\n",
        "# steps_per_epoch : 각 epoch에서 동일한 수의 pairs를 볼 수 있게 한다.\n",
        "# verbose(상세정보) 보통 0, 자세히 1, 함축정보 2\n",
        "model.fit_generator(gen, epochs = 15, steps_per_epoch = len(pairs) // n_positive, verbose=2)"
      ]
    },
    {
      "cell_type": "code",
      "execution_count": 135,
      "metadata": {},
      "outputs": [],
      "source": [
        "model.save('first_attempt.h5')"
      ]
    },
    {
      "cell_type": "markdown",
      "metadata": {},
      "source": [
        "### 7.Extract Embeddings and Analyze\n",
        "trainset은 Embedding 공간에서 similar entity(비슷한 개체)를 옆에 배치하는 (title, wikilinks)를 학습한다."
      ]
    },
    {
      "cell_type": "code",
      "execution_count": 136,
      "metadata": {},
      "outputs": [
        {
          "data": {
            "text/plain": [
              "(37020, 50)"
            ]
          },
          "execution_count": 136,
          "metadata": {},
          "output_type": "execute_result"
        }
      ],
      "source": [
        "# Extract embeddings\n",
        "book_layer = model.get_layer('book_embedding')\n",
        "book_weights = book_layer.get_weights()[0] # 1차원이라 [0]밖에 없음\n",
        "book_weights.shape"
      ]
    },
    {
      "cell_type": "code",
      "execution_count": 137,
      "metadata": {},
      "outputs": [
        {
          "data": {
            "text/plain": [
              "array([-0.07218271,  0.09906959, -0.00569039, -0.00663303, -0.05555783,\n",
              "       -0.08195914,  0.0444559 , -0.05318657,  0.07397795, -0.00127489],\n",
              "      dtype=float32)"
            ]
          },
          "execution_count": 137,
          "metadata": {},
          "output_type": "execute_result"
        },
        {
          "data": {
            "text/plain": [
              "0.99999994"
            ]
          },
          "execution_count": 137,
          "metadata": {},
          "output_type": "execute_result"
        }
      ],
      "source": [
        "book_weights = book_weights / np.linalg.norm(book_weights, axis = 1).reshape((-1, 1)) # norm = 거리측정, 벡터 사이의 길이 구하기\n",
        "book_weights[0][:10]\n",
        "np.sum(np.square(book_weights[0])) #book_weight[0] 제곱 -> sum"
      ]
    },
    {
      "cell_type": "markdown",
      "metadata": {},
      "source": [
        "### 8. Find Similar book"
      ]
    },
    {
      "cell_type": "code",
      "execution_count": 186,
      "metadata": {},
      "outputs": [],
      "source": [
        "import pandas as pd\n",
        "import matplotlib.pyplot as plt\n",
        "plt.style.use('fivethirtyeight')\n",
        "plt.rcParams['font.size'] = 15\n",
        "\n",
        "def find_similar(name, weights, index_name = 'book', n = 10, least = False, return_dist = False, plot = False):\n",
        "    \"\"\"Find n most similar items (or least) to name based on embeddings. Option to also plot the results\"\"\"\n",
        "    \n",
        "    # Select index and reverse index\n",
        "    # rindex() method : 지정 문자열 끝 위치\n",
        "    if index_name == 'book':\n",
        "        index = book_index\n",
        "        rindex = index_book\n",
        "    elif index_name == 'page':\n",
        "        index = link_index\n",
        "        rindex = index_link\n",
        "    \n",
        "    # Check to make sure `name` is in index\n",
        "    try:\n",
        "        # 대상 책과 모든 책들 사이의 내적계산\n",
        "        # 임베딩이 정규화된 경우 벡터 간의 내적은 가장 유사하지 않은 -1 에서 가장 유사한 +1 까지의 cosine similarity을 나타냄\n",
        "        dists = np.dot(weights, weights[index[name]])\n",
        "    except KeyError: # 책이 없는 경우 not Found\n",
        "        print(f'{name} Not Found.')\n",
        "        return\n",
        "    \n",
        "    # Sort distance indexes from smallest to largest\n",
        "    # argsort(오름차순 정렬)\n",
        "    sorted_dists = np.argsort(dists)\n",
        "\n",
        "    \n",
        "    # Plot results if specified\n",
        "    if plot:\n",
        "        \n",
        "        # Find furthest and closest items\n",
        "        furthest = sorted_dists[:(n // 2)]\n",
        "        closest = sorted_dists[-n-1: len(dists) - 1]\n",
        "        items = [rindex[c] for c in furthest]\n",
        "        items.extend(rindex[c] for c in closest)\n",
        "        \n",
        "        # Find furthest and closets distances\n",
        "        distances = [dists[c] for c in furthest]\n",
        "        distances.extend(dists[c] for c in closest)\n",
        "        \n",
        "        colors = ['r' for _ in range(n //2)]\n",
        "        colors.extend('g' for _ in range(n))\n",
        "        \n",
        "        data = pd.DataFrame({'distance': distances}, index = items)\n",
        "        \n",
        "        # Horizontal bar chart\n",
        "        data['distance'].plot.barh(color = colors, figsize = (10, 8),\n",
        "                                   edgecolor = 'k', linewidth = 2)\n",
        "        plt.xlabel('Cosine Similarity');\n",
        "        plt.axvline(x = 0, color = 'k');\n",
        "        \n",
        "        # Formatting for italicized title\n",
        "        name_str = f'{index_name.capitalize()}s Most and Least Similar to'\n",
        "        for word in name.split():\n",
        "            # Title uses latex for italize\n",
        "            name_str += ' $\\it{' + word + '}$'\n",
        "        plt.title(name_str, x = 0.2, size = 28, y = 1.05)\n",
        "        \n",
        "        return None\n",
        "\n",
        "    # 가장 유사하지 않은 book\n",
        "    if least:\n",
        "        # Take the first n from sorted distances\n",
        "        closest = sorted_dists[:n]\n",
        "         \n",
        "        print(f'{index_name.capitalize()}s furthest from {name}.\\n')\n",
        "        \n",
        "    # 가장 유사한 book\n",
        "    else:\n",
        "        # Take the last n sorted distances\n",
        "        closest = sorted_dists[-n:]\n",
        "        \n",
        "        # Need distances later on\n",
        "        if return_dist:\n",
        "            return dists, closest\n",
        "        \n",
        "        \n",
        "        print(f'{index_name.capitalize()}s closest to {name}.\\n')\n",
        "        \n",
        "    # Need distances later on\n",
        "    if return_dist:\n",
        "        return dists, closest\n",
        "    \n",
        "    \n",
        "    # Print formatting\n",
        "    max_width = max([len(rindex[c]) for c in closest])\n",
        "    \n",
        "    # Print the most similar and distances\n",
        "    for c in reversed(closest):\n",
        "        print(f'{index_name.capitalize()}: {rindex[c]:{max_width + 2}} Similarity: {dists[c]:.{2}}')"
      ]
    },
    {
      "cell_type": "code",
      "execution_count": 187,
      "metadata": {},
      "outputs": [
        {
          "name": "stdout",
          "output_type": "stream",
          "text": [
            "Books closest to War and Peace.\n",
            "\n",
            "Book: War and Peace                           Similarity: 1.0\n",
            "Book: Le Foyer breton                         Similarity: 0.54\n",
            "Book: The Twin Dilemma (novel)                Similarity: 0.53\n",
            "Book: A Stolen Life (book)                    Similarity: 0.53\n",
            "Book: Talk (play)                             Similarity: 0.53\n",
            "Book: The Season: A Candid Look at Broadway   Similarity: 0.51\n",
            "Book: Judge Dee at Work                       Similarity: 0.5\n",
            "Book: Shadows on the Rock                     Similarity: 0.5\n",
            "Book: Summa de arithmetica                    Similarity: 0.49\n",
            "Book: Vivian Grey                             Similarity: 0.49\n"
          ]
        }
      ],
      "source": [
        "find_similar('War and Peace', book_weights)"
      ]
    },
    {
      "cell_type": "code",
      "execution_count": 188,
      "metadata": {},
      "outputs": [
        {
          "name": "stdout",
          "output_type": "stream",
          "text": [
            "Books closest to War and Peace.\n",
            "\n",
            "Book: War and Peace                           Similarity: 1.0\n",
            "Book: Le Foyer breton                         Similarity: 0.54\n",
            "Book: The Twin Dilemma (novel)                Similarity: 0.53\n",
            "Book: A Stolen Life (book)                    Similarity: 0.53\n",
            "Book: Talk (play)                             Similarity: 0.53\n",
            "Book: The Season: A Candid Look at Broadway   Similarity: 0.51\n",
            "Book: Judge Dee at Work                       Similarity: 0.5\n",
            "Book: Shadows on the Rock                     Similarity: 0.5\n",
            "Book: Summa de arithmetica                    Similarity: 0.49\n",
            "Book: Vivian Grey                             Similarity: 0.49\n"
          ]
        }
      ],
      "source": [
        "find_similar('War and Peace', book_weights, n = 10, plot = True)"
      ]
    },
    {
      "cell_type": "code",
      "execution_count": 170,
      "metadata": {},
      "outputs": [
        {
          "name": "stdout",
          "output_type": "stream",
          "text": [
            "Books closest to The Fellowship of the Ring.\n",
            "\n",
            "Book: The Fellowship of the Ring                     Similarity: 1.0\n",
            "Book: The Book of Night Women                        Similarity: 0.59\n",
            "Book: A Stillness at Appomattox                      Similarity: 0.48\n",
            "Book: Once in a Blue Moon (short story collection)   Similarity: 0.48\n",
            "Book: Blackwater (novel)                             Similarity: 0.48\n"
          ]
        }
      ],
      "source": [
        "find_similar('The Fellowship of the Ring', book_weights, n = 5)"
      ]
    },
    {
      "cell_type": "code",
      "execution_count": 143,
      "metadata": {},
      "outputs": [
        {
          "name": "stdout",
          "output_type": "stream",
          "text": [
            "Books closest to Artificial Intelligence: A Modern Approach.\n",
            "\n",
            "Book: Artificial Intelligence: A Modern Approach   Similarity: 1.0\n",
            "Book: You Shall Know Our Velocity                  Similarity: 0.55\n",
            "Book: The Shadow Lines                             Similarity: 0.51\n",
            "Book: Kaz the Minotaur                             Similarity: 0.5\n",
            "Book: Before Green Gables                          Similarity: 0.5\n"
          ]
        }
      ],
      "source": [
        "find_similar('Artificial Intelligence: A Modern Approach', book_weights, n = 5)"
      ]
    },
    {
      "cell_type": "code",
      "execution_count": 181,
      "metadata": {},
      "outputs": [
        {
          "name": "stdout",
          "output_type": "stream",
          "text": [
            "Books closest to Bully for Brontosaurus.\n",
            "\n",
            "Book: Bully for Brontosaurus             Similarity: 1.0\n",
            "Book: The Dawning Light                  Similarity: 0.59\n",
            "Book: Who's Afraid of Beowulf?           Similarity: 0.57\n",
            "Book: The Wrong Way Home                 Similarity: 0.54\n",
            "Book: Autobiografía del general Franco   Similarity: 0.54\n"
          ]
        }
      ],
      "source": [
        "find_similar('Bully for Brontosaurus', book_weights, n = 5, plot = True)"
      ]
    },
    {
      "cell_type": "markdown",
      "metadata": {},
      "source": [
        "### Wikilink Embeddings\n",
        "We also have the embeddings of wikipedia links (which are themselves Wikipedia pages). We can take a similar approach to extract these and find the most similar to a query page.\n",
        "\n",
        "Let's write a quick function to extract weights from a model given the name of the layer."
      ]
    },
    {
      "cell_type": "code",
      "execution_count": 144,
      "metadata": {},
      "outputs": [],
      "source": [
        "def extract_weights(name, model):\n",
        "    \"\"\"Extract weights from a neural network model\"\"\"\n",
        "    \n",
        "    # Extract weights\n",
        "    weight_layer = model.get_layer(name)\n",
        "    weights = weight_layer.get_weights()[0]\n",
        "    \n",
        "    # Normalize\n",
        "    weights = weights / np.linalg.norm(weights, axis = 1).reshape((-1, 1))\n",
        "    return weights\n",
        "\n",
        "link_weights = extract_weights('link_embedding', model)"
      ]
    },
    {
      "cell_type": "code",
      "execution_count": 145,
      "metadata": {},
      "outputs": [
        {
          "name": "stdout",
          "output_type": "stream",
          "text": [
            "Pages closest to science fiction.\n",
            "\n",
            "Page: science fiction            Similarity: 1.0\n",
            "Page: time dilation              Similarity: 0.78\n",
            "Page: planetary romance          Similarity: 0.76\n",
            "Page: scholastic press           Similarity: 0.53\n",
            "Page: drug                       Similarity: 0.52\n",
            "Page: fallacy                    Similarity: 0.5\n",
            "Page: social theory              Similarity: 0.48\n",
            "Page: head start (positioning)   Similarity: 0.47\n",
            "Page: marie lu                   Similarity: 0.47\n",
            "Page: paul kasey                 Similarity: 0.47\n",
            "Pages closest to biography.\n",
            "\n",
            "Page: biography                       Similarity: 1.0\n",
            "Page: edmund husserl                  Similarity: 0.58\n",
            "Page: love and war (doctor who)       Similarity: 0.55\n",
            "Page: endymion (poem)                 Similarity: 0.49\n",
            "Page: marcus tullius cicero           Similarity: 0.48\n",
            "Page: donald davidson (philosopher)   Similarity: 0.48\n",
            "Page: james longstreet                Similarity: 0.47\n",
            "Page: m. m. kaye                      Similarity: 0.47\n",
            "Page: bombing of dresden              Similarity: 0.47\n",
            "Page: mattimeo                        Similarity: 0.47\n"
          ]
        },
        {
          "ename": "TypeError",
          "evalue": "'str' object is not callable",
          "output_type": "error",
          "traceback": [
            "\u001b[1;31m---------------------------------------------------------------------------\u001b[0m",
            "\u001b[1;31mTypeError\u001b[0m                                 Traceback (most recent call last)",
            "\u001b[1;32m<ipython-input-145-e528dad36c5b>\u001b[0m in \u001b[0;36m<module>\u001b[1;34m\u001b[0m\n\u001b[0;32m      3\u001b[0m \u001b[0mfind_similar\u001b[0m\u001b[1;33m(\u001b[0m\u001b[1;34m'biography'\u001b[0m\u001b[1;33m,\u001b[0m \u001b[0mlink_weights\u001b[0m\u001b[1;33m,\u001b[0m \u001b[0mindex_name\u001b[0m \u001b[1;33m=\u001b[0m \u001b[1;34m'page'\u001b[0m\u001b[1;33m)\u001b[0m\u001b[1;33m\u001b[0m\u001b[0m\n\u001b[0;32m      4\u001b[0m \u001b[1;33m\u001b[0m\u001b[0m\n\u001b[1;32m----> 5\u001b[1;33m \u001b[0mfind_similar\u001b[0m\u001b[1;33m(\u001b[0m\u001b[1;34m'biography'\u001b[0m\u001b[1;33m,\u001b[0m \u001b[0mlink_weights\u001b[0m\u001b[1;33m,\u001b[0m \u001b[0mindex_name\u001b[0m \u001b[1;33m=\u001b[0m \u001b[1;34m'page'\u001b[0m\u001b[1;33m,\u001b[0m \u001b[0mn\u001b[0m \u001b[1;33m=\u001b[0m \u001b[1;36m5\u001b[0m\u001b[1;33m,\u001b[0m \u001b[0mplot\u001b[0m \u001b[1;33m=\u001b[0m \u001b[1;32mTrue\u001b[0m\u001b[1;33m)\u001b[0m\u001b[1;33m\u001b[0m\u001b[0m\n\u001b[0m\u001b[0;32m      6\u001b[0m \u001b[1;33m\u001b[0m\u001b[0m\n",
            "\u001b[1;32m<ipython-input-138-1d0ba3690460>\u001b[0m in \u001b[0;36mfind_similar\u001b[1;34m(name, weights, index_name, n, least, return_dist, plot)\u001b[0m\n\u001b[0;32m     47\u001b[0m         \u001b[1;31m# Horizontal bar chart\u001b[0m\u001b[1;33m\u001b[0m\u001b[1;33m\u001b[0m\u001b[0m\n\u001b[0;32m     48\u001b[0m         \u001b[0mdata\u001b[0m\u001b[1;33m[\u001b[0m\u001b[1;34m'distance'\u001b[0m\u001b[1;33m]\u001b[0m\u001b[1;33m.\u001b[0m\u001b[0mplot\u001b[0m\u001b[1;33m.\u001b[0m\u001b[0mbarh\u001b[0m\u001b[1;33m(\u001b[0m\u001b[0mcolor\u001b[0m \u001b[1;33m=\u001b[0m \u001b[0mcolors\u001b[0m\u001b[1;33m,\u001b[0m \u001b[0mfigsize\u001b[0m \u001b[1;33m=\u001b[0m \u001b[1;33m(\u001b[0m\u001b[1;36m10\u001b[0m\u001b[1;33m,\u001b[0m \u001b[1;36m8\u001b[0m\u001b[1;33m)\u001b[0m\u001b[1;33m,\u001b[0m\u001b[0medgecolor\u001b[0m \u001b[1;33m=\u001b[0m \u001b[1;34m'k'\u001b[0m\u001b[1;33m,\u001b[0m \u001b[0mlinewidth\u001b[0m \u001b[1;33m=\u001b[0m \u001b[1;36m2\u001b[0m\u001b[1;33m)\u001b[0m\u001b[1;33m\u001b[0m\u001b[0m\n\u001b[1;32m---> 49\u001b[1;33m         \u001b[0mplt\u001b[0m\u001b[1;33m.\u001b[0m\u001b[0mxlabel\u001b[0m\u001b[1;33m(\u001b[0m\u001b[1;34m'Cosine Similarity'\u001b[0m\u001b[1;33m)\u001b[0m\u001b[1;33m;\u001b[0m\u001b[1;33m\u001b[0m\u001b[0m\n\u001b[0m\u001b[0;32m     50\u001b[0m         \u001b[0mplt\u001b[0m\u001b[1;33m.\u001b[0m\u001b[0maxvline\u001b[0m\u001b[1;33m(\u001b[0m\u001b[0mx\u001b[0m \u001b[1;33m=\u001b[0m \u001b[1;36m0\u001b[0m\u001b[1;33m,\u001b[0m \u001b[0mcolor\u001b[0m \u001b[1;33m=\u001b[0m \u001b[1;34m'k'\u001b[0m\u001b[1;33m)\u001b[0m\u001b[1;33m;\u001b[0m\u001b[1;33m\u001b[0m\u001b[0m\n\u001b[0;32m     51\u001b[0m \u001b[1;33m\u001b[0m\u001b[0m\n",
            "\u001b[1;31mTypeError\u001b[0m: 'str' object is not callable"
          ]
        },
        {
          "data": {
            "image/png": "[encoded data removed]",
            "text/plain": [
              "<Figure size 720x576 with 1 Axes>"
            ]
          },
          "metadata": {},
          "output_type": "display_data"
        }
      ],
      "source": [
        "find_similar('science fiction', link_weights, index_name = 'page')\n",
        "\n",
        "find_similar('biography', link_weights, index_name = 'page')\n",
        "\n",
        "find_similar('biography', link_weights, index_name = 'page', n = 5, plot = True)\n",
        "\n"
      ]
    },
    {
      "cell_type": "code",
      "execution_count": null,
      "metadata": {},
      "outputs": [
        {
          "name": "stdout",
          "output_type": "stream",
          "text": [
            "Pages closest to new york city.\n",
            "\n",
            "Page: new york city                              Similarity: 1.0\n",
            "Page: fixup                                      Similarity: 0.54\n",
            "Page: u.s. government                            Similarity: 0.54\n",
            "Page: marion zimmer bradley's fantasy magazine   Similarity: 0.51\n",
            "Page: category:1943 fantasy novels               Similarity: 0.49\n"
          ]
        }
      ],
      "source": [
        "find_similar('new york city', link_weights, index_name = 'page', n = 5)"
      ]
    },
    {
      "cell_type": "markdown",
      "metadata": {},
      "source": [
        "### Classification Model\n",
        "I was curious if training for the mean squared error as a regression problem was the ideal approach, so I also decided to experiment with a classification model. For this model, the negative examples receive a label of 0 and the loss function is binary cross entropy. The procedure for the neural network to learn the embeddings is exactly the same, only it will be optimizing for a slightly different measure."
      ]
    },
    {
      "cell_type": "code",
      "execution_count": 148,
      "metadata": {},
      "outputs": [],
      "source": [
        "model_class = book_embedding_model(50, classification = True)\n",
        "gen = generate_batch(pairs, n_positive, negative_ratio=2, classification = True)"
      ]
    },
    {
      "cell_type": "code",
      "execution_count": 149,
      "metadata": {},
      "outputs": [
        {
          "name": "stdout",
          "output_type": "stream",
          "text": [
            "Epoch 1/15\n",
            "709/709 [==============================] - 28s 39ms/step - loss: 0.0054\n",
            "Epoch 2/15\n",
            "709/709 [==============================] - 28s 39ms/step - loss: 0.0012\n",
            "Epoch 3/15\n",
            "709/709 [==============================] - 26s 37ms/step - loss: 0.0031\n",
            "Epoch 4/15\n",
            "709/709 [==============================] - 26s 36ms/step - loss: 0.0018\n",
            "Epoch 5/15\n",
            "709/709 [==============================] - 26s 37ms/step - loss: 0.0018\n",
            "Epoch 6/15\n",
            "709/709 [==============================] - 25s 36ms/step - loss: 0.0030\n",
            "Epoch 7/15\n",
            "709/709 [==============================] - 25s 36ms/step - loss: 0.0019\n",
            "Epoch 8/15\n",
            "709/709 [==============================] - 25s 36ms/step - loss: 0.0017\n",
            "Epoch 9/15\n",
            "709/709 [==============================] - 25s 35ms/step - loss: 0.0033\n",
            "Epoch 10/15\n",
            "709/709 [==============================] - 25s 35ms/step - loss: 0.0020\n",
            "Epoch 11/15\n",
            "709/709 [==============================] - 25s 36ms/step - loss: 0.0020\n",
            "Epoch 12/15\n",
            "709/709 [==============================] - 25s 35ms/step - loss: 0.0038\n",
            "Epoch 13/15\n",
            "709/709 [==============================] - 26s 36ms/step - loss: 0.0016\n",
            "Epoch 14/15\n",
            "709/709 [==============================] - 26s 36ms/step - loss: 0.0016\n",
            "Epoch 15/15\n",
            "709/709 [==============================] - 26s 37ms/step - loss: 0.0035\n"
          ]
        }
      ],
      "source": [
        "# Train the model to learn embeddings\n",
        "h = model.fit_generator(gen, epochs = 15, steps_per_epoch = len(pairs) // n_positive, verbose=1)"
      ]
    },
    {
      "cell_type": "code",
      "execution_count": 150,
      "metadata": {},
      "outputs": [],
      "source": [
        "model_class.save('first_attempt_class.h5')"
      ]
    },
    {
      "cell_type": "code",
      "execution_count": 165,
      "metadata": {},
      "outputs": [
        {
          "data": {
            "text/plain": [
              "(37020, 50)"
            ]
          },
          "execution_count": 165,
          "metadata": {},
          "output_type": "execute_result"
        },
        {
          "name": "stdout",
          "output_type": "stream",
          "text": [
            "Books closest to The Red Box.\n",
            "\n",
            "Book: The Red Box                 Similarity: 1.0\n",
            "Book: The American Way of Death   Similarity: 0.52\n",
            "Book: Good King Harry             Similarity: 0.52\n",
            "Book: Arch of Triumph (novel)     Similarity: 0.51\n",
            "Book: How to Be Cool              Similarity: 0.51\n"
          ]
        }
      ],
      "source": [
        "book_weights_class = extract_weights('book_embedding', model_class)\n",
        "book_weights_class.shape\n",
        "\n",
        "find_similar('The Red Box', book_weights_class, n = 5)"
      ]
    },
    {
      "cell_type": "code",
      "execution_count": 166,
      "metadata": {},
      "outputs": [
        {
          "name": "stdout",
          "output_type": "stream",
          "text": [
            "Books closest to The Fellowship of the Ring.\n",
            "\n",
            "Book: The Fellowship of the Ring   Similarity: 1.0\n",
            "Book: Mara, Daughter of the Nile   Similarity: 0.56\n",
            "Book: The White Feather            Similarity: 0.55\n",
            "Book: Caliban's War                Similarity: 0.52\n",
            "Book: Love Not Human               Similarity: 0.5\n"
          ]
        }
      ],
      "source": [
        "find_similar('The Fellowship of the Ring', book_weights_class, n = 5)"
      ]
    },
    {
      "cell_type": "code",
      "execution_count": 167,
      "metadata": {},
      "outputs": [
        {
          "ename": "TypeError",
          "evalue": "'str' object is not callable",
          "output_type": "error",
          "traceback": [
            "\u001b[1;31m---------------------------------------------------------------------------\u001b[0m",
            "\u001b[1;31mTypeError\u001b[0m                                 Traceback (most recent call last)",
            "\u001b[1;32m<ipython-input-167-975d891131bc>\u001b[0m in \u001b[0;36m<module>\u001b[1;34m\u001b[0m\n\u001b[1;32m----> 1\u001b[1;33m \u001b[0mfind_similar\u001b[0m\u001b[1;33m(\u001b[0m\u001b[1;34m'The Better Angels of Our Nature'\u001b[0m\u001b[1;33m,\u001b[0m \u001b[0mbook_weights_class\u001b[0m\u001b[1;33m,\u001b[0m \u001b[0mn\u001b[0m \u001b[1;33m=\u001b[0m \u001b[1;36m5\u001b[0m\u001b[1;33m,\u001b[0m \u001b[0mplot\u001b[0m\u001b[1;33m=\u001b[0m\u001b[1;32mTrue\u001b[0m\u001b[1;33m)\u001b[0m\u001b[1;33m\u001b[0m\u001b[0m\n\u001b[0m",
            "\u001b[1;32m<ipython-input-138-1d0ba3690460>\u001b[0m in \u001b[0;36mfind_similar\u001b[1;34m(name, weights, index_name, n, least, return_dist, plot)\u001b[0m\n\u001b[0;32m     47\u001b[0m         \u001b[1;31m# Horizontal bar chart\u001b[0m\u001b[1;33m\u001b[0m\u001b[1;33m\u001b[0m\u001b[0m\n\u001b[0;32m     48\u001b[0m         \u001b[0mdata\u001b[0m\u001b[1;33m[\u001b[0m\u001b[1;34m'distance'\u001b[0m\u001b[1;33m]\u001b[0m\u001b[1;33m.\u001b[0m\u001b[0mplot\u001b[0m\u001b[1;33m.\u001b[0m\u001b[0mbarh\u001b[0m\u001b[1;33m(\u001b[0m\u001b[0mcolor\u001b[0m \u001b[1;33m=\u001b[0m \u001b[0mcolors\u001b[0m\u001b[1;33m,\u001b[0m \u001b[0mfigsize\u001b[0m \u001b[1;33m=\u001b[0m \u001b[1;33m(\u001b[0m\u001b[1;36m10\u001b[0m\u001b[1;33m,\u001b[0m \u001b[1;36m8\u001b[0m\u001b[1;33m)\u001b[0m\u001b[1;33m,\u001b[0m\u001b[0medgecolor\u001b[0m \u001b[1;33m=\u001b[0m \u001b[1;34m'k'\u001b[0m\u001b[1;33m,\u001b[0m \u001b[0mlinewidth\u001b[0m \u001b[1;33m=\u001b[0m \u001b[1;36m2\u001b[0m\u001b[1;33m)\u001b[0m\u001b[1;33m\u001b[0m\u001b[0m\n\u001b[1;32m---> 49\u001b[1;33m         \u001b[0mplt\u001b[0m\u001b[1;33m.\u001b[0m\u001b[0mxlabel\u001b[0m\u001b[1;33m(\u001b[0m\u001b[1;34m'Cosine Similarity'\u001b[0m\u001b[1;33m)\u001b[0m\u001b[1;33m;\u001b[0m\u001b[1;33m\u001b[0m\u001b[0m\n\u001b[0m\u001b[0;32m     50\u001b[0m         \u001b[0mplt\u001b[0m\u001b[1;33m.\u001b[0m\u001b[0maxvline\u001b[0m\u001b[1;33m(\u001b[0m\u001b[0mx\u001b[0m \u001b[1;33m=\u001b[0m \u001b[1;36m0\u001b[0m\u001b[1;33m,\u001b[0m \u001b[0mcolor\u001b[0m \u001b[1;33m=\u001b[0m \u001b[1;34m'k'\u001b[0m\u001b[1;33m)\u001b[0m\u001b[1;33m;\u001b[0m\u001b[1;33m\u001b[0m\u001b[0m\n\u001b[0;32m     51\u001b[0m \u001b[1;33m\u001b[0m\u001b[0m\n",
            "\u001b[1;31mTypeError\u001b[0m: 'str' object is not callable"
          ]
        },
        {
          "data": {
            "image/png": "[encoded data removed]",
            "text/plain": [
              "<Figure size 720x576 with 1 Axes>"
            ]
          },
          "metadata": {},
          "output_type": "display_data"
        }
      ],
      "source": [
        "find_similar('The Better Angels of Our Nature', book_weights_class, n = 5, plot=True)"
      ]
    },
    {
      "cell_type": "code",
      "execution_count": null,
      "metadata": {},
      "outputs": [],
      "source": []
    },
    {
      "cell_type": "markdown",
      "metadata": {},
      "source": [
        "### Visualizations\n",
        "One of the most interesting parts about embeddings is that we can use them to visualize concepts such as War and Peace or biography. First we have to take the embeddings from 50 dimensions down to either 3 or 2. We can do this using pca, tsne, or umap. We'll try both tsne and umap for comparison. TSNE takes much longer and is designed to retain local structure within the data. UMAP is generally quicker and is designed for a balance between local and global structure in the embedding."
      ]
    },
    {
      "cell_type": "code",
      "execution_count": 159,
      "metadata": {},
      "outputs": [],
      "source": [
        "from sklearn.manifold import TSNE\n",
        "import umap"
      ]
    },
    {
      "cell_type": "code",
      "execution_count": 161,
      "metadata": {},
      "outputs": [
        {
          "ename": "NameError",
          "evalue": "name 'reduce_dim' is not defined",
          "output_type": "error",
          "traceback": [
            "\u001b[1;31m---------------------------------------------------------------------------\u001b[0m",
            "\u001b[1;31mNameError\u001b[0m                                 Traceback (most recent call last)",
            "\u001b[1;32m<ipython-input-161-3558e6e81c53>\u001b[0m in \u001b[0;36m<module>\u001b[1;34m\u001b[0m\n\u001b[1;32m----> 1\u001b[1;33m \u001b[0mbook_r\u001b[0m \u001b[1;33m=\u001b[0m \u001b[0mreduce_dim\u001b[0m\u001b[1;33m(\u001b[0m\u001b[0mbook_weights_class\u001b[0m\u001b[1;33m,\u001b[0m \u001b[0mcomponents\u001b[0m \u001b[1;33m=\u001b[0m \u001b[1;36m2\u001b[0m\u001b[1;33m,\u001b[0m \u001b[0mmethod\u001b[0m \u001b[1;33m=\u001b[0m \u001b[1;34m'tsne'\u001b[0m\u001b[1;33m)\u001b[0m\u001b[1;33m\u001b[0m\u001b[0m\n\u001b[0m\u001b[0;32m      2\u001b[0m \u001b[0mbook_r\u001b[0m\u001b[1;33m.\u001b[0m\u001b[0mshape\u001b[0m\u001b[1;33m\u001b[0m\u001b[0m\n",
            "\u001b[1;31mNameError\u001b[0m: name 'reduce_dim' is not defined"
          ]
        }
      ],
      "source": [
        "book_r = reduce_dim(book_weights_class, components = 2, method = 'tsne')\n",
        "book_r.shape"
      ]
    }
  ],
  "metadata": {
    "colab": {
      "collapsed_sections": [],
      "name": "NNERS.ipynb",
      "provenance": []
    },
    "interpreter": {
      "hash": "0a0b40399c3ab138606cfd7cf7c33e76e63fdf6dc7f1f51720384aaa6fb56eca"
    },
    "kernelspec": {
      "display_name": "Python 3.6.5 ('env')",
      "language": "python",
      "name": "python3"
    },
    "language_info": {
      "codemirror_mode": {
        "name": "ipython",
        "version": 3
      },
      "file_extension": ".py",
      "mimetype": "text/x-python",
      "name": "python",
      "nbconvert_exporter": "python",
      "pygments_lexer": "ipython3",
      "version": "3.6.5"
    }
  },
  "nbformat": 4,
  "nbformat_minor": 0
}
