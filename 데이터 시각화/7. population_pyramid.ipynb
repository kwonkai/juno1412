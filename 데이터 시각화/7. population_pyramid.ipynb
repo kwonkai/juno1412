{
 "cells": [
  {
   "cell_type": "code",
   "execution_count": 7,
   "metadata": {},
   "outputs": [
    {
     "name": "stdout",
     "output_type": "stream",
     "text": [
      "Collecting openpyxlNote: you may need to restart the kernel to use updated packages.\n",
      "\n",
      "  Downloading openpyxl-3.0.9-py2.py3-none-any.whl (242 kB)\n",
      "Collecting et-xmlfile\n",
      "  Downloading et_xmlfile-1.1.0-py3-none-any.whl (4.7 kB)\n",
      "Installing collected packages: et-xmlfile, openpyxl\n",
      "Successfully installed et-xmlfile-1.1.0 openpyxl-3.0.9\n"
     ]
    }
   ],
   "source": [
    "# pip install openpyxl"
   ]
  },
  {
   "cell_type": "code",
   "execution_count": 8,
   "metadata": {},
   "outputs": [],
   "source": [
    "import pandas as pd"
   ]
  },
  {
   "cell_type": "code",
   "execution_count": 18,
   "metadata": {},
   "outputs": [
    {
     "name": "stderr",
     "output_type": "stream",
     "text": [
      "C:\\ProgramData\\Miniconda3\\envs\\kwonjh\\lib\\site-packages\\openpyxl\\styles\\stylesheet.py:226: UserWarning: Workbook contains no default style, apply openpyxl's default\n",
      "  warn(\"Workbook contains no default style, apply openpyxl's default\")\n"
     ]
    },
    {
     "data": {
      "text/html": [
       "<div>\n",
       "<style scoped>\n",
       "    .dataframe tbody tr th:only-of-type {\n",
       "        vertical-align: middle;\n",
       "    }\n",
       "\n",
       "    .dataframe tbody tr th {\n",
       "        vertical-align: top;\n",
       "    }\n",
       "\n",
       "    .dataframe thead th {\n",
       "        text-align: right;\n",
       "    }\n",
       "</style>\n",
       "<table border=\"1\" class=\"dataframe\">\n",
       "  <thead>\n",
       "    <tr style=\"text-align: right;\">\n",
       "      <th></th>\n",
       "      <th>0~4세</th>\n",
       "      <th>5~9세</th>\n",
       "      <th>10~14세</th>\n",
       "      <th>15~19세</th>\n",
       "      <th>20~24세</th>\n",
       "      <th>25~29세</th>\n",
       "      <th>30~34세</th>\n",
       "      <th>35~39세</th>\n",
       "      <th>40~44세</th>\n",
       "      <th>45~49세</th>\n",
       "      <th>...</th>\n",
       "      <th>55~59세</th>\n",
       "      <th>60~64세</th>\n",
       "      <th>65~69세</th>\n",
       "      <th>70~74세</th>\n",
       "      <th>75~79세</th>\n",
       "      <th>80~84세</th>\n",
       "      <th>85~89세</th>\n",
       "      <th>90~94세</th>\n",
       "      <th>95~99세</th>\n",
       "      <th>100세 이상</th>\n",
       "    </tr>\n",
       "    <tr>\n",
       "      <th>행정기관</th>\n",
       "      <th></th>\n",
       "      <th></th>\n",
       "      <th></th>\n",
       "      <th></th>\n",
       "      <th></th>\n",
       "      <th></th>\n",
       "      <th></th>\n",
       "      <th></th>\n",
       "      <th></th>\n",
       "      <th></th>\n",
       "      <th></th>\n",
       "      <th></th>\n",
       "      <th></th>\n",
       "      <th></th>\n",
       "      <th></th>\n",
       "      <th></th>\n",
       "      <th></th>\n",
       "      <th></th>\n",
       "      <th></th>\n",
       "      <th></th>\n",
       "      <th></th>\n",
       "    </tr>\n",
       "  </thead>\n",
       "  <tbody>\n",
       "    <tr>\n",
       "      <th>전국</th>\n",
       "      <td>778,266</td>\n",
       "      <td>1,137,135</td>\n",
       "      <td>1,216,746</td>\n",
       "      <td>1,212,320</td>\n",
       "      <td>1,616,561</td>\n",
       "      <td>1,862,891</td>\n",
       "      <td>1,679,387</td>\n",
       "      <td>1,784,229</td>\n",
       "      <td>2,035,381</td>\n",
       "      <td>2,114,019</td>\n",
       "      <td>...</td>\n",
       "      <td>2,082,375</td>\n",
       "      <td>2,053,427</td>\n",
       "      <td>1,472,075</td>\n",
       "      <td>992,362</td>\n",
       "      <td>697,893</td>\n",
       "      <td>463,734</td>\n",
       "      <td>198,740</td>\n",
       "      <td>50,759</td>\n",
       "      <td>9,148</td>\n",
       "      <td>1,423</td>\n",
       "    </tr>\n",
       "    <tr>\n",
       "      <th>서울특별시</th>\n",
       "      <td>124,880</td>\n",
       "      <td>172,822</td>\n",
       "      <td>188,912</td>\n",
       "      <td>198,167</td>\n",
       "      <td>284,873</td>\n",
       "      <td>396,975</td>\n",
       "      <td>368,139</td>\n",
       "      <td>349,617</td>\n",
       "      <td>362,532</td>\n",
       "      <td>370,189</td>\n",
       "      <td>...</td>\n",
       "      <td>347,181</td>\n",
       "      <td>344,833</td>\n",
       "      <td>264,329</td>\n",
       "      <td>183,033</td>\n",
       "      <td>134,354</td>\n",
       "      <td>84,626</td>\n",
       "      <td>33,627</td>\n",
       "      <td>8,977</td>\n",
       "      <td>1,819</td>\n",
       "      <td>398</td>\n",
       "    </tr>\n",
       "  </tbody>\n",
       "</table>\n",
       "<p>2 rows × 21 columns</p>\n",
       "</div>"
      ],
      "text/plain": [
       "            0~4세       5~9세     10~14세     15~19세     20~24세     25~29세  \\\n",
       "행정기관                                                                      \n",
       "전국       778,266  1,137,135  1,216,746  1,212,320  1,616,561  1,862,891   \n",
       "서울특별시    124,880    172,822    188,912    198,167    284,873    396,975   \n",
       "\n",
       "            30~34세     35~39세     40~44세     45~49세  ...     55~59세  \\\n",
       "행정기관                                                 ...              \n",
       "전국       1,679,387  1,784,229  2,035,381  2,114,019  ...  2,082,375   \n",
       "서울특별시      368,139    349,617    362,532    370,189  ...    347,181   \n",
       "\n",
       "            60~64세     65~69세   70~74세   75~79세   80~84세   85~89세  90~94세  \\\n",
       "행정기관                                                                        \n",
       "전국       2,053,427  1,472,075  992,362  697,893  463,734  198,740  50,759   \n",
       "서울특별시      344,833    264,329  183,033  134,354   84,626   33,627   8,977   \n",
       "\n",
       "        95~99세 100세 이상  \n",
       "행정기관                    \n",
       "전국       9,148   1,423  \n",
       "서울특별시    1,819     398  \n",
       "\n",
       "[2 rows x 21 columns]"
      ]
     },
     "execution_count": 18,
     "metadata": {},
     "output_type": "execute_result"
    }
   ],
   "source": [
    "df_man = pd.read_excel('연령별인구현황.xlsx', skiprows = 3, index_col='행정기관', usecols='B, E:Y')\n",
    "df_man.head(2)"
   ]
  },
  {
   "cell_type": "code",
   "execution_count": 20,
   "metadata": {},
   "outputs": [],
   "source": [
    "# 남자데이터 변환\n",
    "df_man.iloc[0] = df_man.iloc[0].str.replace(',','').astype(int)\n"
   ]
  },
  {
   "cell_type": "code",
   "execution_count": 21,
   "metadata": {},
   "outputs": [
    {
     "data": {
      "text/plain": [
       "0~4세        778266\n",
       "5~9세       1137135\n",
       "10~14세     1216746\n",
       "15~19세     1212320\n",
       "20~24세     1616561\n",
       "25~29세     1862891\n",
       "30~34세     1679387\n",
       "35~39세     1784229\n",
       "40~44세     2035381\n",
       "45~49세     2114019\n",
       "50~54세     2283657\n",
       "55~59세     2082375\n",
       "60~64세     2053427\n",
       "65~69세     1472075\n",
       "70~74세      992362\n",
       "75~79세      697893\n",
       "80~84세      463734\n",
       "85~89세      198740\n",
       "90~94세       50759\n",
       "95~99세        9148\n",
       "100세 이상       1423\n",
       "Name: 전국  , dtype: object"
      ]
     },
     "execution_count": 21,
     "metadata": {},
     "output_type": "execute_result"
    }
   ],
   "source": [
    "df_man.iloc[0]"
   ]
  },
  {
   "cell_type": "code",
   "execution_count": 28,
   "metadata": {},
   "outputs": [
    {
     "name": "stderr",
     "output_type": "stream",
     "text": [
      "C:\\ProgramData\\Miniconda3\\envs\\kwonjh\\lib\\site-packages\\openpyxl\\styles\\stylesheet.py:226: UserWarning: Workbook contains no default style, apply openpyxl's default\n",
      "  warn(\"Workbook contains no default style, apply openpyxl's default\")\n"
     ]
    },
    {
     "data": {
      "text/html": [
       "<div>\n",
       "<style scoped>\n",
       "    .dataframe tbody tr th:only-of-type {\n",
       "        vertical-align: middle;\n",
       "    }\n",
       "\n",
       "    .dataframe tbody tr th {\n",
       "        vertical-align: top;\n",
       "    }\n",
       "\n",
       "    .dataframe thead th {\n",
       "        text-align: right;\n",
       "    }\n",
       "</style>\n",
       "<table border=\"1\" class=\"dataframe\">\n",
       "  <thead>\n",
       "    <tr style=\"text-align: right;\">\n",
       "      <th></th>\n",
       "      <th>0~4세.1</th>\n",
       "      <th>5~9세.1</th>\n",
       "      <th>10~14세.1</th>\n",
       "      <th>15~19세.1</th>\n",
       "      <th>20~24세.1</th>\n",
       "      <th>25~29세.1</th>\n",
       "      <th>30~34세.1</th>\n",
       "      <th>35~39세.1</th>\n",
       "      <th>40~44세.1</th>\n",
       "      <th>45~49세.1</th>\n",
       "      <th>...</th>\n",
       "      <th>55~59세.1</th>\n",
       "      <th>60~64세.1</th>\n",
       "      <th>65~69세.1</th>\n",
       "      <th>70~74세.1</th>\n",
       "      <th>75~79세.1</th>\n",
       "      <th>80~84세.1</th>\n",
       "      <th>85~89세.1</th>\n",
       "      <th>90~94세.1</th>\n",
       "      <th>95~99세.1</th>\n",
       "      <th>100세 이상.1</th>\n",
       "    </tr>\n",
       "    <tr>\n",
       "      <th>행정기관</th>\n",
       "      <th></th>\n",
       "      <th></th>\n",
       "      <th></th>\n",
       "      <th></th>\n",
       "      <th></th>\n",
       "      <th></th>\n",
       "      <th></th>\n",
       "      <th></th>\n",
       "      <th></th>\n",
       "      <th></th>\n",
       "      <th></th>\n",
       "      <th></th>\n",
       "      <th></th>\n",
       "      <th></th>\n",
       "      <th></th>\n",
       "      <th></th>\n",
       "      <th></th>\n",
       "      <th></th>\n",
       "      <th></th>\n",
       "      <th></th>\n",
       "      <th></th>\n",
       "    </tr>\n",
       "  </thead>\n",
       "  <tbody>\n",
       "    <tr>\n",
       "      <th>전국</th>\n",
       "      <td>738470</td>\n",
       "      <td>1082771</td>\n",
       "      <td>1149152</td>\n",
       "      <td>1127784</td>\n",
       "      <td>1490117</td>\n",
       "      <td>1663142</td>\n",
       "      <td>1541734</td>\n",
       "      <td>1698921</td>\n",
       "      <td>1967541</td>\n",
       "      <td>2049882</td>\n",
       "      <td>...</td>\n",
       "      <td>2019257</td>\n",
       "      <td>2096880</td>\n",
       "      <td>1573921</td>\n",
       "      <td>1127047</td>\n",
       "      <td>907592</td>\n",
       "      <td>749407</td>\n",
       "      <td>441143</td>\n",
       "      <td>169780</td>\n",
       "      <td>38908</td>\n",
       "      <td>6730</td>\n",
       "    </tr>\n",
       "    <tr>\n",
       "      <th>서울특별시</th>\n",
       "      <td>117,384</td>\n",
       "      <td>164,666</td>\n",
       "      <td>178,935</td>\n",
       "      <td>189,009</td>\n",
       "      <td>315,894</td>\n",
       "      <td>419,639</td>\n",
       "      <td>369,431</td>\n",
       "      <td>350,070</td>\n",
       "      <td>368,673</td>\n",
       "      <td>378,465</td>\n",
       "      <td>...</td>\n",
       "      <td>356,370</td>\n",
       "      <td>379,091</td>\n",
       "      <td>301,498</td>\n",
       "      <td>214,617</td>\n",
       "      <td>165,615</td>\n",
       "      <td>116,899</td>\n",
       "      <td>63,295</td>\n",
       "      <td>25,168</td>\n",
       "      <td>6,223</td>\n",
       "      <td>1,285</td>\n",
       "    </tr>\n",
       "    <tr>\n",
       "      <th>부산광역시</th>\n",
       "      <td>42,368</td>\n",
       "      <td>63,998</td>\n",
       "      <td>64,955</td>\n",
       "      <td>64,058</td>\n",
       "      <td>94,275</td>\n",
       "      <td>105,020</td>\n",
       "      <td>94,285</td>\n",
       "      <td>102,357</td>\n",
       "      <td>123,185</td>\n",
       "      <td>125,730</td>\n",
       "      <td>...</td>\n",
       "      <td>138,501</td>\n",
       "      <td>160,644</td>\n",
       "      <td>130,035</td>\n",
       "      <td>95,210</td>\n",
       "      <td>68,633</td>\n",
       "      <td>52,090</td>\n",
       "      <td>27,286</td>\n",
       "      <td>10,118</td>\n",
       "      <td>2,183</td>\n",
       "      <td>331</td>\n",
       "    </tr>\n",
       "  </tbody>\n",
       "</table>\n",
       "<p>3 rows × 21 columns</p>\n",
       "</div>"
      ],
      "text/plain": [
       "          0~4세.1   5~9세.1 10~14세.1 15~19세.1 20~24세.1 25~29세.1 30~34세.1  \\\n",
       "행정기관                                                                     \n",
       "전국        738470  1082771  1149152  1127784  1490117  1663142  1541734   \n",
       "서울특별시    117,384  164,666  178,935  189,009  315,894  419,639  369,431   \n",
       "부산광역시     42,368   63,998   64,955   64,058   94,275  105,020   94,285   \n",
       "\n",
       "        35~39세.1 40~44세.1 45~49세.1  ... 55~59세.1 60~64세.1 65~69세.1 70~74세.1  \\\n",
       "행정기관                                ...                                       \n",
       "전국       1698921  1967541  2049882  ...  2019257  2096880  1573921  1127047   \n",
       "서울특별시    350,070  368,673  378,465  ...  356,370  379,091  301,498  214,617   \n",
       "부산광역시    102,357  123,185  125,730  ...  138,501  160,644  130,035   95,210   \n",
       "\n",
       "        75~79세.1 80~84세.1 85~89세.1 90~94세.1 95~99세.1 100세 이상.1  \n",
       "행정기관                                                            \n",
       "전국        907592   749407   441143   169780    38908      6730  \n",
       "서울특별시    165,615  116,899   63,295   25,168    6,223     1,285  \n",
       "부산광역시     68,633   52,090   27,286   10,118    2,183       331  \n",
       "\n",
       "[3 rows x 21 columns]"
      ]
     },
     "execution_count": 28,
     "metadata": {},
     "output_type": "execute_result"
    }
   ],
   "source": [
    "# 여자데이터 변환\n",
    "df_wo = pd.read_excel('연령별인구현황.xlsx', skiprows = 3, index_col='행정기관', usecols='B, AB:AV')\n",
    "df_wo.iloc[0] = df_wo.iloc[0].str.replace(',','').astype(int) # ','제거, 인수형으로\n",
    "df_wo.head(3)"
   ]
  },
  {
   "cell_type": "code",
   "execution_count": 31,
   "metadata": {},
   "outputs": [
    {
     "data": {
      "text/plain": [
       "Index(['0~4세', '5~9세', '10~14세', '15~19세', '20~24세', '25~29세', '30~34세',\n",
       "       '35~39세', '40~44세', '45~49세', '50~54세', '55~59세', '60~64세', '65~69세',\n",
       "       '70~74세', '75~79세', '80~84세', '85~89세', '90~94세', '95~99세', '100세 이상'],\n",
       "      dtype='object')"
      ]
     },
     "execution_count": 31,
     "metadata": {},
     "output_type": "execute_result"
    }
   ],
   "source": [
    "# 겹치는 컬럼 정리하기\n",
    "df_wo.columns = df_man.columns\n",
    "df_wo.columns\n",
    "\n",
    "# # ',' 제거, 정수형 변경\n",
    "# df_wo.iloc[0] = df_wo.iloc[0].str.replace(',', '').astype(int)"
   ]
  },
  {
   "cell_type": "code",
   "execution_count": 37,
   "metadata": {},
   "outputs": [],
   "source": [
    "# 데이터시각화\n",
    "import matplotlib.pyplot as plt\n",
    "import matplotlib\n",
    "matplotlib.rcParams['font.family'] = 'Malgun Godic' # 글씨폰트 설정\n",
    "matplotlib.rcParams['font.size'] = 15 # 글자크기 설정\n",
    "matplotlib.rcParams['axes.unicode_minus'] = False # 한글코드 사용 시 마이너스 글자 깨짐 방지"
   ]
  },
  {
   "cell_type": "code",
   "execution_count": 45,
   "metadata": {},
   "outputs": [
    {
     "name": "stderr",
     "output_type": "stream",
     "text": [
      "C:\\Users\\kwonk\\AppData\\Local\\Temp\\ipykernel_12480\\1221027753.py:5: UserWarning: Glyph 45380 (\\N{HANGUL SYLLABLE NYEON}) missing from current font.\n",
      "  plt.savefig('2022_인구피라미드.png', dpi=100)\n",
      "C:\\Users\\kwonk\\AppData\\Local\\Temp\\ipykernel_12480\\1221027753.py:5: UserWarning: Glyph 45824 (\\N{HANGUL SYLLABLE DAE}) missing from current font.\n",
      "  plt.savefig('2022_인구피라미드.png', dpi=100)\n",
      "C:\\Users\\kwonk\\AppData\\Local\\Temp\\ipykernel_12480\\1221027753.py:5: UserWarning: Glyph 54620 (\\N{HANGUL SYLLABLE HAN}) missing from current font.\n",
      "  plt.savefig('2022_인구피라미드.png', dpi=100)\n",
      "C:\\Users\\kwonk\\AppData\\Local\\Temp\\ipykernel_12480\\1221027753.py:5: UserWarning: Glyph 48124 (\\N{HANGUL SYLLABLE MIN}) missing from current font.\n",
      "  plt.savefig('2022_인구피라미드.png', dpi=100)\n",
      "C:\\Users\\kwonk\\AppData\\Local\\Temp\\ipykernel_12480\\1221027753.py:5: UserWarning: Glyph 44397 (\\N{HANGUL SYLLABLE GUG}) missing from current font.\n",
      "  plt.savefig('2022_인구피라미드.png', dpi=100)\n",
      "C:\\Users\\kwonk\\AppData\\Local\\Temp\\ipykernel_12480\\1221027753.py:5: UserWarning: Glyph 51064 (\\N{HANGUL SYLLABLE IN}) missing from current font.\n",
      "  plt.savefig('2022_인구피라미드.png', dpi=100)\n",
      "C:\\Users\\kwonk\\AppData\\Local\\Temp\\ipykernel_12480\\1221027753.py:5: UserWarning: Glyph 44396 (\\N{HANGUL SYLLABLE GU}) missing from current font.\n",
      "  plt.savefig('2022_인구피라미드.png', dpi=100)\n",
      "C:\\Users\\kwonk\\AppData\\Local\\Temp\\ipykernel_12480\\1221027753.py:5: UserWarning: Glyph 54588 (\\N{HANGUL SYLLABLE PI}) missing from current font.\n",
      "  plt.savefig('2022_인구피라미드.png', dpi=100)\n",
      "C:\\Users\\kwonk\\AppData\\Local\\Temp\\ipykernel_12480\\1221027753.py:5: UserWarning: Glyph 46972 (\\N{HANGUL SYLLABLE RA}) missing from current font.\n",
      "  plt.savefig('2022_인구피라미드.png', dpi=100)\n",
      "C:\\Users\\kwonk\\AppData\\Local\\Temp\\ipykernel_12480\\1221027753.py:5: UserWarning: Glyph 48120 (\\N{HANGUL SYLLABLE MI}) missing from current font.\n",
      "  plt.savefig('2022_인구피라미드.png', dpi=100)\n",
      "C:\\Users\\kwonk\\AppData\\Local\\Temp\\ipykernel_12480\\1221027753.py:5: UserWarning: Glyph 46300 (\\N{HANGUL SYLLABLE DEU}) missing from current font.\n",
      "  plt.savefig('2022_인구피라미드.png', dpi=100)\n",
      "C:\\Users\\kwonk\\AppData\\Local\\Temp\\ipykernel_12480\\1221027753.py:5: UserWarning: Glyph 44060 (\\N{HANGUL SYLLABLE GAE}) missing from current font.\n",
      "  plt.savefig('2022_인구피라미드.png', dpi=100)\n",
      "C:\\Users\\kwonk\\AppData\\Local\\Temp\\ipykernel_12480\\1221027753.py:5: UserWarning: Glyph 50900 (\\N{HANGUL SYLLABLE WEOL}) missing from current font.\n",
      "  plt.savefig('2022_인구피라미드.png', dpi=100)\n",
      "C:\\Users\\kwonk\\AppData\\Local\\Temp\\ipykernel_12480\\1221027753.py:5: UserWarning: Glyph 49464 (\\N{HANGUL SYLLABLE SE}) missing from current font.\n",
      "  plt.savefig('2022_인구피라미드.png', dpi=100)\n",
      "C:\\Users\\kwonk\\AppData\\Local\\Temp\\ipykernel_12480\\1221027753.py:5: UserWarning: Glyph 51060 (\\N{HANGUL SYLLABLE I}) missing from current font.\n",
      "  plt.savefig('2022_인구피라미드.png', dpi=100)\n",
      "C:\\Users\\kwonk\\AppData\\Local\\Temp\\ipykernel_12480\\1221027753.py:5: UserWarning: Glyph 49345 (\\N{HANGUL SYLLABLE SANG}) missing from current font.\n",
      "  plt.savefig('2022_인구피라미드.png', dpi=100)\n",
      "C:\\ProgramData\\Miniconda3\\envs\\kwonjh\\lib\\site-packages\\IPython\\core\\pylabtools.py:151: UserWarning: Glyph 45380 (\\N{HANGUL SYLLABLE NYEON}) missing from current font.\n",
      "  fig.canvas.print_figure(bytes_io, **kw)\n",
      "C:\\ProgramData\\Miniconda3\\envs\\kwonjh\\lib\\site-packages\\IPython\\core\\pylabtools.py:151: UserWarning: Glyph 45824 (\\N{HANGUL SYLLABLE DAE}) missing from current font.\n",
      "  fig.canvas.print_figure(bytes_io, **kw)\n",
      "C:\\ProgramData\\Miniconda3\\envs\\kwonjh\\lib\\site-packages\\IPython\\core\\pylabtools.py:151: UserWarning: Glyph 54620 (\\N{HANGUL SYLLABLE HAN}) missing from current font.\n",
      "  fig.canvas.print_figure(bytes_io, **kw)\n",
      "C:\\ProgramData\\Miniconda3\\envs\\kwonjh\\lib\\site-packages\\IPython\\core\\pylabtools.py:151: UserWarning: Glyph 48124 (\\N{HANGUL SYLLABLE MIN}) missing from current font.\n",
      "  fig.canvas.print_figure(bytes_io, **kw)\n",
      "C:\\ProgramData\\Miniconda3\\envs\\kwonjh\\lib\\site-packages\\IPython\\core\\pylabtools.py:151: UserWarning: Glyph 44397 (\\N{HANGUL SYLLABLE GUG}) missing from current font.\n",
      "  fig.canvas.print_figure(bytes_io, **kw)\n",
      "C:\\ProgramData\\Miniconda3\\envs\\kwonjh\\lib\\site-packages\\IPython\\core\\pylabtools.py:151: UserWarning: Glyph 51064 (\\N{HANGUL SYLLABLE IN}) missing from current font.\n",
      "  fig.canvas.print_figure(bytes_io, **kw)\n",
      "C:\\ProgramData\\Miniconda3\\envs\\kwonjh\\lib\\site-packages\\IPython\\core\\pylabtools.py:151: UserWarning: Glyph 44396 (\\N{HANGUL SYLLABLE GU}) missing from current font.\n",
      "  fig.canvas.print_figure(bytes_io, **kw)\n",
      "C:\\ProgramData\\Miniconda3\\envs\\kwonjh\\lib\\site-packages\\IPython\\core\\pylabtools.py:151: UserWarning: Glyph 54588 (\\N{HANGUL SYLLABLE PI}) missing from current font.\n",
      "  fig.canvas.print_figure(bytes_io, **kw)\n",
      "C:\\ProgramData\\Miniconda3\\envs\\kwonjh\\lib\\site-packages\\IPython\\core\\pylabtools.py:151: UserWarning: Glyph 46972 (\\N{HANGUL SYLLABLE RA}) missing from current font.\n",
      "  fig.canvas.print_figure(bytes_io, **kw)\n",
      "C:\\ProgramData\\Miniconda3\\envs\\kwonjh\\lib\\site-packages\\IPython\\core\\pylabtools.py:151: UserWarning: Glyph 48120 (\\N{HANGUL SYLLABLE MI}) missing from current font.\n",
      "  fig.canvas.print_figure(bytes_io, **kw)\n",
      "C:\\ProgramData\\Miniconda3\\envs\\kwonjh\\lib\\site-packages\\IPython\\core\\pylabtools.py:151: UserWarning: Glyph 46300 (\\N{HANGUL SYLLABLE DEU}) missing from current font.\n",
      "  fig.canvas.print_figure(bytes_io, **kw)\n",
      "C:\\ProgramData\\Miniconda3\\envs\\kwonjh\\lib\\site-packages\\IPython\\core\\pylabtools.py:151: UserWarning: Glyph 44060 (\\N{HANGUL SYLLABLE GAE}) missing from current font.\n",
      "  fig.canvas.print_figure(bytes_io, **kw)\n",
      "C:\\ProgramData\\Miniconda3\\envs\\kwonjh\\lib\\site-packages\\IPython\\core\\pylabtools.py:151: UserWarning: Glyph 50900 (\\N{HANGUL SYLLABLE WEOL}) missing from current font.\n",
      "  fig.canvas.print_figure(bytes_io, **kw)\n",
      "C:\\ProgramData\\Miniconda3\\envs\\kwonjh\\lib\\site-packages\\IPython\\core\\pylabtools.py:151: UserWarning: Glyph 49464 (\\N{HANGUL SYLLABLE SE}) missing from current font.\n",
      "  fig.canvas.print_figure(bytes_io, **kw)\n",
      "C:\\ProgramData\\Miniconda3\\envs\\kwonjh\\lib\\site-packages\\IPython\\core\\pylabtools.py:151: UserWarning: Glyph 51060 (\\N{HANGUL SYLLABLE I}) missing from current font.\n",
      "  fig.canvas.print_figure(bytes_io, **kw)\n",
      "C:\\ProgramData\\Miniconda3\\envs\\kwonjh\\lib\\site-packages\\IPython\\core\\pylabtools.py:151: UserWarning: Glyph 49345 (\\N{HANGUL SYLLABLE SANG}) missing from current font.\n",
      "  fig.canvas.print_figure(bytes_io, **kw)\n"
     ]
    },
    {
     "data": {
      "image/png": "[encoded data removed]",
      "text/plain": [
       "<Figure size 720x576 with 1 Axes>"
      ]
     },
     "metadata": {
      "needs_background": "light"
     },
     "output_type": "display_data"
    }
   ],
   "source": [
    "plt.figure(figsize=(10,8))\n",
    "plt.barh(df_man.columns, -df_man.iloc[0] // 1000) # 단위 : 1,000명 설정\n",
    "plt.barh(df_wo.columns, df_wo.iloc[0] // 1000)\n",
    "plt.title('2022년 대한민국 인구피라미드 3개월')\n",
    "plt.savefig('2022_인구피라미드.png', dpi=100)\n",
    "plt.show()\n"
   ]
  },
  {
   "cell_type": "code",
   "execution_count": 59,
   "metadata": {},
   "outputs": [
    {
     "name": "stderr",
     "output_type": "stream",
     "text": [
      "C:\\ProgramData\\Miniconda3\\envs\\kwonjh\\lib\\site-packages\\openpyxl\\styles\\stylesheet.py:226: UserWarning: Workbook contains no default style, apply openpyxl's default\n",
      "  warn(\"Workbook contains no default style, apply openpyxl's default\")\n"
     ]
    }
   ],
   "source": [
    "# 3012년 데이터 정리\n",
    "df_man2 = pd.read_excel('2012년 3개월 인구데이터.xlsx', skiprows=3, index_col= '행정기관', usecols='B, E:Y' )\n",
    "df_man2.iloc[0] = df_man2.iloc[0].str.replace(',','').astype(int)\n",
    "\n",
    "df_wo2 = pd.read_excel('2012년 3개월 인구데이터.xlsx', skiprows=3, index_col= '행정기관', usecols='B, AB:AV' )\n",
    "df_wo2.iloc[0] = df_wo2.iloc[0].str.replace(',','').astype(int)\n",
    "\n",
    "# 컬럼명 통일\n",
    "df_man2.columns = df_wo2.columns"
   ]
  },
  {
   "cell_type": "code",
   "execution_count": 67,
   "metadata": {},
   "outputs": [
    {
     "name": "stderr",
     "output_type": "stream",
     "text": [
      "C:\\Users\\kwonk\\AppData\\Local\\Temp\\ipykernel_12480\\3120486972.py:5: UserWarning: Glyph 49464 (\\N{HANGUL SYLLABLE SE}) missing from current font.\n",
      "  plt.savefig('2012_인구피라미드.png', dpi=100)\n",
      "C:\\Users\\kwonk\\AppData\\Local\\Temp\\ipykernel_12480\\3120486972.py:5: UserWarning: Glyph 51060 (\\N{HANGUL SYLLABLE I}) missing from current font.\n",
      "  plt.savefig('2012_인구피라미드.png', dpi=100)\n",
      "C:\\Users\\kwonk\\AppData\\Local\\Temp\\ipykernel_12480\\3120486972.py:5: UserWarning: Glyph 49345 (\\N{HANGUL SYLLABLE SANG}) missing from current font.\n",
      "  plt.savefig('2012_인구피라미드.png', dpi=100)\n",
      "C:\\ProgramData\\Miniconda3\\envs\\kwonjh\\lib\\site-packages\\IPython\\core\\pylabtools.py:151: UserWarning: Glyph 49464 (\\N{HANGUL SYLLABLE SE}) missing from current font.\n",
      "  fig.canvas.print_figure(bytes_io, **kw)\n",
      "C:\\ProgramData\\Miniconda3\\envs\\kwonjh\\lib\\site-packages\\IPython\\core\\pylabtools.py:151: UserWarning: Glyph 51060 (\\N{HANGUL SYLLABLE I}) missing from current font.\n",
      "  fig.canvas.print_figure(bytes_io, **kw)\n",
      "C:\\ProgramData\\Miniconda3\\envs\\kwonjh\\lib\\site-packages\\IPython\\core\\pylabtools.py:151: UserWarning: Glyph 49345 (\\N{HANGUL SYLLABLE SANG}) missing from current font.\n",
      "  fig.canvas.print_figure(bytes_io, **kw)\n"
     ]
    },
    {
     "data": {
      "image/png": "[encoded data removed]",
      "text/plain": [
       "<Figure size 720x576 with 1 Axes>"
      ]
     },
     "metadata": {
      "needs_background": "light"
     },
     "output_type": "display_data"
    }
   ],
   "source": [
    "plt.figure(figsize=(10,8))\n",
    "plt.barh(df_man2.columns, df_man2.iloc[0])\n",
    "plt.barh(df_wo2.columns, -df_wo2.iloc[0])\n",
    "plt.title('2012year sexual population data')\n",
    "plt.savefig('2012_인구피라미드.png', dpi=100)\n",
    "plt.show()"
   ]
  },
  {
   "cell_type": "code",
   "execution_count": null,
   "metadata": {},
   "outputs": [],
   "source": []
  }
 ],
 "metadata": {
  "interpreter": {
   "hash": "2049c80de9ec6ca28aa42fa305d961a93ce1b546cc2e570f437a9b0fe8b79f6b"
  },
  "kernelspec": {
   "display_name": "Python 3.9.9 ('kwonjh')",
   "language": "python",
   "name": "python3"
  },
  "language_info": {
   "codemirror_mode": {
    "name": "ipython",
    "version": 3
   },
   "file_extension": ".py",
   "mimetype": "text/x-python",
   "name": "python",
   "nbconvert_exporter": "python",
   "pygments_lexer": "ipython3",
   "version": "3.9.9"
  },
  "orig_nbformat": 4
 },
 "nbformat": 4,
 "nbformat_minor": 2
}
