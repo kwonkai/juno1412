{
 "cells": [
  {
   "cell_type": "code",
   "execution_count": 77,
   "metadata": {},
   "outputs": [
    {
     "name": "stdout",
     "output_type": "stream",
     "text": [
      "<class 'pandas.core.frame.DataFrame'>\n",
      "RangeIndex: 139 entries, 0 to 138\n",
      "Data columns (total 10 columns):\n",
      " #   Column  Non-Null Count  Dtype \n",
      "---  ------  --------------  ----- \n",
      " 0   성별      139 non-null    object\n",
      " 1   나이대     139 non-null    int64 \n",
      " 2   옷       139 non-null    object\n",
      " 3   신발      139 non-null    object\n",
      " 4   가방      139 non-null    object\n",
      " 5   말투      139 non-null    object\n",
      " 6   메뉴      136 non-null    object\n",
      " 7   테이크아웃   136 non-null    object\n",
      " 8   일행      139 non-null    object\n",
      " 9   시간대     139 non-null    int64 \n",
      "dtypes: int64(2), object(8)\n",
      "memory usage: 11.0+ KB\n"
     ]
    }
   ],
   "source": [
    "# 1. 데이터 준비하기\n",
    "import pandas as pd\n",
    "import numpy as np\n",
    "data  = pd.read_csv(\"C:/Users/kwonk/Downloads/개인 프로젝트/TAKEOUT/테이크아웃.csv\", encoding='UTF-8')\n",
    "data.info()\n"
   ]
  },
  {
   "cell_type": "code",
   "execution_count": 78,
   "metadata": {},
   "outputs": [
    {
     "name": "stderr",
     "output_type": "stream",
     "text": [
      "C:\\Users\\kwonk\\AppData\\Local\\Temp\\ipykernel_1620\\2176469601.py:5: MatplotlibDeprecationWarning: \n",
      "The get_fontconfig_fonts function was deprecated in Matplotlib 3.5 and will be removed two minor releases later.\n",
      "  fm.get_fontconfig_fonts()\n"
     ]
    }
   ],
   "source": [
    "# 데이터 젙처리\n",
    "# 2-1. 데이터 시각화\n",
    "import matplotlib\n",
    "import matplotlib.font_manager as fm\n",
    "fm.get_fontconfig_fonts()\n",
    "\n",
    "\n",
    "font_location = 'C:\\Windows\\Fonts\\GULIM.TTC' \n",
    "font_name = fm.FontProperties(fname=font_location).get_name()\n",
    "matplotlib.rc('font', family=font_name)\n",
    "\n",
    "%matplotlib inline\n",
    "\n",
    "\n",
    "\n"
   ]
  },
  {
   "cell_type": "code",
   "execution_count": 79,
   "metadata": {},
   "outputs": [
    {
     "data": {
      "image/png": "[encoded data removed]",
      "text/plain": [
       "<Figure size 432x288 with 1 Axes>"
      ]
     },
     "metadata": {
      "needs_background": "light"
     },
     "output_type": "display_data"
    }
   ],
   "source": [
    "import matplotlib.pyplot as plt\n",
    "plt.title('Gender', fontsize=20)\n",
    "plt.hist(data[\"성별\"], color='blue')\n",
    "plt.xlabel(\"sex\")\n",
    "plt.ylabel(\"count\")\n",
    "plt.show()"
   ]
  },
  {
   "cell_type": "code",
   "execution_count": 84,
   "metadata": {},
   "outputs": [
    {
     "data": {
      "text/html": [
       "<div>\n",
       "<style scoped>\n",
       "    .dataframe tbody tr th:only-of-type {\n",
       "        vertical-align: middle;\n",
       "    }\n",
       "\n",
       "    .dataframe tbody tr th {\n",
       "        vertical-align: top;\n",
       "    }\n",
       "\n",
       "    .dataframe thead th {\n",
       "        text-align: right;\n",
       "    }\n",
       "</style>\n",
       "<table border=\"1\" class=\"dataframe\">\n",
       "  <thead>\n",
       "    <tr style=\"text-align: right;\">\n",
       "      <th></th>\n",
       "      <th>성별</th>\n",
       "      <th>나이대</th>\n",
       "      <th>옷</th>\n",
       "      <th>신발</th>\n",
       "      <th>가방</th>\n",
       "      <th>말투</th>\n",
       "      <th>메뉴</th>\n",
       "      <th>테이크아웃</th>\n",
       "      <th>일행</th>\n",
       "      <th>시간대</th>\n",
       "    </tr>\n",
       "  </thead>\n",
       "  <tbody>\n",
       "    <tr>\n",
       "      <th>0</th>\n",
       "      <td>남</td>\n",
       "      <td>20</td>\n",
       "      <td>평상복</td>\n",
       "      <td>컨버스</td>\n",
       "      <td>백팩</td>\n",
       "      <td>존대</td>\n",
       "      <td>커피</td>\n",
       "      <td>X</td>\n",
       "      <td>무</td>\n",
       "      <td>14</td>\n",
       "    </tr>\n",
       "    <tr>\n",
       "      <th>100</th>\n",
       "      <td>남</td>\n",
       "      <td>30</td>\n",
       "      <td>평상복</td>\n",
       "      <td>구두</td>\n",
       "      <td>무</td>\n",
       "      <td>존대</td>\n",
       "      <td>커피</td>\n",
       "      <td>O</td>\n",
       "      <td>유</td>\n",
       "      <td>15</td>\n",
       "    </tr>\n",
       "    <tr>\n",
       "      <th>66</th>\n",
       "      <td>남</td>\n",
       "      <td>20</td>\n",
       "      <td>평상복</td>\n",
       "      <td>컨버스</td>\n",
       "      <td>백팩</td>\n",
       "      <td>존대</td>\n",
       "      <td>커피+디저트</td>\n",
       "      <td>O</td>\n",
       "      <td>유</td>\n",
       "      <td>14</td>\n",
       "    </tr>\n",
       "    <tr>\n",
       "      <th>116</th>\n",
       "      <td>남</td>\n",
       "      <td>20</td>\n",
       "      <td>평상복</td>\n",
       "      <td>운동화</td>\n",
       "      <td>백팩</td>\n",
       "      <td>존대</td>\n",
       "      <td>커피</td>\n",
       "      <td>O</td>\n",
       "      <td>유</td>\n",
       "      <td>16</td>\n",
       "    </tr>\n",
       "    <tr>\n",
       "      <th>30</th>\n",
       "      <td>남</td>\n",
       "      <td>30</td>\n",
       "      <td>평상복</td>\n",
       "      <td>운동화</td>\n",
       "      <td>무</td>\n",
       "      <td>존대</td>\n",
       "      <td>원두</td>\n",
       "      <td>O</td>\n",
       "      <td>무</td>\n",
       "      <td>16</td>\n",
       "    </tr>\n",
       "  </tbody>\n",
       "</table>\n",
       "</div>"
      ],
      "text/plain": [
       "    성별  나이대    옷   신발  가방  말투      메뉴 테이크아웃 일행  시간대\n",
       "0    남   20  평상복  컨버스  백팩  존대      커피     X  무   14\n",
       "100  남   30  평상복   구두   무  존대      커피     O  유   15\n",
       "66   남   20  평상복  컨버스  백팩  존대  커피+디저트     O  유   14\n",
       "116  남   20  평상복  운동화  백팩  존대      커피     O  유   16\n",
       "30   남   30  평상복  운동화   무  존대      원두     O  무   16"
      ]
     },
     "execution_count": 84,
     "metadata": {},
     "output_type": "execute_result"
    }
   ],
   "source": [
    "data_sorted = data.sort_values(by = '성별')\n",
    "data_sorted.head()"
   ]
  },
  {
   "cell_type": "code",
   "execution_count": 80,
   "metadata": {},
   "outputs": [
    {
     "data": {
      "image/png": "[encoded data removed]",
      "text/plain": [
       "<Figure size 432x288 with 1 Axes>"
      ]
     },
     "metadata": {
      "needs_background": "light"
     },
     "output_type": "display_data"
    }
   ],
   "source": [
    "data2 = data.groupby([\"성별\", \"나이대\", \"옷\"]).size().unstack()\n",
    "data.head()\n",
    "plt.hist(data2, cumulative=True)\n",
    "plt.show()"
   ]
  },
  {
   "cell_type": "code",
   "execution_count": 81,
   "metadata": {},
   "outputs": [
    {
     "data": {
      "text/html": [
       "<div>\n",
       "<style scoped>\n",
       "    .dataframe tbody tr th:only-of-type {\n",
       "        vertical-align: middle;\n",
       "    }\n",
       "\n",
       "    .dataframe tbody tr th {\n",
       "        vertical-align: top;\n",
       "    }\n",
       "\n",
       "    .dataframe thead th {\n",
       "        text-align: right;\n",
       "    }\n",
       "</style>\n",
       "<table border=\"1\" class=\"dataframe\">\n",
       "  <thead>\n",
       "    <tr style=\"text-align: right;\">\n",
       "      <th></th>\n",
       "      <th>옷</th>\n",
       "      <th>등산복</th>\n",
       "      <th>자켓</th>\n",
       "      <th>정장</th>\n",
       "      <th>코트</th>\n",
       "      <th>평상복</th>\n",
       "    </tr>\n",
       "    <tr>\n",
       "      <th>성별</th>\n",
       "      <th>나이대</th>\n",
       "      <th></th>\n",
       "      <th></th>\n",
       "      <th></th>\n",
       "      <th></th>\n",
       "      <th></th>\n",
       "    </tr>\n",
       "  </thead>\n",
       "  <tbody>\n",
       "    <tr>\n",
       "      <th rowspan=\"5\" valign=\"top\">남</th>\n",
       "      <th>20</th>\n",
       "      <td>NaN</td>\n",
       "      <td>NaN</td>\n",
       "      <td>NaN</td>\n",
       "      <td>2.0</td>\n",
       "      <td>24.0</td>\n",
       "    </tr>\n",
       "    <tr>\n",
       "      <th>30</th>\n",
       "      <td>1.0</td>\n",
       "      <td>1.0</td>\n",
       "      <td>2.0</td>\n",
       "      <td>NaN</td>\n",
       "      <td>9.0</td>\n",
       "    </tr>\n",
       "    <tr>\n",
       "      <th>50</th>\n",
       "      <td>NaN</td>\n",
       "      <td>NaN</td>\n",
       "      <td>NaN</td>\n",
       "      <td>NaN</td>\n",
       "      <td>2.0</td>\n",
       "    </tr>\n",
       "    <tr>\n",
       "      <th>60</th>\n",
       "      <td>NaN</td>\n",
       "      <td>NaN</td>\n",
       "      <td>NaN</td>\n",
       "      <td>NaN</td>\n",
       "      <td>3.0</td>\n",
       "    </tr>\n",
       "    <tr>\n",
       "      <th>70</th>\n",
       "      <td>NaN</td>\n",
       "      <td>NaN</td>\n",
       "      <td>NaN</td>\n",
       "      <td>NaN</td>\n",
       "      <td>2.0</td>\n",
       "    </tr>\n",
       "  </tbody>\n",
       "</table>\n",
       "</div>"
      ],
      "text/plain": [
       "옷       등산복   자켓   정장   코트   평상복\n",
       "성별 나이대                          \n",
       "남  20   NaN  NaN  NaN  2.0  24.0\n",
       "   30   1.0  1.0  2.0  NaN   9.0\n",
       "   50   NaN  NaN  NaN  NaN   2.0\n",
       "   60   NaN  NaN  NaN  NaN   3.0\n",
       "   70   NaN  NaN  NaN  NaN   2.0"
      ]
     },
     "execution_count": 81,
     "metadata": {},
     "output_type": "execute_result"
    }
   ],
   "source": [
    "data2.head()"
   ]
  },
  {
   "cell_type": "code",
   "execution_count": null,
   "metadata": {},
   "outputs": [],
   "source": []
  },
  {
   "cell_type": "code",
   "execution_count": 82,
   "metadata": {},
   "outputs": [
    {
     "data": {
      "image/png": "[encoded data removed]",
      "text/plain": [
       "<Figure size 432x288 with 1 Axes>"
      ]
     },
     "metadata": {
      "needs_background": "light"
     },
     "output_type": "display_data"
    }
   ],
   "source": [
    "stacked_bar_data.plot(kind='bar')\n",
    "plt.xticks(rotation=0)\n",
    "plt.show()"
   ]
  }
 ],
 "metadata": {
  "interpreter": {
   "hash": "2049c80de9ec6ca28aa42fa305d961a93ce1b546cc2e570f437a9b0fe8b79f6b"
  },
  "kernelspec": {
   "display_name": "Python 3.9.9 64-bit ('kwonjh': conda)",
   "language": "python",
   "name": "python3"
  },
  "language_info": {
   "codemirror_mode": {
    "name": "ipython",
    "version": 3
   },
   "file_extension": ".py",
   "mimetype": "text/x-python",
   "name": "python",
   "nbconvert_exporter": "python",
   "pygments_lexer": "ipython3",
   "version": "3.9.9"
  },
  "orig_nbformat": 4
 },
 "nbformat": 4,
 "nbformat_minor": 2
}
