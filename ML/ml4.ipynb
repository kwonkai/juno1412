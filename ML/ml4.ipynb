{
 "cells": [
  {
   "cell_type": "code",
   "execution_count": 1,
   "metadata": {},
   "outputs": [],
   "source": [
    "# 선형회귀"
   ]
  },
  {
   "cell_type": "code",
   "execution_count": 2,
   "metadata": {},
   "outputs": [],
   "source": [
    "# 1. 최근접 이웃 한계점\n",
    "# 근접하는 데이터를 기반으로 예측하여 추가적인 데이터가 없다면 제대로 예측하지 못함\n",
    "import numpy as np\n",
    "# 1-1. 농어 길이와 무게 데이터 \n",
    "perch_length = np.array([8.4, 13.7, 15.0, 16.2, 17.4, 18.0, 18.7, 19.0, 19.6, 20.0, 21.0,\n",
    "       21.0, 21.0, 21.3, 22.0, 22.0, 22.0, 22.0, 22.0, 22.5, 22.5, 22.7,\n",
    "       23.0, 23.5, 24.0, 24.0, 24.6, 25.0, 25.6, 26.5, 27.3, 27.5, 27.5,\n",
    "       27.5, 28.0, 28.7, 30.0, 32.8, 34.5, 35.0, 36.5, 36.0, 37.0, 37.0,\n",
    "       39.0, 39.0, 39.0, 40.0, 40.0, 40.0, 40.0, 42.0, 43.0, 43.0, 43.5,\n",
    "       44.0])\n",
    "perch_weight = np.array([5.9, 32.0, 40.0, 51.5, 70.0, 100.0, 78.0, 80.0, 85.0, 85.0, 110.0,\n",
    "       115.0, 125.0, 130.0, 120.0, 120.0, 130.0, 135.0, 110.0, 130.0,\n",
    "       150.0, 145.0, 150.0, 170.0, 225.0, 145.0, 188.0, 180.0, 197.0,\n",
    "       218.0, 300.0, 260.0, 265.0, 250.0, 250.0, 300.0, 320.0, 514.0,\n",
    "       556.0, 840.0, 685.0, 700.0, 700.0, 690.0, 900.0, 650.0, 820.0,\n",
    "       850.0, 900.0, 1015.0, 820.0, 1100.0, 1000.0, 1100.0, 1000.0,\n",
    "       1000.0])"
   ]
  },
  {
   "cell_type": "code",
   "execution_count": 3,
   "metadata": {},
   "outputs": [
    {
     "name": "stdout",
     "output_type": "stream",
     "text": [
      "(42, 1) (14, 1)\n",
      "[1050.]\n"
     ]
    }
   ],
   "source": [
    "# 1-2. 데이터 훈련셋, 테스트셋 나누기\n",
    "from sklearn.model_selection import train_test_split\n",
    "\n",
    "train_input, test_input, train_target, test_target = train_test_split(perch_length, perch_weight, random_state=42)\n",
    "\n",
    "# 데이터셋 2차원으로 변경하기\n",
    "train_input = train_input.reshape(-1, 1)\n",
    "test_input = test_input.reshape(-1, 1)\n",
    "print(train_input.shape, test_input.shape)\n",
    "\n",
    "# 1-3. 최근접이웃 훈련\n",
    "from sklearn.neighbors import KNeighborsRegressor\n",
    "knr = KNeighborsRegressor(n_neighbors=4)\n",
    "knr.fit(train_input, train_target)\n",
    "\n",
    "print(knr.predict([[50]]))\n",
    "\n",
    "# 50cm 농어 무게 = 1.5kg 현실 괴리\n",
    "\n",
    "\n"
   ]
  },
  {
   "cell_type": "code",
   "execution_count": 4,
   "metadata": {},
   "outputs": [
    {
     "name": "stdout",
     "output_type": "stream",
     "text": [
      "[1241.83860323]\n"
     ]
    }
   ],
   "source": [
    "# 2. 선형회귀 알고리즘\n",
    "from sklearn.linear_model import LinearRegression\n",
    "\n",
    "lr = LinearRegression()\n",
    "\n",
    "# 2-1-1. 선형회귀 훈련 \n",
    "lr.fit(train_input, train_target)\n",
    "\n",
    "# 2-1-2. 50cm 농어 예측하기\n",
    "print(lr.predict([[50]]))"
   ]
  },
  {
   "cell_type": "code",
   "execution_count": 5,
   "metadata": {},
   "outputs": [
    {
     "data": {
      "image/png": "[encoded data removed]",
      "text/plain": [
       "<Figure size 432x288 with 1 Axes>"
      ]
     },
     "metadata": {
      "needs_background": "light"
     },
     "output_type": "display_data"
    }
   ],
   "source": [
    "# 2-2. 농어 데이터 예측하기\n",
    "# 2-2-1. 데이터 시각화\n",
    "import matplotlib.pyplot as plt\n",
    "# 산점도 그리기\n",
    "plt.scatter(train_input, train_target)\n",
    "\n",
    "# 15~50 방정식 그래프 \n",
    "plt.plot([15,50], [15*lr.coef_ + lr.intercept_, 50*lr.coef_ + lr.intercept_])\n",
    "\n",
    "# 50cm 농어데이터\n",
    "plt.scatter(50, 1241.8, marker='^')\n",
    "plt.xlabel('length')\n",
    "plt.ylabel('weight')\n",
    "plt.show()"
   ]
  },
  {
   "cell_type": "code",
   "execution_count": 6,
   "metadata": {},
   "outputs": [
    {
     "name": "stdout",
     "output_type": "stream",
     "text": [
      "0.9398463339976041\n",
      "0.824750312331356\n"
     ]
    }
   ],
   "source": [
    "# 2-2-3. 결정계수 (R2) 확인\n",
    "print(lr.score(train_input, train_target))\n",
    "print(lr.score(test_input, test_target))"
   ]
  },
  {
   "cell_type": "code",
   "execution_count": 7,
   "metadata": {},
   "outputs": [
    {
     "name": "stdout",
     "output_type": "stream",
     "text": [
      "(42, 2) (14, 2)\n",
      "[1573.98423528]\n",
      "[  1.01433211 -21.55792498] 116.0502107827827\n"
     ]
    }
   ],
   "source": [
    "# 3. 다항회귀(곡선 회귀) 선형X\n",
    "\n",
    "# 3-1. 데이터 제곱\n",
    "# 2차 방정식 => 데이터 제곱 : np.column_stack 사용\n",
    "train_poly = np.column_stack((train_input ** 2, train_input))\n",
    "test_poly = np.column_stack((test_input ** 2, test_input))\n",
    "\n",
    "print(train_poly.shape, test_poly.shape)\n",
    "\n",
    "# 3-2. 데이터 훈련하기\n",
    "lr = LinearRegression()\n",
    "lr.fit(train_poly, train_target)\n",
    "\n",
    "# 3-2-1. 50cm 농어 무게 예측값\n",
    "print(lr.predict([[50**2, 50]]))\n",
    "\n",
    "# 3-2-2. 모델 계수, 절편 출력\n",
    "print(lr.coef_, lr.intercept_)"
   ]
  },
  {
   "cell_type": "code",
   "execution_count": 8,
   "metadata": {},
   "outputs": [
    {
     "data": {
      "image/png": "[encoded data removed]",
      "text/plain": [
       "<Figure size 432x288 with 1 Axes>"
      ]
     },
     "metadata": {
      "needs_background": "light"
     },
     "output_type": "display_data"
    }
   ],
   "source": [
    "# 3-3. 산점도 그래프\n",
    "# 정수 배열 만들기\n",
    "p = np.arange(15, 50)\n",
    "\n",
    "# 훈련세트 산점도 그리기\n",
    "plt.scatter(train_input,train_target)\n",
    "\n",
    "# 15~49 2차 방정식 그리기\n",
    "plt.plot(p, 1.01*p**2 - 21.6*p + 116.05)\n",
    "\n",
    "# 그래프 그리기\n",
    "plt.scatter(50, 1574, marker='^')\n",
    "plt.xlabel('length')\n",
    "plt.ylabel('weight')\n",
    "plt.show()"
   ]
  },
  {
   "cell_type": "code",
   "execution_count": 9,
   "metadata": {},
   "outputs": [
    {
     "name": "stdout",
     "output_type": "stream",
     "text": [
      "0.9706807451768623\n",
      "0.9775935108325122\n"
     ]
    }
   ],
   "source": [
    "print(lr.score(train_poly, train_target))\n",
    "print(lr.score(test_poly, test_target))"
   ]
  }
 ],
 "metadata": {
  "interpreter": {
   "hash": "ecf5722fdaf1897a315d257d89d94520bfcaa453217d5becf09b39e73618b0de"
  },
  "kernelspec": {
   "display_name": "Python 3.9.5 64-bit ('base': conda)",
   "name": "python3"
  },
  "language_info": {
   "codemirror_mode": {
    "name": "ipython",
    "version": 3
   },
   "file_extension": ".py",
   "mimetype": "text/x-python",
   "name": "python",
   "nbconvert_exporter": "python",
   "pygments_lexer": "ipython3",
   "version": "3.9.5"
  },
  "orig_nbformat": 4
 },
 "nbformat": 4,
 "nbformat_minor": 2
}
