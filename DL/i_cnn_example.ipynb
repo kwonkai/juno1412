{
  "nbformat": 4,
  "nbformat_minor": 0,
  "metadata": {
    "colab": {
      "name": "i.cnn-example.ipynb",
      "provenance": [],
      "collapsed_sections": []
    },
    "kernelspec": {
      "name": "python3",
      "display_name": "Python 3"
    },
    "language_info": {
      "name": "python"
    },
    "accelerator": "GPU"
  },
  "cells": [
    {
      "cell_type": "code",
      "metadata": {
        "id": "oYao9adbusHg"
      },
      "source": [
        "%%bash\n",
        "\n",
        "# cd drive/MyDrive/data-files/\n",
        "\n",
        "# unzip cats_and_dogs.zip\n",
        "\n",
        "# rm -f cats_and_dogs.zip\n",
        "\n",
        "# mkdir cats_and_dogs\n",
        "# mv train cat_and dogs\n",
        "\n",
        "# ls -l"
      ],
      "execution_count": null,
      "outputs": []
    },
    {
      "cell_type": "code",
      "metadata": {
        "id": "APHTS_Gs09nz"
      },
      "source": [
        "import os, shutil\n",
        "\n",
        "base_dir = 'drive/MyDrive/data-files/cats_and_dogs2'\n",
        "train_dir = os.path.join(base_dir, 'train')\n",
        "test_dir = os.path.join(base_dir, 'test')\n",
        "validation_dir = os.path.join(base_dir, 'validation')\n",
        "\n",
        "if os.path.exists(base_dir): # 기존에 디렉터리가 있으면 삭제\n",
        "  shutil.rmtree(base_dir)\n",
        "\n",
        "os.mkdir(base_dir)\n",
        "os.mkdir(train_dir)\n",
        "os.mkdir(test_dir)\n",
        "os.mkdir(validation_dir)\n",
        "\n",
        "train_cat_dir = os.path.join(train_dir, 'cats')\n",
        "os.mkdir(train_cat_dir)\n",
        "train_dog_dir = os.path.join(train_dir, 'dogs')\n",
        "os.mkdir(train_dog_dir)\n",
        "\n",
        "test_cat_dir = os.path.join(test_dir, 'cats')\n",
        "os.mkdir(test_cat_dir)\n",
        "test_dog_dir = os.path.join(test_dir, 'dogs')\n",
        "os.mkdir(test_dog_dir)\n",
        "\n",
        "validation_cat_dir = os.path.join(validation_dir, 'cats')\n",
        "os.mkdir(validation_cat_dir)\n",
        "validation_dog_dir = os.path.join(validation_dir, 'dogs')\n",
        "os.mkdir(validation_dog_dir)\n",
        "\n",
        "src_dir = 'drive/MyDrive/data-files/cats_and_dogs/train'\n",
        "for idx in range(1000):\n",
        "  fname = 'cat.{0}.jpg'.format(idx)\n",
        "  shutil.copyfile(os.path.join(src_dir, fname), os.path.join(train_cat_dir, fname))\n",
        "  fname = 'dog.{0}.jpg'.format(idx)\n",
        "  shutil.copyfile(os.path.join(src_dir, fname), os.path.join(train_dog_dir, fname))\n",
        "\n",
        "for idx in range(1000, 1500):\n",
        "  fname = 'cat.{0}.jpg'.format(idx)\n",
        "  shutil.copyfile(os.path.join(src_dir, fname), os.path.join(validation_cat_dir, fname))\n",
        "  fname = 'dog.{0}.jpg'.format(idx)\n",
        "  shutil.copyfile(os.path.join(src_dir, fname), os.path.join(validation_dog_dir, fname))\n",
        "\n",
        "for idx in range(1500, 2000):\n",
        "  fname = 'cat.{0}.jpg'.format(idx)\n",
        "  shutil.copyfile(os.path.join(src_dir, fname), os.path.join(test_cat_dir, fname))\n",
        "  fname = 'dog.{0}.jpg'.format(idx)\n",
        "  shutil.copyfile(os.path.join(src_dir, fname), os.path.join(test_dog_dir, fname))"
      ],
      "execution_count": null,
      "outputs": []
    },
    {
      "cell_type": "code",
      "metadata": {
        "id": "hWdzzexC30VT"
      },
      "source": [
        "import os, shutil\n",
        "\n",
        "src_dir = 'drive/MyDrive/data-files/cats_and_dogs/train'\n",
        "base_dir = 'drive/MyDrive/data-files/cats_and_dogs2'\n",
        "if os.path.exists(base_dir): # 기존에 디렉터리가 있으면 삭제\n",
        "  shutil.rmtree(base_dir)\n",
        "\n",
        "dir_names = ['train', 'validation', 'test']\n",
        "limits = [(0, 1000), (1000, 1500), (1500,2000)]\n",
        "dir_names2 = ['cats', 'dogs']\n",
        "\n",
        "os.mkdir(base_dir)\n",
        "for limits_idx, dir_name in enumerate(dir_names):\n",
        "  path = os.path.join(base_dir, dir_name)\n",
        "  os.mkdir(path)\n",
        "  for dir_name2 in dir_names2:\n",
        "    path2 = os.path.join(path, dir_name2)\n",
        "    os.mkdir(path2)\n",
        "  for idx in range(*limits[limits_idx]):\n",
        "    for dir_name2 in dir_names2:\n",
        "      fname = '{0}.{1}.jpg'.format(dir_name2[:3], idx)\n",
        "      shutil.copyfile(os.path.join(src_dir, fname), os.path.join(path, dir_name2, fname))  "
      ],
      "execution_count": null,
      "outputs": []
    },
    {
      "cell_type": "code",
      "metadata": {
        "id": "WhrzoGdtYSRg"
      },
      "source": [
        ""
      ],
      "execution_count": null,
      "outputs": []
    },
    {
      "cell_type": "code",
      "metadata": {
        "id": "dJ0-HHfUyMS_"
      },
      "source": [
        "from tensorflow import keras"
      ],
      "execution_count": null,
      "outputs": []
    },
    {
      "cell_type": "code",
      "metadata": {
        "id": "zkOt8Vo9Yfuf"
      },
      "source": [
        "from tensorflow.keras.applications import VGG16\n",
        "\n",
        "model = VGG16(weights='imagenet',\n",
        "            include_top=False,\n",
        "            input_shape=(150, 150, 3))"
      ],
      "execution_count": null,
      "outputs": []
    },
    {
      "cell_type": "code",
      "metadata": {
        "id": "o7cC6rOCawBp"
      },
      "source": [
        "model.summary()"
      ],
      "execution_count": null,
      "outputs": []
    },
    {
      "cell_type": "code",
      "metadata": {
        "id": "iNVJysdaySzp"
      },
      "source": [
        "from tensorflow.keras.preprocessing.image import ImageDataGenerator\n",
        "\n",
        "train_generator = ImageDataGenerator(rescale=1/255) # 특정 디렉터리의 파일을 읽어서 모델의 입력 데이터로 변경하는 도구 (변경 설정 지정 가능)\n",
        "test_generator = ImageDataGenerator(rescale=1/255)"
      ],
      "execution_count": null,
      "outputs": []
    },
    {
      "cell_type": "code",
      "metadata": {
        "id": "xn-TWr9CyUjn"
      },
      "source": [
        "X_train = train_generator.flow_from_directory(directory='drive/MyDrive/data-files/cats_and_dogs2/train',\n",
        "                                              target_size=(150, 150),\n",
        "                                              batch_size=128,\n",
        "                                              class_mode=\"binary\") #\n",
        "\n",
        "X_valid = test_generator.flow_from_directory(directory='drive/MyDrive/data-files/cats_and_dogs2/validation',\n",
        "                                              target_size=(150, 150),\n",
        "                                              batch_size=128,\n",
        "                                              class_mode=\"binary\") #"
      ],
      "execution_count": null,
      "outputs": []
    },
    {
      "cell_type": "code",
      "source": [
        "history = model.fit_generator(\n",
        "    X_train,\n",
        "    steps_per_epoch = 20,\n",
        "    epochs = 100,\n",
        "    validation_data = X_valid,\n",
        "    validation_steps = 20,\n",
        ")"
      ],
      "metadata": {
        "id": "pNsvD8Xv3ZJQ"
      },
      "execution_count": null,
      "outputs": []
    },
    {
      "cell_type": "code",
      "source": [
        "# # model save\n",
        "model.save('dog_cat.h5')"
      ],
      "metadata": {
        "id": "MU7J8PJ_3vD3"
      },
      "execution_count": null,
      "outputs": []
    },
    {
      "cell_type": "code",
      "metadata": {
        "id": "ekURPDcbc-DB"
      },
      "source": [
        "# 사전학습된 모델의 예측 함수를 호출해서 중간 데이터를 수집\n",
        "def predict_vgg_values(samples, directory): \n",
        "  import numpy as np\n",
        "\n",
        "  features = np.zeros(shape=(samples, 4, 4, 512))\n",
        "  labels = np.zeros(shape=(samples,))\n",
        "\n",
        "  batch_size = 20\n",
        "  X_train = train_generator.flow_from_directory(directory=directory,\n",
        "                                                target_size=(150, 150),\n",
        "                                                batch_size=batch_size,\n",
        "                                                class_mode=\"binary\")\n",
        "  for idx, (X, y) in enumerate(X_train):\n",
        "    print(\"execute {0} iteration\".format(idx + 1))\n",
        "    predicted_values = vgg.predict(X)\n",
        "    features[idx*batch_size:(idx + 1)*batch_size] = predicted_values\n",
        "    labels[idx*batch_size:(idx + 1)*batch_size] = y\n",
        "    if (idx + 1) * batch_size >= samples:\n",
        "      break\n",
        "\n",
        "  return features, labels\n"
      ],
      "execution_count": null,
      "outputs": []
    },
    {
      "cell_type": "code",
      "metadata": {
        "id": "kTZU1zNFe0QD"
      },
      "source": [
        "model.save('best_model_val_nonstop.hdf5')"
      ],
      "execution_count": null,
      "outputs": []
    },
    {
      "cell_type": "code",
      "metadata": {
        "id": "2h_fjcCPcgYa"
      },
      "source": [
        "# train_features, train_labels = predict_vgg_values(2000, 'drive/MyDrive/data-files/cats_and_dogs2/train')\n",
        "validation_features, validation_labels = predict_vgg_values(2000, 'drive/MyDrive/data-files/cats_and_dogs2/train')"
      ],
      "execution_count": null,
      "outputs": []
    },
    {
      "cell_type": "code",
      "metadata": {
        "id": "4AUTtLuHomPk"
      },
      "source": [
        "train_features[0]"
      ],
      "execution_count": null,
      "outputs": []
    },
    {
      "cell_type": "code",
      "metadata": {
        "id": "ypi6Ogsyoqq8"
      },
      "source": [
        "model = keras.Sequential()\n",
        "model.add(keras.layers.Flatten())\n",
        "model.add(keras.layers.Dense(256, activation='relu'))\n",
        "model.add(keras.layers.Dropout(0.5))\n",
        "model.add(keras.layers.Dense(1, activation='sigmoid'))\n",
        "\n",
        "model.compile(loss='binary_crossentropy', \n",
        "              optimizer=keras.optimizers.RMSprop(learning_rate=0.0001),\n",
        "              metrics=['accuracy'])"
      ],
      "execution_count": null,
      "outputs": []
    },
    {
      "cell_type": "code",
      "metadata": {
        "id": "L-gUyFV1p-oE"
      },
      "source": [
        "model.fit(train_features, train_labels, batch_size=100, epochs=30, validation_data=(validation_features, validation_labels))"
      ],
      "execution_count": null,
      "outputs": []
    },
    {
      "cell_type": "code",
      "metadata": {
        "id": "0YJRbwMLqej0"
      },
      "source": [
        "import matplotlib.pyplot as plt"
      ],
      "execution_count": null,
      "outputs": []
    },
    {
      "cell_type": "code",
      "metadata": {
        "id": "j2YqKq2zqeTk"
      },
      "source": [
        "plt.plot(history.history['accuracy'], 'bo', label=\"accuracy\")\n",
        "plt.plot(history.history['val_accuracy'], 'b', label=\"val_accuracy\")\n",
        "plt.legend()\n",
        "plt.show()"
      ],
      "execution_count": null,
      "outputs": []
    },
    {
      "cell_type": "code",
      "metadata": {
        "id": "dOIVDQEnyVyG"
      },
      "source": [
        "for X_batch, y_batch in X_train:\n",
        "  print( (X_batch.shape, y_batch.shape) )\n",
        "  print( y_batch )\n",
        "  break"
      ],
      "execution_count": null,
      "outputs": []
    },
    {
      "cell_type": "code",
      "metadata": {
        "id": "CpS66jseyWrR"
      },
      "source": [
        "history = model.fit_generator(X_train,\n",
        "                              steps_per_epoch=100,\n",
        "                              epochs=30,\n",
        "                              validation_data=X_valid,\n",
        "                              validation_steps=50)"
      ],
      "execution_count": null,
      "outputs": []
    },
    {
      "cell_type": "code",
      "metadata": {
        "id": "FOR5JQ8oMuBe"
      },
      "source": [
        "history.history.keys()"
      ],
      "execution_count": null,
      "outputs": []
    },
    {
      "cell_type": "code",
      "metadata": {
        "id": "nqiFyeEvMyyd"
      },
      "source": [
        "import matplotlib.pyplot as plt"
      ],
      "execution_count": null,
      "outputs": []
    },
    {
      "cell_type": "code",
      "metadata": {
        "id": "b7EaVnO4M3ep"
      },
      "source": [
        "plt.plot(history.history['accuracy'], 'bo', label=\"accuracy\")\n",
        "plt.plot(history.history['val_accuracy'], 'b', label=\"val_accuracy\")\n",
        "plt.legend()\n",
        "plt.show()"
      ],
      "execution_count": null,
      "outputs": []
    },
    {
      "cell_type": "code",
      "metadata": {
        "id": "X3fiBtj5NwV1"
      },
      "source": [
        ""
      ],
      "execution_count": null,
      "outputs": []
    },
    {
      "cell_type": "code",
      "metadata": {
        "id": "PmbHqycONw7G"
      },
      "source": [
        "# 이미지 증식\n",
        "train_generator2 = ImageDataGenerator(rescale=1/255,\n",
        "                                      rotation_range=40,\n",
        "                                      width_shift_range=0.2,\n",
        "                                      height_shift_range=0.2,\n",
        "                                      shear_range=0.2,\n",
        "                                      zoom_range=0.2,\n",
        "                                      horizontal_flip=True,\n",
        "                                      fill_mode='nearest')\n",
        "test_generator2 = ImageDataGenerator(rescale=1/255,\n",
        "                                     rotation_range=40,\n",
        "                                     width_shift_range=0.2,\n",
        "                                     height_shift_range=0.2,\n",
        "                                     shear_range=0.2,\n",
        "                                     zoom_range=0.2,\n",
        "                                     horizontal_flip=True,\n",
        "                                     fill_mode='nearest')\n"
      ],
      "execution_count": null,
      "outputs": []
    },
    {
      "cell_type": "code",
      "metadata": {
        "id": "30yq-jV6PLM9"
      },
      "source": [
        "X_train2 = train_generator2.flow_from_directory(directory='drive/MyDrive/data-files/cats_and_dogs2/train',\n",
        "                                                target_size=(150, 150),\n",
        "                                                batch_size=20,\n",
        "                                                class_mode=\"binary\") #\n",
        "\n",
        "X_valid2 = test_generator2.flow_from_directory(directory='drive/MyDrive/data-files/cats_and_dogs2/validation',\n",
        "                                               target_size=(150, 150),\n",
        "                                               batch_size=20,\n",
        "                                               class_mode=\"binary\") #"
      ],
      "execution_count": null,
      "outputs": []
    },
    {
      "cell_type": "code",
      "metadata": {
        "id": "mq2HgUnbPnal"
      },
      "source": [
        "from tensorflow.keras.preprocessing import image\n",
        "\n",
        "idx = 0\n",
        "for X, y in X_train:\n",
        "  # print((X.shape, y.shape))\n",
        "  # print(X[0].shape)\n",
        "  for idx in range(4):\n",
        "    plt.imshow(image.array_to_img(X[idx]))\n",
        "    plt.show()\n",
        "  break"
      ],
      "execution_count": null,
      "outputs": []
    },
    {
      "cell_type": "code",
      "metadata": {
        "id": "QqiqE1gOPtgJ"
      },
      "source": [
        "# 이미지 크기 150 x 150 x 3\n",
        "\n",
        "model = keras.Sequential()\n",
        "model.add(keras.layers.Conv2D(filters=32, \n",
        "                              kernel_size=(3, 3),\n",
        "                              padding=\"same\",\n",
        "                              activation=\"relu\",\n",
        "                              input_shape=(150, 150, 3)))\n",
        "model.add(keras.layers.MaxPool2D(pool_size=(2, 2)))\n",
        "model.add(keras.layers.Conv2D(filters=64, \n",
        "                              kernel_size=(3, 3),\n",
        "                              padding=\"same\",\n",
        "                              activation=\"relu\"))\n",
        "model.add(keras.layers.MaxPool2D(pool_size=(2, 2)))\n",
        "model.add(keras.layers.Conv2D(filters=128, \n",
        "                              kernel_size=(3, 3),\n",
        "                              padding=\"same\",\n",
        "                              activation=\"relu\"))\n",
        "model.add(keras.layers.MaxPool2D(pool_size=(2, 2)))\n",
        "model.add(keras.layers.Conv2D(filters=128, \n",
        "                              kernel_size=(3, 3),\n",
        "                              padding=\"same\",\n",
        "                              activation=\"relu\"))\n",
        "model.add(keras.layers.MaxPool2D(pool_size=(2, 2)))\n",
        "\n",
        "model.add(keras.layers.Flatten())\n",
        "model.add(keras.layers.Dense(512, activation=\"relu\"))\n",
        "model.add(keras.layers.Dense(1, activation=\"sigmoid\"))"
      ],
      "execution_count": null,
      "outputs": []
    },
    {
      "cell_type": "code",
      "metadata": {
        "id": "YiNubueXRgyo"
      },
      "source": [
        "model.compile(loss=\"binary_crossentropy\", \n",
        "              optimizer=keras.optimizers.RMSprop(learning_rate=0.0001),\n",
        "              metrics=['accuracy'])"
      ],
      "execution_count": null,
      "outputs": []
    },
    {
      "cell_type": "code",
      "metadata": {
        "id": "eKbStWqWRlkv"
      },
      "source": [
        "history = model.fit_generator(X_train2,\n",
        "                              steps_per_epoch=100,\n",
        "                              epochs=30,\n",
        "                              validation_data=X_valid,\n",
        "                              validation_steps=50)"
      ],
      "execution_count": null,
      "outputs": []
    },
    {
      "cell_type": "code",
      "metadata": {
        "id": "NUaOgxGpVcKB"
      },
      "source": [
        "plt.plot(history.history['accuracy'], 'bo', label=\"accuracy\")\n",
        "plt.plot(history.history['val_accuracy'], 'b', label=\"val_accuracy\")\n",
        "plt.legend()\n",
        "plt.show()"
      ],
      "execution_count": null,
      "outputs": []
    }
  ]
}