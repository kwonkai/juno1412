{
 "cells": [
  {
   "cell_type": "code",
   "execution_count": null,
   "metadata": {},
   "outputs": [],
   "source": [
    "# 라이브러리 설정\n",
    "from tensorflow import keras\n",
    "from sklearn.model_selection import train_test_split\n",
    "\n"
   ]
  },
  {
   "cell_type": "code",
   "execution_count": 23,
   "metadata": {},
   "outputs": [],
   "source": [
    "\n",
    "(train_input, train_target), (test_input, test_target) =\\\n",
    "    keras.datasets.fashion_mnist.load_data()\n",
    "\n",
    "train_scaled = train_input.reshape(-1, 28, 28, 1) / 255.0\n",
    "train_scaled, val_scaled, train_target, val_target = train_test_split(train_scaled, train_target, test_size = 0.2, random_state = 42)"
   ]
  },
  {
   "cell_type": "code",
   "execution_count": 24,
   "metadata": {},
   "outputs": [
    {
     "name": "stdout",
     "output_type": "stream",
     "text": [
      "Model: \"sequential_7\"\n",
      "_________________________________________________________________\n",
      " Layer (type)                Output Shape              Param #   \n",
      "=================================================================\n",
      " conv2d_13 (Conv2D)          (None, 28, 28, 32)        320       \n",
      "                                                                 \n",
      " max_pooling2d_12 (MaxPoolin  (None, 14, 14, 32)       0         \n",
      " g2D)                                                            \n",
      "                                                                 \n",
      " conv2d_14 (Conv2D)          (None, 14, 14, 32)        9248      \n",
      "                                                                 \n",
      " max_pooling2d_13 (MaxPoolin  (None, 7, 7, 32)         0         \n",
      " g2D)                                                            \n",
      "                                                                 \n",
      " conv2d_15 (Conv2D)          (None, 7, 7, 63)          18207     \n",
      "                                                                 \n",
      " max_pooling2d_14 (MaxPoolin  (None, 3, 3, 63)         0         \n",
      " g2D)                                                            \n",
      "                                                                 \n",
      " flatten_4 (Flatten)         (None, 567)               0         \n",
      "                                                                 \n",
      " dense_6 (Dense)             (None, 100)               56800     \n",
      "                                                                 \n",
      " dropout_3 (Dropout)         (None, 100)               0         \n",
      "                                                                 \n",
      " dense_7 (Dense)             (None, 10)                1010      \n",
      "                                                                 \n",
      "=================================================================\n",
      "Total params: 85,585\n",
      "Trainable params: 85,585\n",
      "Non-trainable params: 0\n",
      "_________________________________________________________________\n"
     ]
    }
   ],
   "source": [
    "# 딥러닝 모델시작\n",
    "model = keras.Sequential()\n",
    "\n",
    "# 신경망 1층 \n",
    "model.add(keras.layers.Conv2D(32, kernel_size=3, activation='relu', padding='same', input_shape =(28, 28, 1)))\n",
    "model.add(keras.layers.MaxPooling2D(2))\n",
    "\n",
    "# 신경망 2층\n",
    "model.add(keras.layers.Conv2D(32, kernel_size=3, activation='relu', padding='same', input_shape =(28, 28, 1)))\n",
    "model.add(keras.layers.MaxPooling2D(2))\n",
    "\n",
    "# 1차원 정리\n",
    "model.add(keras.layers.Conv2D(63, kernel_size = 3, activation='relu', padding='same'))\n",
    "model.add(keras.layers.MaxPooling2D(2))\n",
    "\n",
    "# DROPOUT, 과적합 방지\n",
    "model.add(keras.layers.Flatten())\n",
    "model.add(keras.layers.Dense(100, activation='relu'))\n",
    "model.add(keras.layers.Dropout(0.5))\n",
    "model.add(keras.layers.Dense(10, activation= 'softmax'))\n",
    "\n",
    "# 딥러닝 모델 확인\n",
    "model.summary()\n",
    "\n"
   ]
  },
  {
   "cell_type": "code",
   "execution_count": 25,
   "metadata": {},
   "outputs": [
    {
     "name": "stdout",
     "output_type": "stream",
     "text": [
      "You must install pydot (`pip install pydot`) and install graphviz (see instructions at https://graphviz.gitlab.io/download/) for plot_model/model_to_dot to work.\n"
     ]
    }
   ],
   "source": [
    "keras.utils.plot_model(model, show_shapes=True, to_file='cnn.png', dpi=300)"
   ]
  },
  {
   "cell_type": "code",
   "execution_count": 28,
   "metadata": {},
   "outputs": [
    {
     "name": "stdout",
     "output_type": "stream",
     "text": [
      "Epoch 1/10\n",
      "1600/1600 [==============================] - 34s 21ms/step - loss: 0.3805 - accuracy: 0.8642 - val_loss: 0.3075 - val_accuracy: 0.8862\n",
      "Epoch 2/10\n",
      "1600/1600 [==============================] - 33s 21ms/step - loss: 0.3290 - accuracy: 0.8804 - val_loss: 0.2934 - val_accuracy: 0.8896\n",
      "Epoch 3/10\n",
      "1600/1600 [==============================] - 33s 20ms/step - loss: 0.2953 - accuracy: 0.8939 - val_loss: 0.2673 - val_accuracy: 0.9016\n",
      "Epoch 4/10\n",
      "1600/1600 [==============================] - 33s 20ms/step - loss: 0.2706 - accuracy: 0.9019 - val_loss: 0.2517 - val_accuracy: 0.9062\n",
      "Epoch 5/10\n",
      "1600/1600 [==============================] - 33s 20ms/step - loss: 0.2563 - accuracy: 0.9074 - val_loss: 0.2436 - val_accuracy: 0.9113\n",
      "Epoch 6/10\n",
      "1600/1600 [==============================] - 33s 21ms/step - loss: 0.2343 - accuracy: 0.9143 - val_loss: 0.2498 - val_accuracy: 0.9087\n",
      "Epoch 7/10\n",
      "1600/1600 [==============================] - 33s 20ms/step - loss: 0.2239 - accuracy: 0.9178 - val_loss: 0.2461 - val_accuracy: 0.9097\n"
     ]
    }
   ],
   "source": [
    "# 모델컴파일과 훈련하기\n",
    "model.compile(optimizer='adam', loss='sparse_categorical_crossentropy', metrics='accuracy')\n",
    "\n",
    "checkpoint_cb = keras.callbacks.ModelCheckpoint('best_cnn_model.h5', save_best_only=True)\n",
    "\n",
    "early_point_cb = keras.callbacks.EarlyStopping(patience=2, restore_best_weights=True)\n",
    "\n",
    "history = model.fit(train_scaled, train_target, epochs=10, batch_size = 30, validation_data=(val_scaled, val_target), callbacks=[checkpoint_cb, early_point_cb])\n",
    "\n"
   ]
  },
  {
   "cell_type": "code",
   "execution_count": 33,
   "metadata": {},
   "outputs": [
    {
     "data": {
      "image/png": "[encoded data removed]",
      "text/plain": [
       "<Figure size 432x288 with 1 Axes>"
      ]
     },
     "metadata": {
      "needs_background": "light"
     },
     "output_type": "display_data"
    },
    {
     "name": "stdout",
     "output_type": "stream",
     "text": [
      "375/375 [==============================] - 3s 8ms/step - loss: 0.2436 - accuracy: 0.9113\n"
     ]
    },
    {
     "data": {
      "image/png": "[encoded data removed]",
      "text/plain": [
       "<Figure size 432x288 with 1 Axes>"
      ]
     },
     "metadata": {
      "needs_background": "light"
     },
     "output_type": "display_data"
    }
   ],
   "source": [
    "# CNN 시각화\n",
    "import matplotlib.pyplot as plt\n",
    "plt.plot(history.history['loss'])\n",
    "plt.plot(history.history['val_loss'])\n",
    "plt.xlabel('epoch')\n",
    "plt.ylabel('loss')\n",
    "plt.legend(['train', 'val'])\n",
    "plt.show()\n",
    "\n",
    "# 모델평가\n",
    "model.evaluate(val_scaled, val_target)\n",
    "\n",
    "# 모델 시각화\n",
    "plt.imshow(val_scaled[0].reshape(28,28), cmap='gray_r')\n",
    "plt.show()"
   ]
  },
  {
   "cell_type": "code",
   "execution_count": 35,
   "metadata": {},
   "outputs": [
    {
     "name": "stdout",
     "output_type": "stream",
     "text": [
      "[[2.1342981e-13 1.5083082e-21 3.9005341e-17 2.2933369e-18 4.6941926e-14\n",
      "  5.4108743e-17 3.8502401e-14 1.2329383e-15 1.0000000e+00 5.7368211e-17]]\n"
     ]
    },
    {
     "data": {
      "image/png": "[encoded data removed]",
      "text/plain": [
       "<Figure size 432x288 with 1 Axes>"
      ]
     },
     "metadata": {
      "needs_background": "light"
     },
     "output_type": "display_data"
    }
   ],
   "source": [
    "# 모델 예측치\n",
    "predict = model.predict(val_scaled[0:1])\n",
    "print(predict)\n",
    "\n",
    "# 모델 시각화\n",
    "plt.bar(range(1,11), predict[0])\n",
    "plt.xlabel('class')\n",
    "plt.ylabel('prob.')\n",
    "plt.show()"
   ]
  },
  {
   "cell_type": "code",
   "execution_count": 36,
   "metadata": {},
   "outputs": [
    {
     "name": "stdout",
     "output_type": "stream",
     "text": [
      "가방\n",
      "313/313 [==============================] - 3s 9ms/step - loss: 0.2527 - accuracy: 0.9087\n"
     ]
    },
    {
     "data": {
      "text/plain": [
       "[0.25274857878685, 0.9086999893188477]"
      ]
     },
     "execution_count": 36,
     "metadata": {},
     "output_type": "execute_result"
    }
   ],
   "source": [
    "classes = ['티셔츠', '바지', '스웨터', '드레스', '코트', '샌달', '셔츠', '스니커즈', '가방','앵클부츠']\n",
    "\n",
    "import numpy as np\n",
    "print(classes[np.argmax(predict)])\n",
    "\n",
    "test_scaled = test_input.reshape(-1, 28, 28, 1) / 255.0\n",
    "\n",
    "model.evaluate(test_scaled, test_target)"
   ]
  }
 ],
 "metadata": {
  "interpreter": {
   "hash": "3b3208a1a20c15873d54e9f27721a66999f0427ad688c75979d474533963db07"
  },
  "kernelspec": {
   "display_name": "Python 3.9.11 64-bit ('pyenv2': conda)",
   "name": "python3"
  },
  "language_info": {
   "codemirror_mode": {
    "name": "ipython",
    "version": 3
   },
   "file_extension": ".py",
   "mimetype": "text/x-python",
   "name": "python",
   "nbconvert_exporter": "python",
   "pygments_lexer": "ipython3",
   "version": "3.9.7"
  },
  "orig_nbformat": 4
 },
 "nbformat": 4,
 "nbformat_minor": 2
}
