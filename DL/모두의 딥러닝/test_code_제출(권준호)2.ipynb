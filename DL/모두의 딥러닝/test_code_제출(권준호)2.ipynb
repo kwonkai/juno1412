{
  "cells": [
    {
      "cell_type": "code",
      "execution_count": 76,
      "metadata": {
        "id": "PFaoXbMS5rwl"
      },
      "outputs": [],
      "source": [
        "# 1.라이브러리 불러오기\n",
        "import pandas as pd\n",
        "import numpy as np\n",
        "\n",
        "import tensorflow as tf\n",
        "from sklearn.preprocessing import LabelEncoder\n",
        "from tensorflow import keras\n",
        "from keras.models import Sequential\n",
        "from tensorflow.keras.optimizers import Adam\n",
        "from tensorflow.keras.layers import Dense"
      ]
    },
    {
      "cell_type": "code",
      "execution_count": 77,
      "metadata": {
        "id": "UF6qnr9150a0"
      },
      "outputs": [],
      "source": [
        "# 2. 데이터 불러오기\n",
        "train_df = pd.read_csv(r'C:\\Users\\kwonk\\Downloads\\개인 프로젝트\\juno1412-1\\DL\\모두의 딥러닝\\ml_10_medicalalert_train.csv')\n",
        "test_df = pd.read_csv(r'C:\\Users\\kwonk\\Downloads\\개인 프로젝트\\juno1412-1\\DL\\모두의 딥러닝\\ml_10_medicalalert_test.csv')\n",
        "\n",
        "# 데이터 체크\n",
        "train_df.head()\n",
        "test_df.head()"
      ]
    },
    {
      "cell_type": "code",
      "execution_count": null,
      "metadata": {
        "colab": {
          "base_uri": "https://localhost:8080/",
          "height": 206
        },
        "id": "wMBWymHD569Z",
        "outputId": "c91b7297-4a3b-4fdb-b9cf-487efa52f2c0"
      },
      "outputs": [],
      "source": [
        "# 3. 데이터 전처리\n",
        "# 3-1. train_set 전처리\n",
        "# string data labeling\n",
        "train_df = train_df.replace({'gender': {'M':0,'F':1}, 'alert' : {'Yes':0, 'No':1}}).fillna(0.0)\n",
        "\n",
        "# patientid, timestamp 제거 모델 예측에 필요없음\n",
        "train_df2 = train_df.drop(columns = ['patientid', 'timestamp'], axis=1)\n",
        "\n",
        "# object data type -> float변경\n",
        "# model input\n",
        "train_df2 = train_df2.apply(pd.to_numeric, errors='coerce').fillna(0.0)\n",
        "train_df2 = train_df2.values\n",
        "\n"
      ]
    },
    {
      "cell_type": "code",
      "execution_count": null,
      "metadata": {},
      "outputs": [],
      "source": [
        "# 3-2. test_set 젙처리\n",
        "# string data labeling\n",
        "test_df = test_df.replace({'gender': {'M':0,'F':1}, 'alert' : {'Yes':0, 'No':1}}).fillna(0.0)\n",
        "\n",
        "# patientid, timestamp 제거 모델 예측에 필요없음\n",
        "test_df2 = test_df.drop(columns = ['patientid', 'timestamp'], axis=1)\n",
        "\n",
        "# object data type -> float변경\n",
        "# model input\n",
        "test_df2 = test_df2.apply(pd.to_numeric, errors='coerce').fillna(0.0)\n",
        "# id를 인덱스로 설정\n",
        "test_df2 = test_df2.set_index('id')\n",
        "test_df2 = test_df2.values"
      ]
    },
    {
      "cell_type": "code",
      "execution_count": null,
      "metadata": {
        "colab": {
          "base_uri": "https://localhost:8080/",
          "height": 206
        },
        "id": "cJLLffcU6BRz",
        "outputId": "c75fc308-2c66-45a0-a4d3-ae751a6a98df"
      },
      "outputs": [],
      "source": [
        "# 3-3. input-output data 전처리\n",
        "x = train_df2[:,0:14]\n",
        "\n",
        "# 3-2. 데이터 라벨링\n",
        "y = train_df2[:,14]\n",
        "e = LabelEncoder() # 각 class 문자열 -> 숫자로 변환\n",
        "e.fit(y)\n",
        "y_label = e.transform(y)\n"
      ]
    },
    {
      "cell_type": "code",
      "execution_count": 80,
      "metadata": {},
      "outputs": [],
      "source": [
        "# 모델\n",
        "# 4. 모델\n",
        "model = Sequential()\n",
        "model.add(Dense(32, input_dim=14, activation ='relu'))\n",
        "model.add(Dense(32, activation ='relu'))\n",
        "model.add(Dense(16, activation ='relu'))\n",
        "model.add(Dense(1, activation ='sigmoid'))\n",
        "\n",
        "model.compile(loss='binary_crossentropy', optimizer = 'adam', metrics=['acc'])\n",
        "\n",
        "# adam에서 최고성능 98.88% 정확도 수렴 -> epoch 10\n",
        "model.fit(x, y_label, epochs=10, batch_size =50, validation_split=0.2)"
      ]
    },
    {
      "cell_type": "code",
      "execution_count": 81,
      "metadata": {},
      "outputs": [],
      "source": [
        "# test_data 예측값 도출\n",
        "test_df['pred'] = model.predict(test_df2)\n",
        "test_df['pred'].to_csv(r'C:\\Users\\kwonk\\Downloads\\개인 프로젝트\\juno1412-1\\DL\\test_result.csv')\n",
        "\n",
        "print('done')"
      ]
    }
  ],
  "metadata": {
    "colab": {
      "provenance": []
    },
    "kernelspec": {
      "display_name": "Python 3",
      "name": "python3"
    },
    "language_info": {
      "codemirror_mode": {
        "name": "ipython",
        "version": 3
      },
      "file_extension": ".py",
      "mimetype": "text/x-python",
      "name": "python",
      "nbconvert_exporter": "python",
      "pygments_lexer": "ipython3",
      "version": "3.8.15"
    }
  },
  "nbformat": 4,
  "nbformat_minor": 0
}
