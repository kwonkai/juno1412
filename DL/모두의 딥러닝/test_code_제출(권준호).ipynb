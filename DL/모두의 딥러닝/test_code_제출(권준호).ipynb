{
  "cells": [
    {
      "cell_type": "code",
      "execution_count": 15,
      "metadata": {
        "id": "PFaoXbMS5rwl"
      },
      "outputs": [],
      "source": [
        "# 1.라이브러리 불러오기\n",
        "import pandas as pd\n",
        "import numpy as np\n",
        "\n",
        "import tensorflow as tf\n",
        "from sklearn.preprocessing import LabelEncoder\n",
        "from tensorflow import keras\n",
        "from keras.models import Sequential\n",
        "from tensorflow.keras.optimizers import Adam\n",
        "from tensorflow.keras.layers import Dense"
      ]
    },
    {
      "cell_type": "code",
      "execution_count": 16,
      "metadata": {
        "id": "UF6qnr9150a0"
      },
      "outputs": [
        {
          "data": {
            "text/html": [
              "<div>\n",
              "<style scoped>\n",
              "    .dataframe tbody tr th:only-of-type {\n",
              "        vertical-align: middle;\n",
              "    }\n",
              "\n",
              "    .dataframe tbody tr th {\n",
              "        vertical-align: top;\n",
              "    }\n",
              "\n",
              "    .dataframe thead th {\n",
              "        text-align: right;\n",
              "    }\n",
              "</style>\n",
              "<table border=\"1\" class=\"dataframe\">\n",
              "  <thead>\n",
              "    <tr style=\"text-align: right;\">\n",
              "      <th></th>\n",
              "      <th>id</th>\n",
              "      <th>patientid</th>\n",
              "      <th>timestamp</th>\n",
              "      <th>gender</th>\n",
              "      <th>age</th>\n",
              "      <th>di</th>\n",
              "      <th>copd</th>\n",
              "      <th>chf</th>\n",
              "      <th>ht</th>\n",
              "      <th>afib</th>\n",
              "      <th>w</th>\n",
              "      <th>pw</th>\n",
              "      <th>bps</th>\n",
              "      <th>bpd</th>\n",
              "      <th>spo2</th>\n",
              "      <th>hr</th>\n",
              "      <th>gl</th>\n",
              "    </tr>\n",
              "  </thead>\n",
              "  <tbody>\n",
              "    <tr>\n",
              "      <th>0</th>\n",
              "      <td>1</td>\n",
              "      <td>986452681195952909</td>\n",
              "      <td>2015-07-28 16:56:36</td>\n",
              "      <td>F</td>\n",
              "      <td>75</td>\n",
              "      <td>1.0</td>\n",
              "      <td>0</td>\n",
              "      <td>0.0</td>\n",
              "      <td>1</td>\n",
              "      <td>1</td>\n",
              "      <td>62.595696</td>\n",
              "      <td>62.595696</td>\n",
              "      <td>108.0</td>\n",
              "      <td>75.0</td>\n",
              "      <td>97.0</td>\n",
              "      <td>85.0</td>\n",
              "      <td>208.0</td>\n",
              "    </tr>\n",
              "    <tr>\n",
              "      <th>1</th>\n",
              "      <td>2</td>\n",
              "      <td>279227943463908135</td>\n",
              "      <td>2015-07-19 18:04:45</td>\n",
              "      <td>F</td>\n",
              "      <td>60</td>\n",
              "      <td>1.0</td>\n",
              "      <td>1</td>\n",
              "      <td>0.0</td>\n",
              "      <td>1</td>\n",
              "      <td>1</td>\n",
              "      <td>104.779752</td>\n",
              "      <td>104.280801</td>\n",
              "      <td>176.0</td>\n",
              "      <td>99.0</td>\n",
              "      <td>96.0</td>\n",
              "      <td>81.0</td>\n",
              "      <td>NaN</td>\n",
              "    </tr>\n",
              "    <tr>\n",
              "      <th>2</th>\n",
              "      <td>3</td>\n",
              "      <td>190474597341608800</td>\n",
              "      <td>2015-08-11 0:10:17</td>\n",
              "      <td>M</td>\n",
              "      <td>76</td>\n",
              "      <td>0.0</td>\n",
              "      <td>0</td>\n",
              "      <td>0.0</td>\n",
              "      <td>0</td>\n",
              "      <td>0</td>\n",
              "      <td>110.676448</td>\n",
              "      <td>107.954896</td>\n",
              "      <td>139.0</td>\n",
              "      <td>85.0</td>\n",
              "      <td>NaN</td>\n",
              "      <td>91.0</td>\n",
              "      <td>NaN</td>\n",
              "    </tr>\n",
              "    <tr>\n",
              "      <th>3</th>\n",
              "      <td>4</td>\n",
              "      <td>1059985795439793914</td>\n",
              "      <td>2015-07-05 12:42:54</td>\n",
              "      <td>M</td>\n",
              "      <td>79</td>\n",
              "      <td>1.0</td>\n",
              "      <td>0</td>\n",
              "      <td>1.0</td>\n",
              "      <td>1</td>\n",
              "      <td>0</td>\n",
              "      <td>103.917930</td>\n",
              "      <td>102.511792</td>\n",
              "      <td>114.0</td>\n",
              "      <td>46.0</td>\n",
              "      <td>92.0</td>\n",
              "      <td>77.0</td>\n",
              "      <td>84.0</td>\n",
              "    </tr>\n",
              "    <tr>\n",
              "      <th>4</th>\n",
              "      <td>5</td>\n",
              "      <td>533141523892671381</td>\n",
              "      <td>2015-07-02 16:05:42</td>\n",
              "      <td>M</td>\n",
              "      <td>80</td>\n",
              "      <td>1.0</td>\n",
              "      <td>0</td>\n",
              "      <td>0.0</td>\n",
              "      <td>1</td>\n",
              "      <td>1</td>\n",
              "      <td>55.519661</td>\n",
              "      <td>55.701098</td>\n",
              "      <td>111.0</td>\n",
              "      <td>57.0</td>\n",
              "      <td>95.0</td>\n",
              "      <td>71.0</td>\n",
              "      <td>124.0</td>\n",
              "    </tr>\n",
              "  </tbody>\n",
              "</table>\n",
              "</div>"
            ],
            "text/plain": [
              "   id            patientid            timestamp gender  age   di  copd  chf  \\\n",
              "0   1   986452681195952909  2015-07-28 16:56:36      F   75  1.0     0  0.0   \n",
              "1   2   279227943463908135  2015-07-19 18:04:45      F   60  1.0     1  0.0   \n",
              "2   3   190474597341608800   2015-08-11 0:10:17      M   76  0.0     0  0.0   \n",
              "3   4  1059985795439793914  2015-07-05 12:42:54      M   79  1.0     0  1.0   \n",
              "4   5   533141523892671381  2015-07-02 16:05:42      M   80  1.0     0  0.0   \n",
              "\n",
              "   ht  afib           w          pw    bps   bpd  spo2    hr     gl  \n",
              "0   1     1   62.595696   62.595696  108.0  75.0  97.0  85.0  208.0  \n",
              "1   1     1  104.779752  104.280801  176.0  99.0  96.0  81.0    NaN  \n",
              "2   0     0  110.676448  107.954896  139.0  85.0   NaN  91.0    NaN  \n",
              "3   1     0  103.917930  102.511792  114.0  46.0  92.0  77.0   84.0  \n",
              "4   1     1   55.519661   55.701098  111.0  57.0  95.0  71.0  124.0  "
            ]
          },
          "execution_count": 16,
          "metadata": {},
          "output_type": "execute_result"
        }
      ],
      "source": [
        "# 2. 데이터 불러오기\n",
        "train_df = pd.read_csv(r'C:\\Users\\kwonk\\Downloads\\개인 프로젝트\\juno1412-1\\DL\\모두의 딥러닝\\ml_10_medicalalert_train.csv')\n",
        "test_df = pd.read_csv(r'C:\\Users\\kwonk\\Downloads\\개인 프로젝트\\juno1412-1\\DL\\모두의 딥러닝\\ml_10_medicalalert_test.csv')\n",
        "\n",
        "# 데이터 체크\n",
        "train_df.head()\n",
        "test_df.head()"
      ]
    },
    {
      "cell_type": "code",
      "execution_count": 17,
      "metadata": {
        "colab": {
          "base_uri": "https://localhost:8080/",
          "height": 206
        },
        "id": "wMBWymHD569Z",
        "outputId": "c91b7297-4a3b-4fdb-b9cf-487efa52f2c0"
      },
      "outputs": [],
      "source": [
        "# 3. 데이터 전처리\n",
        "# 3-1. train_set 전처리\n",
        "# string data labeling\n",
        "train_df = train_df.replace({'gender': {'M':0,'F':1}, 'alert' : {'Yes':0, 'No':1}}).fillna(0.0)\n",
        "\n",
        "# patientid, timestamp 제거 모델 예측에 필요없음\n",
        "train_df2 = train_df.drop(columns = ['patientid', 'timestamp'], axis=1)\n",
        "\n",
        "# object data type -> float변경\n",
        "# model input\n",
        "train_df2 = train_df2.apply(pd.to_numeric, errors='coerce').fillna(0.0)\n",
        "train_df2 = train_df2.values\n",
        "\n"
      ]
    },
    {
      "cell_type": "code",
      "execution_count": 18,
      "metadata": {},
      "outputs": [],
      "source": [
        "# 3-2. test_set 젙처리\n",
        "# string data labeling\n",
        "test_df = test_df.replace({'gender': {'M':0,'F':1}, 'alert' : {'Yes':0, 'No':1}}).fillna(0.0)\n",
        "\n",
        "# patientid, timestamp 제거 모델 예측에 필요없음\n",
        "test_df2 = test_df.drop(columns = ['patientid', 'timestamp'], axis=1)\n",
        "\n",
        "# object data type -> float변경\n",
        "# model input\n",
        "test_df2 = test_df2.apply(pd.to_numeric, errors='coerce').fillna(0.0)\n",
        "# id를 인덱스로 설정\n",
        "test_df2 = test_df2.set_index('id')\n",
        "test_df2 = test_df2.values"
      ]
    },
    {
      "cell_type": "code",
      "execution_count": 19,
      "metadata": {
        "colab": {
          "base_uri": "https://localhost:8080/",
          "height": 206
        },
        "id": "cJLLffcU6BRz",
        "outputId": "c75fc308-2c66-45a0-a4d3-ae751a6a98df"
      },
      "outputs": [],
      "source": [
        "# 3-3. input-output data 전처리\n",
        "x = train_df2[:,0:14]\n",
        "\n",
        "# 3-2. 데이터 라벨링\n",
        "y = train_df2[:,14]\n",
        "e = LabelEncoder() # 각 class 문자열 -> 숫자로 변환\n",
        "e.fit(y)\n",
        "y_label = e.transform(y)\n"
      ]
    },
    {
      "cell_type": "code",
      "execution_count": 20,
      "metadata": {},
      "outputs": [
        {
          "name": "stdout",
          "output_type": "stream",
          "text": [
            "Epoch 1/10\n",
            "400/400 [==============================] - 3s 4ms/step - loss: 0.6224 - acc: 0.9589 - val_loss: 0.0767 - val_acc: 0.9872\n",
            "Epoch 2/10\n",
            "400/400 [==============================] - 1s 4ms/step - loss: 0.0697 - acc: 0.9869 - val_loss: 0.0736 - val_acc: 0.9882\n",
            "Epoch 3/10\n",
            "400/400 [==============================] - 1s 3ms/step - loss: 0.0641 - acc: 0.9877 - val_loss: 0.0633 - val_acc: 0.9880\n",
            "Epoch 4/10\n",
            "400/400 [==============================] - 1s 4ms/step - loss: 0.0640 - acc: 0.9880 - val_loss: 0.0616 - val_acc: 0.9874\n",
            "Epoch 5/10\n",
            "400/400 [==============================] - 1s 4ms/step - loss: 0.0587 - acc: 0.9885 - val_loss: 0.0614 - val_acc: 0.9880\n",
            "Epoch 6/10\n",
            "400/400 [==============================] - 1s 4ms/step - loss: 0.0581 - acc: 0.9883 - val_loss: 0.0607 - val_acc: 0.9874\n",
            "Epoch 7/10\n",
            "400/400 [==============================] - 2s 4ms/step - loss: 0.0576 - acc: 0.9884 - val_loss: 0.0641 - val_acc: 0.9876\n",
            "Epoch 8/10\n",
            "400/400 [==============================] - 1s 4ms/step - loss: 0.0610 - acc: 0.9883 - val_loss: 0.0647 - val_acc: 0.9880\n",
            "Epoch 9/10\n",
            "400/400 [==============================] - 1s 4ms/step - loss: 0.0568 - acc: 0.9886 - val_loss: 0.0594 - val_acc: 0.9876\n",
            "Epoch 10/10\n",
            "400/400 [==============================] - 1s 3ms/step - loss: 0.0565 - acc: 0.9887 - val_loss: 0.0573 - val_acc: 0.9874\n"
          ]
        },
        {
          "data": {
            "text/plain": [
              "<keras.callbacks.History at 0x24e05309280>"
            ]
          },
          "execution_count": 20,
          "metadata": {},
          "output_type": "execute_result"
        }
      ],
      "source": [
        "# 모델\n",
        "# 4. 모델\n",
        "model = Sequential()\n",
        "model.add(Dense(32, input_dim=14, activation ='relu'))\n",
        "model.add(Dense(32, activation ='relu'))\n",
        "model.add(Dense(16, activation ='relu'))\n",
        "model.add(Dense(1, activation ='sigmoid'))\n",
        "\n",
        "model.compile(loss='binary_crossentropy', optimizer = 'adam', metrics=['acc'])\n",
        "\n",
        "# adam에서 최고성능 98.88% 정확도 수렴 -> epoch 10\n",
        "model.fit(x, y_label, epochs=10, batch_size =50, validation_split=0.2)"
      ]
    },
    {
      "cell_type": "code",
      "execution_count": 26,
      "metadata": {},
      "outputs": [
        {
          "name": "stdout",
          "output_type": "stream",
          "text": [
            "223/223 [==============================] - 1s 3ms/step\n",
            "done\n"
          ]
        }
      ],
      "source": [
        "# test_data 예측값 도출\n",
        "test_df['alert'] = model.predict(test_df2)\n",
        "test_df['alert'].to_csv(r'C:\\Users\\kwonk\\Downloads\\개인 프로젝트\\juno1412-1\\DL\\모두의 딥러닝\\test_result.csv', index=False)\n",
        "\n",
        "print('done')"
      ]
    }
  ],
  "metadata": {
    "colab": {
      "provenance": []
    },
    "kernelspec": {
      "display_name": "Python 3",
      "name": "python3"
    },
    "language_info": {
      "codemirror_mode": {
        "name": "ipython",
        "version": 3
      },
      "file_extension": ".py",
      "mimetype": "text/x-python",
      "name": "python",
      "nbconvert_exporter": "python",
      "pygments_lexer": "ipython3",
      "version": "3.8.15"
    }
  },
  "nbformat": 4,
  "nbformat_minor": 0
}
