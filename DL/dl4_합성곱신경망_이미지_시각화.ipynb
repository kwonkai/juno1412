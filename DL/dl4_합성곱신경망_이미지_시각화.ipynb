{
 "cells": [
  {
   "cell_type": "code",
   "execution_count": 3,
   "metadata": {},
   "outputs": [],
   "source": [
    "# 라이브러리 설정\n",
    "from tensorflow import keras\n",
    "from sklearn.model_selection import train_test_split\n",
    "\n"
   ]
  },
  {
   "cell_type": "code",
   "execution_count": 10,
   "metadata": {},
   "outputs": [
    {
     "data": {
      "text/plain": [
       "[<keras.layers.convolutional.Conv2D at 0x27f00a651f0>,\n",
       " <keras.layers.pooling.MaxPooling2D at 0x27f00a598e0>,\n",
       " <keras.layers.convolutional.Conv2D at 0x27f00ac61c0>,\n",
       " <keras.layers.pooling.MaxPooling2D at 0x27f00ac6280>,\n",
       " <keras.layers.convolutional.Conv2D at 0x27f00ad44c0>,\n",
       " <keras.layers.pooling.MaxPooling2D at 0x27f00ad69d0>,\n",
       " <keras.layers.core.flatten.Flatten at 0x27f00ac1c70>,\n",
       " <keras.layers.core.dense.Dense at 0x27f00ad4a90>,\n",
       " <keras.layers.core.dropout.Dropout at 0x27f00ad5d90>,\n",
       " <keras.layers.core.dense.Dense at 0x27f00adb580>]"
      ]
     },
     "execution_count": 10,
     "metadata": {},
     "output_type": "execute_result"
    }
   ],
   "source": [
    "# 모델 불러오기 & layers 확인하기\n",
    "model = keras.models.load_model('C:/Users/kwonk/Downloads/개인 프로젝트/juno1412-1/DL/best_cnn_model.h5')\n",
    "model.layers"
   ]
  },
  {
   "cell_type": "code",
   "execution_count": 13,
   "metadata": {},
   "outputs": [
    {
     "name": "stdout",
     "output_type": "stream",
     "text": [
      "(3, 3, 1, 32) (32,)\n",
      "-0.034497086 0.25352186\n"
     ]
    }
   ],
   "source": [
    "# 커널 & 커널 가중치 확인하기\n",
    "conv = model.layers[0]\n",
    "print(conv.weights[0].shape, conv.weights[1].shape)\n",
    "\n",
    "# 커널 가중치 평균값 & 표준편차\n",
    "conv_weights = conv.weights[0].numpy()\n",
    "print(conv_weights.mean(), conv_weights.std())"
   ]
  },
  {
   "cell_type": "code",
   "execution_count": 17,
   "metadata": {},
   "outputs": [
    {
     "data": {
      "image/png": "[encoded data removed]",
      "text/plain": [
       "<Figure size 432x288 with 1 Axes>"
      ]
     },
     "metadata": {
      "needs_background": "light"
     },
     "output_type": "display_data"
    }
   ],
   "source": [
    "# 커널 가중치 시각화\n",
    "import matplotlib.pyplot as plt\n",
    "\n",
    "# hist = 1차원 그래프\n",
    "# reshape (-1, 1)로 1차원으로 변경 후 그래프 시각화\n",
    "plt.hist(conv_weights.reshape(-1,1))\n",
    "plt.xlabel('weight')\n",
    "plt.ylabel('count')\n",
    "plt.show()"
   ]
  },
  {
   "cell_type": "code",
   "execution_count": 18,
   "metadata": {},
   "outputs": [
    {
     "data": {
      "image/png": "[encoded data removed]",
      "text/plain": [
       "<Figure size 1080x144 with 32 Axes>"
      ]
     },
     "metadata": {
      "needs_background": "light"
     },
     "output_type": "display_data"
    }
   ],
   "source": [
    "# 32개의커널 2x16형식으로 출력해보기\n",
    "fig, axs = plt.subplots(2, 16, figsize=(15,2))\n",
    "\n",
    "# i*16번째+j번째 순회 후, 가중치값 차례로 출력\n",
    "# i = 행인덱스, j = 열 인덱스\n",
    "for i in range(2):\n",
    "    for j in range(16):\n",
    "        axs[i,j].imshow(conv_weights[:,:,0,i*16 + j], vmin=-0.5, vmax=0.5)\n",
    "        axs[i,j].axis('off')\n",
    "plt.show()"
   ]
  },
  {
   "cell_type": "code",
   "execution_count": 20,
   "metadata": {},
   "outputs": [
    {
     "name": "stdout",
     "output_type": "stream",
     "text": [
      "(3, 3, 1, 32)\n",
      "-0.008140376 0.08234751\n"
     ]
    },
    {
     "data": {
      "image/png": "[encoded data removed]",
      "text/plain": [
       "<Figure size 432x288 with 1 Axes>"
      ]
     },
     "metadata": {
      "needs_background": "light"
     },
     "output_type": "display_data"
    }
   ],
   "source": [
    "# 훈련되지 않은 합성곱 신경망\n",
    "no_train_model = keras.Sequential()\n",
    "no_train_model.add(keras.layers.Conv2D(32, kernel_size=3, activation='relu', padding='same', input_shape=(28,28,1)))\n",
    "\n",
    "no_train_conv = no_train_model.layers[0]\n",
    "print(no_train_conv.weights[0].shape)\n",
    "\n",
    "no_train_weights = no_train_conv.weights[0].numpy()\n",
    "print(no_train_weights.mean(), no_train_weights.std())\n",
    "\n",
    "plt.hist(no_train_weights.reshape(-1,1))\n",
    "plt.xlabel('weight')\n",
    "plt.ylabel('count')\n",
    "plt.show()\n",
    "\n",
    "\n",
    "\n"
   ]
  },
  {
   "cell_type": "code",
   "execution_count": 21,
   "metadata": {},
   "outputs": [
    {
     "data": {
      "image/png": "[encoded data removed]",
      "text/plain": [
       "<Figure size 1080x144 with 32 Axes>"
      ]
     },
     "metadata": {
      "needs_background": "light"
     },
     "output_type": "display_data"
    }
   ],
   "source": [
    "# 훈련하지 않은 데이터 커널 출력하기\n",
    "# 32개의커널 2x16형식으로 출력해보기\n",
    "fig, axs = plt.subplots(2, 16, figsize=(15,2))\n",
    "\n",
    "# i*16번째+j번째 순회 후, 가중치값 차례로 출력\n",
    "# i = 행인덱스, j = 열 인덱스\n",
    "for i in range(2):\n",
    "    for j in range(16):\n",
    "        axs[i,j].imshow(no_train_weights[:,:,0,i*16 + j], vmin=-0.5, vmax=0.5)\n",
    "        axs[i,j].axis('off')\n",
    "plt.show()"
   ]
  },
  {
   "cell_type": "code",
   "execution_count": null,
   "metadata": {},
   "outputs": [],
   "source": [
    "# 함수형 API\n",
    "print(model.input)\n",
    "conv_acti = keras.Model(model.input, model.layers[0].output)"
   ]
  },
  {
   "cell_type": "code",
   "execution_count": null,
   "metadata": {},
   "outputs": [],
   "source": [
    "# 특성맵 시각화\n"
   ]
  }
 ],
 "metadata": {
  "interpreter": {
   "hash": "3b3208a1a20c15873d54e9f27721a66999f0427ad688c75979d474533963db07"
  },
  "kernelspec": {
   "display_name": "Python 3.9.11 64-bit ('pyenv2': conda)",
   "name": "python3"
  },
  "language_info": {
   "codemirror_mode": {
    "name": "ipython",
    "version": 3
   },
   "file_extension": ".py",
   "mimetype": "text/x-python",
   "name": "python",
   "nbconvert_exporter": "python",
   "pygments_lexer": "ipython3",
   "version": "3.8.13"
  },
  "orig_nbformat": 4
 },
 "nbformat": 4,
 "nbformat_minor": 2
}
